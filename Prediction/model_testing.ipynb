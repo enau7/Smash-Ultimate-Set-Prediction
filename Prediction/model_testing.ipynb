{
 "cells": [
  {
   "cell_type": "code",
   "execution_count": 24,
   "metadata": {},
   "outputs": [],
   "source": [
    "from sklearn import linear_model\n",
    "from sklearn import tree\n",
    "from sklearn import ensemble\n",
    "from sklearn.pipeline import Pipeline\n",
    "from sklearn.model_selection import train_test_split\n",
    "from sklearn.model_selection import StratifiedKFold\n",
    "from sklearn.model_selection import GridSearchCV\n",
    "from sklearn.model_selection import cross_val_score\n",
    "from sklearn.metrics import accuracy_score\n",
    "from sklearn.metrics import roc_auc_score\n",
    "import statsmodels.api as sm\n",
    "import matplotlib.pyplot as plt\n",
    "import pandas as pd\n",
    "import os\n",
    "import joblib\n",
    "from sklearn.compose import ColumnTransformer\n",
    "# all the same imports as model_fitting.ipynb"
   ]
  },
  {
   "cell_type": "code",
   "execution_count": 5,
   "metadata": {},
   "outputs": [],
   "source": [
    "game_data = pd.read_csv(\"../Data/data/clean_game_data.csv\",dtype={\"p1_id\" : \"string\",\"p2_id\" : \"string\",\"p1_char\" : \"string\", \"p2_char\" : \"string\", \"stage\" : \"string\", \"p1_games_played\" : \"int32\", \"p1_games_won\" : \"int32\", \"p2_games_played\" : \"int32\", \"p2_games_won\" : \"int32\", \"p1_won\" : \"bool\"})\n",
    "game_data = pd.get_dummies(game_data, columns=[\"p1_char\",\"p2_char\",\"stage\"], prefix_sep=\".\", )"
   ]
  },
  {
   "cell_type": "code",
   "execution_count": 9,
   "metadata": {},
   "outputs": [],
   "source": [
    "game_train, game_test = train_test_split(game_data, train_size = 0.8, stratify = game_data[[\"p1_won\"]], random_state=2049)\n",
    "X = game_train.loc[:,game_train.columns != \"p1_won\"]\n",
    "y = game_train[\"p1_won\"]\n",
    "\n",
    "X_test = game_test.loc[:,game_train.columns != \"p1_won\"]\n",
    "y_test = game_test[\"p1_won\"]\n",
    "# We use the same seed so that we get the same testing data as in our model_fitting file. This is important for evaluation."
   ]
  },
  {
   "cell_type": "code",
   "execution_count": 7,
   "metadata": {},
   "outputs": [],
   "source": [
    "# Let's load our models in\n",
    "\n",
    "lm = joblib.load(\"models/logistic_regression.joblib\")\n",
    "en = joblib.load(\"models/elastic_net.joblib\")\n",
    "dtc = joblib.load(\"models/decision_tree.joblib\")"
   ]
  },
  {
   "cell_type": "code",
   "execution_count": 38,
   "metadata": {},
   "outputs": [],
   "source": [
    "def get_metrics(model):\n",
    "    prediction = model.predict(X_test)\n",
    "    actual = y_test\n",
    "    print(\"Metrics for {model}\\n\".format(model=model[-1]))\n",
    "    print(\"Accuracy: %0.4f\" % accuracy_score(prediction,actual))\n",
    "    print(\"ROC_AUC: %0.4f\" % roc_auc_score(prediction,actual))\n",
    "    print(\"\\n\")"
   ]
  },
  {
   "cell_type": "code",
   "execution_count": 39,
   "metadata": {},
   "outputs": [
    {
     "name": "stdout",
     "output_type": "stream",
     "text": [
      "Metrics for LogisticRegression(penalty=None)\n",
      "\n",
      "Accuracy: 0.6434\n",
      "ROC_AUC: 0.6434\n",
      "\n",
      "\n",
      "Metrics for LogisticRegression(C=0.01, l1_ratio=1.0, penalty='elasticnet', solver='saga')\n",
      "\n",
      "Accuracy: 0.6432\n",
      "ROC_AUC: 0.6432\n",
      "\n",
      "\n",
      "Metrics for DecisionTreeClassifier(max_depth=10, min_samples_leaf=10, random_state=42)\n",
      "\n",
      "Accuracy: 0.6481\n",
      "ROC_AUC: 0.6483\n",
      "\n",
      "\n"
     ]
    }
   ],
   "source": [
    "get_metrics(lm)\n",
    "get_metrics(en)\n",
    "get_metrics(dtc)"
   ]
  }
 ],
 "metadata": {
  "kernelspec": {
   "display_name": "Python 3",
   "language": "python",
   "name": "python3"
  },
  "language_info": {
   "codemirror_mode": {
    "name": "ipython",
    "version": 3
   },
   "file_extension": ".py",
   "mimetype": "text/x-python",
   "name": "python",
   "nbconvert_exporter": "python",
   "pygments_lexer": "ipython3",
   "version": "3.9.4"
  },
  "orig_nbformat": 4
 },
 "nbformat": 4,
 "nbformat_minor": 2
}
