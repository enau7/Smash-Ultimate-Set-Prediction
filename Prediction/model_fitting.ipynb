{
 "cells": [
  {
   "cell_type": "code",
   "execution_count": 9,
   "metadata": {},
   "outputs": [],
   "source": [
    "from sklearn import linear_model\n",
    "from sklearn import tree\n",
    "from sklearn import ensemble\n",
    "from sklearn.pipeline import Pipeline\n",
    "from sklearn.model_selection import train_test_split\n",
    "from sklearn.model_selection import StratifiedKFold\n",
    "from sklearn.model_selection import GridSearchCV\n",
    "from sklearn.model_selection import cross_val_score\n",
    "from sklearn.metrics import accuracy_score\n",
    "import statsmodels.api as sm\n",
    "import matplotlib.pyplot as plt\n",
    "import pandas as pd\n",
    "import os\n",
    "import joblib\n",
    "from sklearn.compose import ColumnTransformer\n",
    "from sklearn.preprocessing import PolynomialFeatures"
   ]
  },
  {
   "cell_type": "code",
   "execution_count": 2,
   "metadata": {},
   "outputs": [
    {
     "data": {
      "text/html": [
       "<div>\n",
       "<style scoped>\n",
       "    .dataframe tbody tr th:only-of-type {\n",
       "        vertical-align: middle;\n",
       "    }\n",
       "\n",
       "    .dataframe tbody tr th {\n",
       "        vertical-align: top;\n",
       "    }\n",
       "\n",
       "    .dataframe thead th {\n",
       "        text-align: right;\n",
       "    }\n",
       "</style>\n",
       "<table border=\"1\" class=\"dataframe\">\n",
       "  <thead>\n",
       "    <tr style=\"text-align: right;\">\n",
       "      <th></th>\n",
       "      <th>p1_id</th>\n",
       "      <th>p2_id</th>\n",
       "      <th>p1_won</th>\n",
       "      <th>p1_games_played</th>\n",
       "      <th>p1_games_won</th>\n",
       "      <th>p2_games_played</th>\n",
       "      <th>p2_games_won</th>\n",
       "      <th>p1_char.-1</th>\n",
       "      <th>p1_char.banjokazooie</th>\n",
       "      <th>p1_char.bayonetta</th>\n",
       "      <th>...</th>\n",
       "      <th>stage.Town and City</th>\n",
       "      <th>stage.Unova Pokemon League</th>\n",
       "      <th>stage.Unova Pokémon League</th>\n",
       "      <th>stage.Venom</th>\n",
       "      <th>stage.WarioWare</th>\n",
       "      <th>stage.Wily Castle</th>\n",
       "      <th>stage.Yggdrasil's Altar</th>\n",
       "      <th>stage.Yoshi's Island</th>\n",
       "      <th>stage.Yoshi's Island (Melee)</th>\n",
       "      <th>stage.Yoshi's Story</th>\n",
       "    </tr>\n",
       "  </thead>\n",
       "  <tbody>\n",
       "    <tr>\n",
       "      <th>0</th>\n",
       "      <td>1472816</td>\n",
       "      <td>1075251</td>\n",
       "      <td>False</td>\n",
       "      <td>2</td>\n",
       "      <td>0</td>\n",
       "      <td>23</td>\n",
       "      <td>13</td>\n",
       "      <td>0</td>\n",
       "      <td>0</td>\n",
       "      <td>0</td>\n",
       "      <td>...</td>\n",
       "      <td>0</td>\n",
       "      <td>0</td>\n",
       "      <td>0</td>\n",
       "      <td>0</td>\n",
       "      <td>0</td>\n",
       "      <td>0</td>\n",
       "      <td>0</td>\n",
       "      <td>0</td>\n",
       "      <td>0</td>\n",
       "      <td>0</td>\n",
       "    </tr>\n",
       "    <tr>\n",
       "      <th>1</th>\n",
       "      <td>1075251</td>\n",
       "      <td>1472816</td>\n",
       "      <td>True</td>\n",
       "      <td>23</td>\n",
       "      <td>13</td>\n",
       "      <td>2</td>\n",
       "      <td>0</td>\n",
       "      <td>0</td>\n",
       "      <td>0</td>\n",
       "      <td>0</td>\n",
       "      <td>...</td>\n",
       "      <td>0</td>\n",
       "      <td>0</td>\n",
       "      <td>0</td>\n",
       "      <td>0</td>\n",
       "      <td>0</td>\n",
       "      <td>0</td>\n",
       "      <td>0</td>\n",
       "      <td>0</td>\n",
       "      <td>0</td>\n",
       "      <td>0</td>\n",
       "    </tr>\n",
       "    <tr>\n",
       "      <th>2</th>\n",
       "      <td>challonge__MrRiceman</td>\n",
       "      <td>challonge__Loconotcoco</td>\n",
       "      <td>False</td>\n",
       "      <td>4</td>\n",
       "      <td>1</td>\n",
       "      <td>2</td>\n",
       "      <td>1</td>\n",
       "      <td>0</td>\n",
       "      <td>0</td>\n",
       "      <td>0</td>\n",
       "      <td>...</td>\n",
       "      <td>0</td>\n",
       "      <td>0</td>\n",
       "      <td>0</td>\n",
       "      <td>0</td>\n",
       "      <td>0</td>\n",
       "      <td>0</td>\n",
       "      <td>0</td>\n",
       "      <td>0</td>\n",
       "      <td>0</td>\n",
       "      <td>0</td>\n",
       "    </tr>\n",
       "    <tr>\n",
       "      <th>3</th>\n",
       "      <td>Leo</td>\n",
       "      <td>1272809</td>\n",
       "      <td>True</td>\n",
       "      <td>1</td>\n",
       "      <td>1</td>\n",
       "      <td>102</td>\n",
       "      <td>49</td>\n",
       "      <td>0</td>\n",
       "      <td>0</td>\n",
       "      <td>0</td>\n",
       "      <td>...</td>\n",
       "      <td>0</td>\n",
       "      <td>0</td>\n",
       "      <td>0</td>\n",
       "      <td>0</td>\n",
       "      <td>0</td>\n",
       "      <td>0</td>\n",
       "      <td>0</td>\n",
       "      <td>0</td>\n",
       "      <td>0</td>\n",
       "      <td>0</td>\n",
       "    </tr>\n",
       "    <tr>\n",
       "      <th>4</th>\n",
       "      <td>1034645</td>\n",
       "      <td>1302612</td>\n",
       "      <td>True</td>\n",
       "      <td>77</td>\n",
       "      <td>40</td>\n",
       "      <td>2</td>\n",
       "      <td>0</td>\n",
       "      <td>0</td>\n",
       "      <td>0</td>\n",
       "      <td>0</td>\n",
       "      <td>...</td>\n",
       "      <td>0</td>\n",
       "      <td>0</td>\n",
       "      <td>0</td>\n",
       "      <td>0</td>\n",
       "      <td>0</td>\n",
       "      <td>0</td>\n",
       "      <td>0</td>\n",
       "      <td>0</td>\n",
       "      <td>0</td>\n",
       "      <td>0</td>\n",
       "    </tr>\n",
       "    <tr>\n",
       "      <th>...</th>\n",
       "      <td>...</td>\n",
       "      <td>...</td>\n",
       "      <td>...</td>\n",
       "      <td>...</td>\n",
       "      <td>...</td>\n",
       "      <td>...</td>\n",
       "      <td>...</td>\n",
       "      <td>...</td>\n",
       "      <td>...</td>\n",
       "      <td>...</td>\n",
       "      <td>...</td>\n",
       "      <td>...</td>\n",
       "      <td>...</td>\n",
       "      <td>...</td>\n",
       "      <td>...</td>\n",
       "      <td>...</td>\n",
       "      <td>...</td>\n",
       "      <td>...</td>\n",
       "      <td>...</td>\n",
       "      <td>...</td>\n",
       "      <td>...</td>\n",
       "    </tr>\n",
       "    <tr>\n",
       "      <th>2963854</th>\n",
       "      <td>30896</td>\n",
       "      <td>4702</td>\n",
       "      <td>False</td>\n",
       "      <td>72</td>\n",
       "      <td>51</td>\n",
       "      <td>865</td>\n",
       "      <td>555</td>\n",
       "      <td>0</td>\n",
       "      <td>0</td>\n",
       "      <td>0</td>\n",
       "      <td>...</td>\n",
       "      <td>0</td>\n",
       "      <td>0</td>\n",
       "      <td>0</td>\n",
       "      <td>0</td>\n",
       "      <td>0</td>\n",
       "      <td>0</td>\n",
       "      <td>0</td>\n",
       "      <td>0</td>\n",
       "      <td>0</td>\n",
       "      <td>0</td>\n",
       "    </tr>\n",
       "    <tr>\n",
       "      <th>2963855</th>\n",
       "      <td>4702</td>\n",
       "      <td>30896</td>\n",
       "      <td>True</td>\n",
       "      <td>865</td>\n",
       "      <td>555</td>\n",
       "      <td>72</td>\n",
       "      <td>51</td>\n",
       "      <td>0</td>\n",
       "      <td>0</td>\n",
       "      <td>0</td>\n",
       "      <td>...</td>\n",
       "      <td>0</td>\n",
       "      <td>0</td>\n",
       "      <td>0</td>\n",
       "      <td>0</td>\n",
       "      <td>0</td>\n",
       "      <td>0</td>\n",
       "      <td>0</td>\n",
       "      <td>0</td>\n",
       "      <td>0</td>\n",
       "      <td>0</td>\n",
       "    </tr>\n",
       "    <tr>\n",
       "      <th>2963856</th>\n",
       "      <td>1263104</td>\n",
       "      <td>53481</td>\n",
       "      <td>True</td>\n",
       "      <td>186</td>\n",
       "      <td>112</td>\n",
       "      <td>8</td>\n",
       "      <td>7</td>\n",
       "      <td>0</td>\n",
       "      <td>0</td>\n",
       "      <td>0</td>\n",
       "      <td>...</td>\n",
       "      <td>0</td>\n",
       "      <td>0</td>\n",
       "      <td>0</td>\n",
       "      <td>0</td>\n",
       "      <td>0</td>\n",
       "      <td>0</td>\n",
       "      <td>0</td>\n",
       "      <td>0</td>\n",
       "      <td>0</td>\n",
       "      <td>0</td>\n",
       "    </tr>\n",
       "    <tr>\n",
       "      <th>2963857</th>\n",
       "      <td>53481</td>\n",
       "      <td>1263104</td>\n",
       "      <td>False</td>\n",
       "      <td>8</td>\n",
       "      <td>7</td>\n",
       "      <td>186</td>\n",
       "      <td>112</td>\n",
       "      <td>0</td>\n",
       "      <td>0</td>\n",
       "      <td>0</td>\n",
       "      <td>...</td>\n",
       "      <td>0</td>\n",
       "      <td>0</td>\n",
       "      <td>0</td>\n",
       "      <td>0</td>\n",
       "      <td>0</td>\n",
       "      <td>0</td>\n",
       "      <td>0</td>\n",
       "      <td>0</td>\n",
       "      <td>0</td>\n",
       "      <td>0</td>\n",
       "    </tr>\n",
       "    <tr>\n",
       "      <th>2963858</th>\n",
       "      <td>230918</td>\n",
       "      <td>30044</td>\n",
       "      <td>False</td>\n",
       "      <td>212</td>\n",
       "      <td>120</td>\n",
       "      <td>79</td>\n",
       "      <td>53</td>\n",
       "      <td>0</td>\n",
       "      <td>0</td>\n",
       "      <td>0</td>\n",
       "      <td>...</td>\n",
       "      <td>0</td>\n",
       "      <td>0</td>\n",
       "      <td>0</td>\n",
       "      <td>0</td>\n",
       "      <td>0</td>\n",
       "      <td>0</td>\n",
       "      <td>0</td>\n",
       "      <td>0</td>\n",
       "      <td>0</td>\n",
       "      <td>0</td>\n",
       "    </tr>\n",
       "  </tbody>\n",
       "</table>\n",
       "<p>2963859 rows × 237 columns</p>\n",
       "</div>"
      ],
      "text/plain": [
       "                        p1_id                   p2_id  p1_won  \\\n",
       "0                     1472816                 1075251   False   \n",
       "1                     1075251                 1472816    True   \n",
       "2        challonge__MrRiceman  challonge__Loconotcoco   False   \n",
       "3                         Leo                 1272809    True   \n",
       "4                     1034645                 1302612    True   \n",
       "...                       ...                     ...     ...   \n",
       "2963854                 30896                    4702   False   \n",
       "2963855                  4702                   30896    True   \n",
       "2963856               1263104                   53481    True   \n",
       "2963857                 53481                 1263104   False   \n",
       "2963858                230918                   30044   False   \n",
       "\n",
       "         p1_games_played  p1_games_won  p2_games_played  p2_games_won  \\\n",
       "0                      2             0               23            13   \n",
       "1                     23            13                2             0   \n",
       "2                      4             1                2             1   \n",
       "3                      1             1              102            49   \n",
       "4                     77            40                2             0   \n",
       "...                  ...           ...              ...           ...   \n",
       "2963854               72            51              865           555   \n",
       "2963855              865           555               72            51   \n",
       "2963856              186           112                8             7   \n",
       "2963857                8             7              186           112   \n",
       "2963858              212           120               79            53   \n",
       "\n",
       "         p1_char.-1  p1_char.banjokazooie  p1_char.bayonetta  ...  \\\n",
       "0                 0                     0                  0  ...   \n",
       "1                 0                     0                  0  ...   \n",
       "2                 0                     0                  0  ...   \n",
       "3                 0                     0                  0  ...   \n",
       "4                 0                     0                  0  ...   \n",
       "...             ...                   ...                ...  ...   \n",
       "2963854           0                     0                  0  ...   \n",
       "2963855           0                     0                  0  ...   \n",
       "2963856           0                     0                  0  ...   \n",
       "2963857           0                     0                  0  ...   \n",
       "2963858           0                     0                  0  ...   \n",
       "\n",
       "         stage.Town and City  stage.Unova Pokemon League  \\\n",
       "0                          0                           0   \n",
       "1                          0                           0   \n",
       "2                          0                           0   \n",
       "3                          0                           0   \n",
       "4                          0                           0   \n",
       "...                      ...                         ...   \n",
       "2963854                    0                           0   \n",
       "2963855                    0                           0   \n",
       "2963856                    0                           0   \n",
       "2963857                    0                           0   \n",
       "2963858                    0                           0   \n",
       "\n",
       "         stage.Unova Pokémon League  stage.Venom  stage.WarioWare  \\\n",
       "0                                 0            0                0   \n",
       "1                                 0            0                0   \n",
       "2                                 0            0                0   \n",
       "3                                 0            0                0   \n",
       "4                                 0            0                0   \n",
       "...                             ...          ...              ...   \n",
       "2963854                           0            0                0   \n",
       "2963855                           0            0                0   \n",
       "2963856                           0            0                0   \n",
       "2963857                           0            0                0   \n",
       "2963858                           0            0                0   \n",
       "\n",
       "         stage.Wily Castle  stage.Yggdrasil's Altar  stage.Yoshi's Island  \\\n",
       "0                        0                        0                     0   \n",
       "1                        0                        0                     0   \n",
       "2                        0                        0                     0   \n",
       "3                        0                        0                     0   \n",
       "4                        0                        0                     0   \n",
       "...                    ...                      ...                   ...   \n",
       "2963854                  0                        0                     0   \n",
       "2963855                  0                        0                     0   \n",
       "2963856                  0                        0                     0   \n",
       "2963857                  0                        0                     0   \n",
       "2963858                  0                        0                     0   \n",
       "\n",
       "         stage.Yoshi's Island (Melee)  stage.Yoshi's Story  \n",
       "0                                   0                    0  \n",
       "1                                   0                    0  \n",
       "2                                   0                    0  \n",
       "3                                   0                    0  \n",
       "4                                   0                    0  \n",
       "...                               ...                  ...  \n",
       "2963854                             0                    0  \n",
       "2963855                             0                    0  \n",
       "2963856                             0                    0  \n",
       "2963857                             0                    0  \n",
       "2963858                             0                    0  \n",
       "\n",
       "[2963859 rows x 237 columns]"
      ]
     },
     "execution_count": 2,
     "metadata": {},
     "output_type": "execute_result"
    }
   ],
   "source": [
    "game_data = pd.read_csv(\"../Data/data/clean_game_data.csv\",dtype={\"p1_id\" : \"string\",\"p2_id\" : \"string\",\"p1_char\" : \"string\", \"p2_char\" : \"string\", \"stage\" : \"string\", \"p1_games_played\" : \"int32\", \"p1_games_won\" : \"int32\", \"p2_games_played\" : \"int32\", \"p2_games_won\" : \"int32\", \"p1_won\" : \"bool\"})\n",
    "game_data = pd.get_dummies(game_data, columns=[\"p1_char\",\"p2_char\",\"stage\"], prefix_sep=\".\", )\n",
    "game_data"
   ]
  },
  {
   "attachments": {},
   "cell_type": "markdown",
   "metadata": {},
   "source": [
    "In `sklearn`, there aren't recipes. Instead, there are pipelines, which works a bit like a recipe and a workflow combined. We can apply transformations to our data including selecting predictors, normalizing variables, and adding models."
   ]
  },
  {
   "cell_type": "code",
   "execution_count": 3,
   "metadata": {},
   "outputs": [],
   "source": [
    "game_train, game_test = train_test_split(game_data, train_size = 0.8, stratify = game_data[[\"p1_won\"]], random_state=2049)\n",
    "\n",
    "# We stratified on our response, p1_won. \n",
    "# This shouldn't make too much of a difference because we randomized which is p1 and p2, however it is still good practice.\n",
    "\n",
    "X = game_train.loc[:,game_train.columns != \"p1_won\"]\n",
    "y = game_train[\"p1_won\"]\n",
    "\n",
    "game_folded = StratifiedKFold(n_splits=5).split(X,y)"
   ]
  },
  {
   "attachments": {},
   "cell_type": "markdown",
   "metadata": {},
   "source": [
    "Let's start by using our numerical predictors to fit a linear model. We want to use a logistic regression because we are predicting a binary class. We're going to score by accuracy because there is no class imbalance present (because we randomized p1_won) and accuracy is much easier to interpret."
   ]
  },
  {
   "cell_type": "code",
   "execution_count": 4,
   "metadata": {},
   "outputs": [
    {
     "data": {
      "image/png": "[encoded data removed]",
      "text/plain": [
       "<Figure size 640x480 with 1 Axes>"
      ]
     },
     "metadata": {},
     "output_type": "display_data"
    }
   ],
   "source": [
    "plt.bar(x = [True, False], height = game_train[\"p1_won\"].value_counts() / len(game_train))\n",
    "plt.xticks([True, False], [\"True\", \"False\"])\n",
    "plt.title(\"p1_won True vs False\")\n",
    "plt.show()"
   ]
  },
  {
   "cell_type": "code",
   "execution_count": 5,
   "metadata": {},
   "outputs": [],
   "source": [
    "def fitmodel(model, filename, df = game_train):\n",
    "    \n",
    "    if not os.path.isfile(filename):\n",
    "\n",
    "        model.fit(X,y)\n",
    "\n",
    "        joblib.dump(model, filename)\n",
    "\n",
    "    else:\n",
    "        modeltemp = joblib.load(filename)\n",
    "        if (type(model) != type(modeltemp)) or \\\n",
    "            (tuple([k[0] for k in model.steps]) != tuple([k[0] for k in modeltemp.steps])):\n",
    "            print (\"\\033[93m Warning: model mismatch. Delete the file {filename} and rerun or risk faulty models.\\n \\033[0m\".format(filename=filename))\n",
    "        model = modeltemp\n",
    "    return model\n"
   ]
  },
  {
   "attachments": {},
   "cell_type": "markdown",
   "metadata": {},
   "source": [
    "First let's fit a logistic regression with no penalty. For this and the elastic net, we'll just use the numerical predictors."
   ]
  },
  {
   "cell_type": "code",
   "execution_count": 13,
   "metadata": {},
   "outputs": [
    {
     "name": "stderr",
     "output_type": "stream",
     "text": [
      "[Parallel(n_jobs=1)]: Using backend SequentialBackend with 1 concurrent workers.\n"
     ]
    },
    {
     "name": "stdout",
     "output_type": "stream",
     "text": [
      "[CV] END ................................ score: (test=0.643) total time=   3.0s\n"
     ]
    },
    {
     "name": "stderr",
     "output_type": "stream",
     "text": [
      "[Parallel(n_jobs=1)]: Done   1 out of   1 | elapsed:    3.1s remaining:    0.0s\n"
     ]
    },
    {
     "name": "stdout",
     "output_type": "stream",
     "text": [
      "[CV] END ................................ score: (test=0.643) total time=   2.9s\n"
     ]
    },
    {
     "name": "stderr",
     "output_type": "stream",
     "text": [
      "[Parallel(n_jobs=1)]: Done   2 out of   2 | elapsed:    6.2s remaining:    0.0s\n"
     ]
    },
    {
     "name": "stdout",
     "output_type": "stream",
     "text": [
      "[CV] END ................................ score: (test=0.642) total time=   2.7s\n",
      "[CV] END ................................ score: (test=0.645) total time=   2.6s\n",
      "[CV] END ................................ score: (test=0.643) total time=   2.9s\n",
      "0.6433 accuracy with a standard deviation of 0.0007.\n"
     ]
    },
    {
     "name": "stderr",
     "output_type": "stream",
     "text": [
      "[Parallel(n_jobs=1)]: Done   5 out of   5 | elapsed:   14.8s finished\n"
     ]
    }
   ],
   "source": [
    "lm_predictors = [\"p1_games_played\",\"p2_games_played\",\"p1_games_won\",\"p2_games_won\"]\n",
    "\n",
    "lm_pipe = Pipeline(steps = [\n",
    "    (\"predictors\", ColumnTransformer([(\"predictors\",\"passthrough\",lm_predictors)])),\n",
    "    (\"logistic\", linear_model.LogisticRegression(penalty=None))\n",
    "    ])\n",
    "\n",
    "game_folded = StratifiedKFold(n_splits=5).split(X,y)\n",
    "\n",
    "lm_cross_val = cross_val_score(estimator = lm_pipe,\n",
    "                               cv = game_folded,\n",
    "                               scoring = 'accuracy',\n",
    "                               X = X,\n",
    "                               y = y,\n",
    "                               verbose = 3)\n",
    "\n",
    "print(\"%0.4f accuracy with a standard deviation of %0.4f.\" % (lm_cross_val.mean(), lm_cross_val.std()))"
   ]
  },
  {
   "cell_type": "code",
   "execution_count": 28,
   "metadata": {},
   "outputs": [],
   "source": [
    "lm = fitmodel(model = lm_pipe,\n",
    "              filename = \"models/logistic_regression.joblib\")"
   ]
  },
  {
   "attachments": {},
   "cell_type": "markdown",
   "metadata": {},
   "source": [
    "Now we're going to use an elastic net and tune the parameter `l1_ratio`, which gives the proportion of lasso regression to ridge regression. A value of `1.0` is expressed as a lasso regression, `0.0` is expressed as a ridge regression, and anything in between is some sort of elastic net. \n",
    "\n",
    "We can also tune C, a hyperparameter which controls penalty strength."
   ]
  },
  {
   "cell_type": "code",
   "execution_count": 73,
   "metadata": {},
   "outputs": [],
   "source": [
    "en_predictors = [\"p1_games_played\",\"p2_games_played\",\"p1_games_won\",\"p2_games_won\"]\n",
    "\n",
    "en_pipe = Pipeline(steps = [\n",
    "    (\"predictors\", ColumnTransformer([(\"predictors\",\"passthrough\",en_predictors)])),\n",
    "    (\"logistic\", linear_model.LogisticRegression(solver='saga',penalty='elasticnet'))\n",
    "    ])\n",
    "\n",
    "en_grid = dict(logistic__l1_ratio = [0.0, 0.10, 0.25, 0.50, 0.75, 0.90, 1.0],\n",
    "               logistic__C = [1000, 100, 10, 1.0, 0.1, 0.01, 0.001])\n",
    "\n",
    "game_folded = StratifiedKFold(n_splits=5).split(X,y)\n",
    "\n",
    "en_grid_search = GridSearchCV(estimator = en_pipe,\n",
    "                            param_grid = en_grid,\n",
    "                            n_jobs = 1,\n",
    "                            cv = game_folded,\n",
    "                            scoring = 'accuracy',\n",
    "                            error_score = 0,\n",
    "                            verbose = 4)"
   ]
  },
  {
   "cell_type": "code",
   "execution_count": 74,
   "metadata": {},
   "outputs": [
    {
     "name": "stdout",
     "output_type": "stream",
     "text": [
      "Fitting 5 folds for each of 49 candidates, totalling 245 fits\n",
      "[CV 1/5] END logistic__C=1000, logistic__l1_ratio=0.0;, score=0.679 total time=   7.2s\n",
      "[CV 2/5] END logistic__C=1000, logistic__l1_ratio=0.0;, score=0.679 total time=   7.2s\n",
      "[CV 3/5] END logistic__C=1000, logistic__l1_ratio=0.0;, score=0.679 total time=   7.1s\n",
      "[CV 4/5] END logistic__C=1000, logistic__l1_ratio=0.0;, score=0.681 total time=   7.7s\n",
      "[CV 5/5] END logistic__C=1000, logistic__l1_ratio=0.0;, score=0.680 total time=   7.0s\n",
      "[CV 1/5] END logistic__C=1000, logistic__l1_ratio=0.1;, score=0.679 total time=   7.2s\n",
      "[CV 2/5] END logistic__C=1000, logistic__l1_ratio=0.1;, score=0.679 total time=   7.3s\n",
      "[CV 3/5] END logistic__C=1000, logistic__l1_ratio=0.1;, score=0.679 total time=   7.2s\n",
      "[CV 4/5] END logistic__C=1000, logistic__l1_ratio=0.1;, score=0.681 total time=   7.3s\n",
      "[CV 5/5] END logistic__C=1000, logistic__l1_ratio=0.1;, score=0.680 total time=   7.3s\n"
     ]
    },
    {
     "ename": "KeyboardInterrupt",
     "evalue": "",
     "output_type": "error",
     "traceback": [
      "\u001b[1;31m---------------------------------------------------------------------------\u001b[0m",
      "\u001b[1;31mKeyboardInterrupt\u001b[0m                         Traceback (most recent call last)",
      "Cell \u001b[1;32mIn[74], line 1\u001b[0m\n\u001b[1;32m----> 1\u001b[0m en_grid_result \u001b[39m=\u001b[39m en_grid_search\u001b[39m.\u001b[39;49mfit(X[en_predictors],y) \u001b[39m# We pass in X[en_predictors] because the result is the same but slightly faster.\u001b[39;00m\n",
      "File \u001b[1;32mc:\\Users\\Colton\\AppData\\Local\\Programs\\Python\\Python39\\lib\\site-packages\\sklearn\\model_selection\\_search.py:874\u001b[0m, in \u001b[0;36mBaseSearchCV.fit\u001b[1;34m(self, X, y, groups, **fit_params)\u001b[0m\n\u001b[0;32m    868\u001b[0m     results \u001b[39m=\u001b[39m \u001b[39mself\u001b[39m\u001b[39m.\u001b[39m_format_results(\n\u001b[0;32m    869\u001b[0m         all_candidate_params, n_splits, all_out, all_more_results\n\u001b[0;32m    870\u001b[0m     )\n\u001b[0;32m    872\u001b[0m     \u001b[39mreturn\u001b[39;00m results\n\u001b[1;32m--> 874\u001b[0m \u001b[39mself\u001b[39;49m\u001b[39m.\u001b[39;49m_run_search(evaluate_candidates)\n\u001b[0;32m    876\u001b[0m \u001b[39m# multimetric is determined here because in the case of a callable\u001b[39;00m\n\u001b[0;32m    877\u001b[0m \u001b[39m# self.scoring the return type is only known after calling\u001b[39;00m\n\u001b[0;32m    878\u001b[0m first_test_score \u001b[39m=\u001b[39m all_out[\u001b[39m0\u001b[39m][\u001b[39m\"\u001b[39m\u001b[39mtest_scores\u001b[39m\u001b[39m\"\u001b[39m]\n",
      "File \u001b[1;32mc:\\Users\\Colton\\AppData\\Local\\Programs\\Python\\Python39\\lib\\site-packages\\sklearn\\model_selection\\_search.py:1388\u001b[0m, in \u001b[0;36mGridSearchCV._run_search\u001b[1;34m(self, evaluate_candidates)\u001b[0m\n\u001b[0;32m   1386\u001b[0m \u001b[39mdef\u001b[39;00m \u001b[39m_run_search\u001b[39m(\u001b[39mself\u001b[39m, evaluate_candidates):\n\u001b[0;32m   1387\u001b[0m     \u001b[39m\"\"\"Search all candidates in param_grid\"\"\"\u001b[39;00m\n\u001b[1;32m-> 1388\u001b[0m     evaluate_candidates(ParameterGrid(\u001b[39mself\u001b[39;49m\u001b[39m.\u001b[39;49mparam_grid))\n",
      "File \u001b[1;32mc:\\Users\\Colton\\AppData\\Local\\Programs\\Python\\Python39\\lib\\site-packages\\sklearn\\model_selection\\_search.py:821\u001b[0m, in \u001b[0;36mBaseSearchCV.fit.<locals>.evaluate_candidates\u001b[1;34m(candidate_params, cv, more_results)\u001b[0m\n\u001b[0;32m    813\u001b[0m \u001b[39mif\u001b[39;00m \u001b[39mself\u001b[39m\u001b[39m.\u001b[39mverbose \u001b[39m>\u001b[39m \u001b[39m0\u001b[39m:\n\u001b[0;32m    814\u001b[0m     \u001b[39mprint\u001b[39m(\n\u001b[0;32m    815\u001b[0m         \u001b[39m\"\u001b[39m\u001b[39mFitting \u001b[39m\u001b[39m{0}\u001b[39;00m\u001b[39m folds for each of \u001b[39m\u001b[39m{1}\u001b[39;00m\u001b[39m candidates,\u001b[39m\u001b[39m\"\u001b[39m\n\u001b[0;32m    816\u001b[0m         \u001b[39m\"\u001b[39m\u001b[39m totalling \u001b[39m\u001b[39m{2}\u001b[39;00m\u001b[39m fits\u001b[39m\u001b[39m\"\u001b[39m\u001b[39m.\u001b[39mformat(\n\u001b[0;32m    817\u001b[0m             n_splits, n_candidates, n_candidates \u001b[39m*\u001b[39m n_splits\n\u001b[0;32m    818\u001b[0m         )\n\u001b[0;32m    819\u001b[0m     )\n\u001b[1;32m--> 821\u001b[0m out \u001b[39m=\u001b[39m parallel(\n\u001b[0;32m    822\u001b[0m     delayed(_fit_and_score)(\n\u001b[0;32m    823\u001b[0m         clone(base_estimator),\n\u001b[0;32m    824\u001b[0m         X,\n\u001b[0;32m    825\u001b[0m         y,\n\u001b[0;32m    826\u001b[0m         train\u001b[39m=\u001b[39;49mtrain,\n\u001b[0;32m    827\u001b[0m         test\u001b[39m=\u001b[39;49mtest,\n\u001b[0;32m    828\u001b[0m         parameters\u001b[39m=\u001b[39;49mparameters,\n\u001b[0;32m    829\u001b[0m         split_progress\u001b[39m=\u001b[39;49m(split_idx, n_splits),\n\u001b[0;32m    830\u001b[0m         candidate_progress\u001b[39m=\u001b[39;49m(cand_idx, n_candidates),\n\u001b[0;32m    831\u001b[0m         \u001b[39m*\u001b[39;49m\u001b[39m*\u001b[39;49mfit_and_score_kwargs,\n\u001b[0;32m    832\u001b[0m     )\n\u001b[0;32m    833\u001b[0m     \u001b[39mfor\u001b[39;49;00m (cand_idx, parameters), (split_idx, (train, test)) \u001b[39min\u001b[39;49;00m product(\n\u001b[0;32m    834\u001b[0m         \u001b[39menumerate\u001b[39;49m(candidate_params), \u001b[39menumerate\u001b[39;49m(cv\u001b[39m.\u001b[39;49msplit(X, y, groups))\n\u001b[0;32m    835\u001b[0m     )\n\u001b[0;32m    836\u001b[0m )\n\u001b[0;32m    838\u001b[0m \u001b[39mif\u001b[39;00m \u001b[39mlen\u001b[39m(out) \u001b[39m<\u001b[39m \u001b[39m1\u001b[39m:\n\u001b[0;32m    839\u001b[0m     \u001b[39mraise\u001b[39;00m \u001b[39mValueError\u001b[39;00m(\n\u001b[0;32m    840\u001b[0m         \u001b[39m\"\u001b[39m\u001b[39mNo fits were performed. \u001b[39m\u001b[39m\"\u001b[39m\n\u001b[0;32m    841\u001b[0m         \u001b[39m\"\u001b[39m\u001b[39mWas the CV iterator empty? \u001b[39m\u001b[39m\"\u001b[39m\n\u001b[0;32m    842\u001b[0m         \u001b[39m\"\u001b[39m\u001b[39mWere there no candidates?\u001b[39m\u001b[39m\"\u001b[39m\n\u001b[0;32m    843\u001b[0m     )\n",
      "File \u001b[1;32mc:\\Users\\Colton\\AppData\\Local\\Programs\\Python\\Python39\\lib\\site-packages\\sklearn\\utils\\parallel.py:63\u001b[0m, in \u001b[0;36mParallel.__call__\u001b[1;34m(self, iterable)\u001b[0m\n\u001b[0;32m     58\u001b[0m config \u001b[39m=\u001b[39m get_config()\n\u001b[0;32m     59\u001b[0m iterable_with_config \u001b[39m=\u001b[39m (\n\u001b[0;32m     60\u001b[0m     (_with_config(delayed_func, config), args, kwargs)\n\u001b[0;32m     61\u001b[0m     \u001b[39mfor\u001b[39;00m delayed_func, args, kwargs \u001b[39min\u001b[39;00m iterable\n\u001b[0;32m     62\u001b[0m )\n\u001b[1;32m---> 63\u001b[0m \u001b[39mreturn\u001b[39;00m \u001b[39msuper\u001b[39;49m()\u001b[39m.\u001b[39;49m\u001b[39m__call__\u001b[39;49m(iterable_with_config)\n",
      "File \u001b[1;32mc:\\Users\\Colton\\AppData\\Local\\Programs\\Python\\Python39\\lib\\site-packages\\joblib\\parallel.py:1088\u001b[0m, in \u001b[0;36mParallel.__call__\u001b[1;34m(self, iterable)\u001b[0m\n\u001b[0;32m   1085\u001b[0m \u001b[39mif\u001b[39;00m \u001b[39mself\u001b[39m\u001b[39m.\u001b[39mdispatch_one_batch(iterator):\n\u001b[0;32m   1086\u001b[0m     \u001b[39mself\u001b[39m\u001b[39m.\u001b[39m_iterating \u001b[39m=\u001b[39m \u001b[39mself\u001b[39m\u001b[39m.\u001b[39m_original_iterator \u001b[39mis\u001b[39;00m \u001b[39mnot\u001b[39;00m \u001b[39mNone\u001b[39;00m\n\u001b[1;32m-> 1088\u001b[0m \u001b[39mwhile\u001b[39;00m \u001b[39mself\u001b[39;49m\u001b[39m.\u001b[39;49mdispatch_one_batch(iterator):\n\u001b[0;32m   1089\u001b[0m     \u001b[39mpass\u001b[39;00m\n\u001b[0;32m   1091\u001b[0m \u001b[39mif\u001b[39;00m pre_dispatch \u001b[39m==\u001b[39m \u001b[39m\"\u001b[39m\u001b[39mall\u001b[39m\u001b[39m\"\u001b[39m \u001b[39mor\u001b[39;00m n_jobs \u001b[39m==\u001b[39m \u001b[39m1\u001b[39m:\n\u001b[0;32m   1092\u001b[0m     \u001b[39m# The iterable was consumed all at once by the above for loop.\u001b[39;00m\n\u001b[0;32m   1093\u001b[0m     \u001b[39m# No need to wait for async callbacks to trigger to\u001b[39;00m\n\u001b[0;32m   1094\u001b[0m     \u001b[39m# consumption.\u001b[39;00m\n",
      "File \u001b[1;32mc:\\Users\\Colton\\AppData\\Local\\Programs\\Python\\Python39\\lib\\site-packages\\joblib\\parallel.py:901\u001b[0m, in \u001b[0;36mParallel.dispatch_one_batch\u001b[1;34m(self, iterator)\u001b[0m\n\u001b[0;32m    899\u001b[0m     \u001b[39mreturn\u001b[39;00m \u001b[39mFalse\u001b[39;00m\n\u001b[0;32m    900\u001b[0m \u001b[39melse\u001b[39;00m:\n\u001b[1;32m--> 901\u001b[0m     \u001b[39mself\u001b[39;49m\u001b[39m.\u001b[39;49m_dispatch(tasks)\n\u001b[0;32m    902\u001b[0m     \u001b[39mreturn\u001b[39;00m \u001b[39mTrue\u001b[39;00m\n",
      "File \u001b[1;32mc:\\Users\\Colton\\AppData\\Local\\Programs\\Python\\Python39\\lib\\site-packages\\joblib\\parallel.py:819\u001b[0m, in \u001b[0;36mParallel._dispatch\u001b[1;34m(self, batch)\u001b[0m\n\u001b[0;32m    817\u001b[0m \u001b[39mwith\u001b[39;00m \u001b[39mself\u001b[39m\u001b[39m.\u001b[39m_lock:\n\u001b[0;32m    818\u001b[0m     job_idx \u001b[39m=\u001b[39m \u001b[39mlen\u001b[39m(\u001b[39mself\u001b[39m\u001b[39m.\u001b[39m_jobs)\n\u001b[1;32m--> 819\u001b[0m     job \u001b[39m=\u001b[39m \u001b[39mself\u001b[39;49m\u001b[39m.\u001b[39;49m_backend\u001b[39m.\u001b[39;49mapply_async(batch, callback\u001b[39m=\u001b[39;49mcb)\n\u001b[0;32m    820\u001b[0m     \u001b[39m# A job can complete so quickly than its callback is\u001b[39;00m\n\u001b[0;32m    821\u001b[0m     \u001b[39m# called before we get here, causing self._jobs to\u001b[39;00m\n\u001b[0;32m    822\u001b[0m     \u001b[39m# grow. To ensure correct results ordering, .insert is\u001b[39;00m\n\u001b[0;32m    823\u001b[0m     \u001b[39m# used (rather than .append) in the following line\u001b[39;00m\n\u001b[0;32m    824\u001b[0m     \u001b[39mself\u001b[39m\u001b[39m.\u001b[39m_jobs\u001b[39m.\u001b[39minsert(job_idx, job)\n",
      "File \u001b[1;32mc:\\Users\\Colton\\AppData\\Local\\Programs\\Python\\Python39\\lib\\site-packages\\joblib\\_parallel_backends.py:208\u001b[0m, in \u001b[0;36mSequentialBackend.apply_async\u001b[1;34m(self, func, callback)\u001b[0m\n\u001b[0;32m    206\u001b[0m \u001b[39mdef\u001b[39;00m \u001b[39mapply_async\u001b[39m(\u001b[39mself\u001b[39m, func, callback\u001b[39m=\u001b[39m\u001b[39mNone\u001b[39;00m):\n\u001b[0;32m    207\u001b[0m     \u001b[39m\"\"\"Schedule a func to be run\"\"\"\u001b[39;00m\n\u001b[1;32m--> 208\u001b[0m     result \u001b[39m=\u001b[39m ImmediateResult(func)\n\u001b[0;32m    209\u001b[0m     \u001b[39mif\u001b[39;00m callback:\n\u001b[0;32m    210\u001b[0m         callback(result)\n",
      "File \u001b[1;32mc:\\Users\\Colton\\AppData\\Local\\Programs\\Python\\Python39\\lib\\site-packages\\joblib\\_parallel_backends.py:597\u001b[0m, in \u001b[0;36mImmediateResult.__init__\u001b[1;34m(self, batch)\u001b[0m\n\u001b[0;32m    594\u001b[0m \u001b[39mdef\u001b[39;00m \u001b[39m__init__\u001b[39m(\u001b[39mself\u001b[39m, batch):\n\u001b[0;32m    595\u001b[0m     \u001b[39m# Don't delay the application, to avoid keeping the input\u001b[39;00m\n\u001b[0;32m    596\u001b[0m     \u001b[39m# arguments in memory\u001b[39;00m\n\u001b[1;32m--> 597\u001b[0m     \u001b[39mself\u001b[39m\u001b[39m.\u001b[39mresults \u001b[39m=\u001b[39m batch()\n",
      "File \u001b[1;32mc:\\Users\\Colton\\AppData\\Local\\Programs\\Python\\Python39\\lib\\site-packages\\joblib\\parallel.py:288\u001b[0m, in \u001b[0;36mBatchedCalls.__call__\u001b[1;34m(self)\u001b[0m\n\u001b[0;32m    284\u001b[0m \u001b[39mdef\u001b[39;00m \u001b[39m__call__\u001b[39m(\u001b[39mself\u001b[39m):\n\u001b[0;32m    285\u001b[0m     \u001b[39m# Set the default nested backend to self._backend but do not set the\u001b[39;00m\n\u001b[0;32m    286\u001b[0m     \u001b[39m# change the default number of processes to -1\u001b[39;00m\n\u001b[0;32m    287\u001b[0m     \u001b[39mwith\u001b[39;00m parallel_backend(\u001b[39mself\u001b[39m\u001b[39m.\u001b[39m_backend, n_jobs\u001b[39m=\u001b[39m\u001b[39mself\u001b[39m\u001b[39m.\u001b[39m_n_jobs):\n\u001b[1;32m--> 288\u001b[0m         \u001b[39mreturn\u001b[39;00m [func(\u001b[39m*\u001b[39margs, \u001b[39m*\u001b[39m\u001b[39m*\u001b[39mkwargs)\n\u001b[0;32m    289\u001b[0m                 \u001b[39mfor\u001b[39;00m func, args, kwargs \u001b[39min\u001b[39;00m \u001b[39mself\u001b[39m\u001b[39m.\u001b[39mitems]\n",
      "File \u001b[1;32mc:\\Users\\Colton\\AppData\\Local\\Programs\\Python\\Python39\\lib\\site-packages\\joblib\\parallel.py:288\u001b[0m, in \u001b[0;36m<listcomp>\u001b[1;34m(.0)\u001b[0m\n\u001b[0;32m    284\u001b[0m \u001b[39mdef\u001b[39;00m \u001b[39m__call__\u001b[39m(\u001b[39mself\u001b[39m):\n\u001b[0;32m    285\u001b[0m     \u001b[39m# Set the default nested backend to self._backend but do not set the\u001b[39;00m\n\u001b[0;32m    286\u001b[0m     \u001b[39m# change the default number of processes to -1\u001b[39;00m\n\u001b[0;32m    287\u001b[0m     \u001b[39mwith\u001b[39;00m parallel_backend(\u001b[39mself\u001b[39m\u001b[39m.\u001b[39m_backend, n_jobs\u001b[39m=\u001b[39m\u001b[39mself\u001b[39m\u001b[39m.\u001b[39m_n_jobs):\n\u001b[1;32m--> 288\u001b[0m         \u001b[39mreturn\u001b[39;00m [func(\u001b[39m*\u001b[39margs, \u001b[39m*\u001b[39m\u001b[39m*\u001b[39mkwargs)\n\u001b[0;32m    289\u001b[0m                 \u001b[39mfor\u001b[39;00m func, args, kwargs \u001b[39min\u001b[39;00m \u001b[39mself\u001b[39m\u001b[39m.\u001b[39mitems]\n",
      "File \u001b[1;32mc:\\Users\\Colton\\AppData\\Local\\Programs\\Python\\Python39\\lib\\site-packages\\sklearn\\utils\\parallel.py:123\u001b[0m, in \u001b[0;36m_FuncWrapper.__call__\u001b[1;34m(self, *args, **kwargs)\u001b[0m\n\u001b[0;32m    121\u001b[0m     config \u001b[39m=\u001b[39m {}\n\u001b[0;32m    122\u001b[0m \u001b[39mwith\u001b[39;00m config_context(\u001b[39m*\u001b[39m\u001b[39m*\u001b[39mconfig):\n\u001b[1;32m--> 123\u001b[0m     \u001b[39mreturn\u001b[39;00m \u001b[39mself\u001b[39m\u001b[39m.\u001b[39mfunction(\u001b[39m*\u001b[39margs, \u001b[39m*\u001b[39m\u001b[39m*\u001b[39mkwargs)\n",
      "File \u001b[1;32mc:\\Users\\Colton\\AppData\\Local\\Programs\\Python\\Python39\\lib\\site-packages\\sklearn\\model_selection\\_validation.py:686\u001b[0m, in \u001b[0;36m_fit_and_score\u001b[1;34m(estimator, X, y, scorer, train, test, verbose, parameters, fit_params, return_train_score, return_parameters, return_n_test_samples, return_times, return_estimator, split_progress, candidate_progress, error_score)\u001b[0m\n\u001b[0;32m    684\u001b[0m         estimator\u001b[39m.\u001b[39mfit(X_train, \u001b[39m*\u001b[39m\u001b[39m*\u001b[39mfit_params)\n\u001b[0;32m    685\u001b[0m     \u001b[39melse\u001b[39;00m:\n\u001b[1;32m--> 686\u001b[0m         estimator\u001b[39m.\u001b[39mfit(X_train, y_train, \u001b[39m*\u001b[39m\u001b[39m*\u001b[39mfit_params)\n\u001b[0;32m    688\u001b[0m \u001b[39mexcept\u001b[39;00m \u001b[39mException\u001b[39;00m:\n\u001b[0;32m    689\u001b[0m     \u001b[39m# Note fit time as time until error\u001b[39;00m\n\u001b[0;32m    690\u001b[0m     fit_time \u001b[39m=\u001b[39m time\u001b[39m.\u001b[39mtime() \u001b[39m-\u001b[39m start_time\n",
      "File \u001b[1;32mc:\\Users\\Colton\\AppData\\Local\\Programs\\Python\\Python39\\lib\\site-packages\\sklearn\\pipeline.py:405\u001b[0m, in \u001b[0;36mPipeline.fit\u001b[1;34m(self, X, y, **fit_params)\u001b[0m\n\u001b[0;32m    403\u001b[0m     \u001b[39mif\u001b[39;00m \u001b[39mself\u001b[39m\u001b[39m.\u001b[39m_final_estimator \u001b[39m!=\u001b[39m \u001b[39m\"\u001b[39m\u001b[39mpassthrough\u001b[39m\u001b[39m\"\u001b[39m:\n\u001b[0;32m    404\u001b[0m         fit_params_last_step \u001b[39m=\u001b[39m fit_params_steps[\u001b[39mself\u001b[39m\u001b[39m.\u001b[39msteps[\u001b[39m-\u001b[39m\u001b[39m1\u001b[39m][\u001b[39m0\u001b[39m]]\n\u001b[1;32m--> 405\u001b[0m         \u001b[39mself\u001b[39m\u001b[39m.\u001b[39m_final_estimator\u001b[39m.\u001b[39mfit(Xt, y, \u001b[39m*\u001b[39m\u001b[39m*\u001b[39mfit_params_last_step)\n\u001b[0;32m    407\u001b[0m \u001b[39mreturn\u001b[39;00m \u001b[39mself\u001b[39m\n",
      "File \u001b[1;32mc:\\Users\\Colton\\AppData\\Local\\Programs\\Python\\Python39\\lib\\site-packages\\sklearn\\linear_model\\_logistic.py:1291\u001b[0m, in \u001b[0;36mLogisticRegression.fit\u001b[1;34m(self, X, y, sample_weight)\u001b[0m\n\u001b[0;32m   1288\u001b[0m \u001b[39melse\u001b[39;00m:\n\u001b[0;32m   1289\u001b[0m     n_threads \u001b[39m=\u001b[39m \u001b[39m1\u001b[39m\n\u001b[1;32m-> 1291\u001b[0m fold_coefs_ \u001b[39m=\u001b[39m Parallel(n_jobs\u001b[39m=\u001b[39;49m\u001b[39mself\u001b[39;49m\u001b[39m.\u001b[39;49mn_jobs, verbose\u001b[39m=\u001b[39;49m\u001b[39mself\u001b[39;49m\u001b[39m.\u001b[39;49mverbose, prefer\u001b[39m=\u001b[39;49mprefer)(\n\u001b[0;32m   1292\u001b[0m     path_func(\n\u001b[0;32m   1293\u001b[0m         X,\n\u001b[0;32m   1294\u001b[0m         y,\n\u001b[0;32m   1295\u001b[0m         pos_class\u001b[39m=\u001b[39;49mclass_,\n\u001b[0;32m   1296\u001b[0m         Cs\u001b[39m=\u001b[39;49m[C_],\n\u001b[0;32m   1297\u001b[0m         l1_ratio\u001b[39m=\u001b[39;49m\u001b[39mself\u001b[39;49m\u001b[39m.\u001b[39;49ml1_ratio,\n\u001b[0;32m   1298\u001b[0m         fit_intercept\u001b[39m=\u001b[39;49m\u001b[39mself\u001b[39;49m\u001b[39m.\u001b[39;49mfit_intercept,\n\u001b[0;32m   1299\u001b[0m         tol\u001b[39m=\u001b[39;49m\u001b[39mself\u001b[39;49m\u001b[39m.\u001b[39;49mtol,\n\u001b[0;32m   1300\u001b[0m         verbose\u001b[39m=\u001b[39;49m\u001b[39mself\u001b[39;49m\u001b[39m.\u001b[39;49mverbose,\n\u001b[0;32m   1301\u001b[0m         solver\u001b[39m=\u001b[39;49msolver,\n\u001b[0;32m   1302\u001b[0m         multi_class\u001b[39m=\u001b[39;49mmulti_class,\n\u001b[0;32m   1303\u001b[0m         max_iter\u001b[39m=\u001b[39;49m\u001b[39mself\u001b[39;49m\u001b[39m.\u001b[39;49mmax_iter,\n\u001b[0;32m   1304\u001b[0m         class_weight\u001b[39m=\u001b[39;49m\u001b[39mself\u001b[39;49m\u001b[39m.\u001b[39;49mclass_weight,\n\u001b[0;32m   1305\u001b[0m         check_input\u001b[39m=\u001b[39;49m\u001b[39mFalse\u001b[39;49;00m,\n\u001b[0;32m   1306\u001b[0m         random_state\u001b[39m=\u001b[39;49m\u001b[39mself\u001b[39;49m\u001b[39m.\u001b[39;49mrandom_state,\n\u001b[0;32m   1307\u001b[0m         coef\u001b[39m=\u001b[39;49mwarm_start_coef_,\n\u001b[0;32m   1308\u001b[0m         penalty\u001b[39m=\u001b[39;49mpenalty,\n\u001b[0;32m   1309\u001b[0m         max_squared_sum\u001b[39m=\u001b[39;49mmax_squared_sum,\n\u001b[0;32m   1310\u001b[0m         sample_weight\u001b[39m=\u001b[39;49msample_weight,\n\u001b[0;32m   1311\u001b[0m         n_threads\u001b[39m=\u001b[39;49mn_threads,\n\u001b[0;32m   1312\u001b[0m     )\n\u001b[0;32m   1313\u001b[0m     \u001b[39mfor\u001b[39;49;00m class_, warm_start_coef_ \u001b[39min\u001b[39;49;00m \u001b[39mzip\u001b[39;49m(classes_, warm_start_coef)\n\u001b[0;32m   1314\u001b[0m )\n\u001b[0;32m   1316\u001b[0m fold_coefs_, _, n_iter_ \u001b[39m=\u001b[39m \u001b[39mzip\u001b[39m(\u001b[39m*\u001b[39mfold_coefs_)\n\u001b[0;32m   1317\u001b[0m \u001b[39mself\u001b[39m\u001b[39m.\u001b[39mn_iter_ \u001b[39m=\u001b[39m np\u001b[39m.\u001b[39masarray(n_iter_, dtype\u001b[39m=\u001b[39mnp\u001b[39m.\u001b[39mint32)[:, \u001b[39m0\u001b[39m]\n",
      "File \u001b[1;32mc:\\Users\\Colton\\AppData\\Local\\Programs\\Python\\Python39\\lib\\site-packages\\sklearn\\utils\\parallel.py:63\u001b[0m, in \u001b[0;36mParallel.__call__\u001b[1;34m(self, iterable)\u001b[0m\n\u001b[0;32m     58\u001b[0m config \u001b[39m=\u001b[39m get_config()\n\u001b[0;32m     59\u001b[0m iterable_with_config \u001b[39m=\u001b[39m (\n\u001b[0;32m     60\u001b[0m     (_with_config(delayed_func, config), args, kwargs)\n\u001b[0;32m     61\u001b[0m     \u001b[39mfor\u001b[39;00m delayed_func, args, kwargs \u001b[39min\u001b[39;00m iterable\n\u001b[0;32m     62\u001b[0m )\n\u001b[1;32m---> 63\u001b[0m \u001b[39mreturn\u001b[39;00m \u001b[39msuper\u001b[39;49m()\u001b[39m.\u001b[39;49m\u001b[39m__call__\u001b[39;49m(iterable_with_config)\n",
      "File \u001b[1;32mc:\\Users\\Colton\\AppData\\Local\\Programs\\Python\\Python39\\lib\\site-packages\\joblib\\parallel.py:1085\u001b[0m, in \u001b[0;36mParallel.__call__\u001b[1;34m(self, iterable)\u001b[0m\n\u001b[0;32m   1076\u001b[0m \u001b[39mtry\u001b[39;00m:\n\u001b[0;32m   1077\u001b[0m     \u001b[39m# Only set self._iterating to True if at least a batch\u001b[39;00m\n\u001b[0;32m   1078\u001b[0m     \u001b[39m# was dispatched. In particular this covers the edge\u001b[39;00m\n\u001b[1;32m   (...)\u001b[0m\n\u001b[0;32m   1082\u001b[0m     \u001b[39m# was very quick and its callback already dispatched all the\u001b[39;00m\n\u001b[0;32m   1083\u001b[0m     \u001b[39m# remaining jobs.\u001b[39;00m\n\u001b[0;32m   1084\u001b[0m     \u001b[39mself\u001b[39m\u001b[39m.\u001b[39m_iterating \u001b[39m=\u001b[39m \u001b[39mFalse\u001b[39;00m\n\u001b[1;32m-> 1085\u001b[0m     \u001b[39mif\u001b[39;00m \u001b[39mself\u001b[39;49m\u001b[39m.\u001b[39;49mdispatch_one_batch(iterator):\n\u001b[0;32m   1086\u001b[0m         \u001b[39mself\u001b[39m\u001b[39m.\u001b[39m_iterating \u001b[39m=\u001b[39m \u001b[39mself\u001b[39m\u001b[39m.\u001b[39m_original_iterator \u001b[39mis\u001b[39;00m \u001b[39mnot\u001b[39;00m \u001b[39mNone\u001b[39;00m\n\u001b[0;32m   1088\u001b[0m     \u001b[39mwhile\u001b[39;00m \u001b[39mself\u001b[39m\u001b[39m.\u001b[39mdispatch_one_batch(iterator):\n",
      "File \u001b[1;32mc:\\Users\\Colton\\AppData\\Local\\Programs\\Python\\Python39\\lib\\site-packages\\joblib\\parallel.py:901\u001b[0m, in \u001b[0;36mParallel.dispatch_one_batch\u001b[1;34m(self, iterator)\u001b[0m\n\u001b[0;32m    899\u001b[0m     \u001b[39mreturn\u001b[39;00m \u001b[39mFalse\u001b[39;00m\n\u001b[0;32m    900\u001b[0m \u001b[39melse\u001b[39;00m:\n\u001b[1;32m--> 901\u001b[0m     \u001b[39mself\u001b[39;49m\u001b[39m.\u001b[39;49m_dispatch(tasks)\n\u001b[0;32m    902\u001b[0m     \u001b[39mreturn\u001b[39;00m \u001b[39mTrue\u001b[39;00m\n",
      "File \u001b[1;32mc:\\Users\\Colton\\AppData\\Local\\Programs\\Python\\Python39\\lib\\site-packages\\joblib\\parallel.py:819\u001b[0m, in \u001b[0;36mParallel._dispatch\u001b[1;34m(self, batch)\u001b[0m\n\u001b[0;32m    817\u001b[0m \u001b[39mwith\u001b[39;00m \u001b[39mself\u001b[39m\u001b[39m.\u001b[39m_lock:\n\u001b[0;32m    818\u001b[0m     job_idx \u001b[39m=\u001b[39m \u001b[39mlen\u001b[39m(\u001b[39mself\u001b[39m\u001b[39m.\u001b[39m_jobs)\n\u001b[1;32m--> 819\u001b[0m     job \u001b[39m=\u001b[39m \u001b[39mself\u001b[39;49m\u001b[39m.\u001b[39;49m_backend\u001b[39m.\u001b[39;49mapply_async(batch, callback\u001b[39m=\u001b[39;49mcb)\n\u001b[0;32m    820\u001b[0m     \u001b[39m# A job can complete so quickly than its callback is\u001b[39;00m\n\u001b[0;32m    821\u001b[0m     \u001b[39m# called before we get here, causing self._jobs to\u001b[39;00m\n\u001b[0;32m    822\u001b[0m     \u001b[39m# grow. To ensure correct results ordering, .insert is\u001b[39;00m\n\u001b[0;32m    823\u001b[0m     \u001b[39m# used (rather than .append) in the following line\u001b[39;00m\n\u001b[0;32m    824\u001b[0m     \u001b[39mself\u001b[39m\u001b[39m.\u001b[39m_jobs\u001b[39m.\u001b[39minsert(job_idx, job)\n",
      "File \u001b[1;32mc:\\Users\\Colton\\AppData\\Local\\Programs\\Python\\Python39\\lib\\site-packages\\joblib\\_parallel_backends.py:208\u001b[0m, in \u001b[0;36mSequentialBackend.apply_async\u001b[1;34m(self, func, callback)\u001b[0m\n\u001b[0;32m    206\u001b[0m \u001b[39mdef\u001b[39;00m \u001b[39mapply_async\u001b[39m(\u001b[39mself\u001b[39m, func, callback\u001b[39m=\u001b[39m\u001b[39mNone\u001b[39;00m):\n\u001b[0;32m    207\u001b[0m     \u001b[39m\"\"\"Schedule a func to be run\"\"\"\u001b[39;00m\n\u001b[1;32m--> 208\u001b[0m     result \u001b[39m=\u001b[39m ImmediateResult(func)\n\u001b[0;32m    209\u001b[0m     \u001b[39mif\u001b[39;00m callback:\n\u001b[0;32m    210\u001b[0m         callback(result)\n",
      "File \u001b[1;32mc:\\Users\\Colton\\AppData\\Local\\Programs\\Python\\Python39\\lib\\site-packages\\joblib\\_parallel_backends.py:597\u001b[0m, in \u001b[0;36mImmediateResult.__init__\u001b[1;34m(self, batch)\u001b[0m\n\u001b[0;32m    594\u001b[0m \u001b[39mdef\u001b[39;00m \u001b[39m__init__\u001b[39m(\u001b[39mself\u001b[39m, batch):\n\u001b[0;32m    595\u001b[0m     \u001b[39m# Don't delay the application, to avoid keeping the input\u001b[39;00m\n\u001b[0;32m    596\u001b[0m     \u001b[39m# arguments in memory\u001b[39;00m\n\u001b[1;32m--> 597\u001b[0m     \u001b[39mself\u001b[39m\u001b[39m.\u001b[39mresults \u001b[39m=\u001b[39m batch()\n",
      "File \u001b[1;32mc:\\Users\\Colton\\AppData\\Local\\Programs\\Python\\Python39\\lib\\site-packages\\joblib\\parallel.py:288\u001b[0m, in \u001b[0;36mBatchedCalls.__call__\u001b[1;34m(self)\u001b[0m\n\u001b[0;32m    284\u001b[0m \u001b[39mdef\u001b[39;00m \u001b[39m__call__\u001b[39m(\u001b[39mself\u001b[39m):\n\u001b[0;32m    285\u001b[0m     \u001b[39m# Set the default nested backend to self._backend but do not set the\u001b[39;00m\n\u001b[0;32m    286\u001b[0m     \u001b[39m# change the default number of processes to -1\u001b[39;00m\n\u001b[0;32m    287\u001b[0m     \u001b[39mwith\u001b[39;00m parallel_backend(\u001b[39mself\u001b[39m\u001b[39m.\u001b[39m_backend, n_jobs\u001b[39m=\u001b[39m\u001b[39mself\u001b[39m\u001b[39m.\u001b[39m_n_jobs):\n\u001b[1;32m--> 288\u001b[0m         \u001b[39mreturn\u001b[39;00m [func(\u001b[39m*\u001b[39margs, \u001b[39m*\u001b[39m\u001b[39m*\u001b[39mkwargs)\n\u001b[0;32m    289\u001b[0m                 \u001b[39mfor\u001b[39;00m func, args, kwargs \u001b[39min\u001b[39;00m \u001b[39mself\u001b[39m\u001b[39m.\u001b[39mitems]\n",
      "File \u001b[1;32mc:\\Users\\Colton\\AppData\\Local\\Programs\\Python\\Python39\\lib\\site-packages\\joblib\\parallel.py:288\u001b[0m, in \u001b[0;36m<listcomp>\u001b[1;34m(.0)\u001b[0m\n\u001b[0;32m    284\u001b[0m \u001b[39mdef\u001b[39;00m \u001b[39m__call__\u001b[39m(\u001b[39mself\u001b[39m):\n\u001b[0;32m    285\u001b[0m     \u001b[39m# Set the default nested backend to self._backend but do not set the\u001b[39;00m\n\u001b[0;32m    286\u001b[0m     \u001b[39m# change the default number of processes to -1\u001b[39;00m\n\u001b[0;32m    287\u001b[0m     \u001b[39mwith\u001b[39;00m parallel_backend(\u001b[39mself\u001b[39m\u001b[39m.\u001b[39m_backend, n_jobs\u001b[39m=\u001b[39m\u001b[39mself\u001b[39m\u001b[39m.\u001b[39m_n_jobs):\n\u001b[1;32m--> 288\u001b[0m         \u001b[39mreturn\u001b[39;00m [func(\u001b[39m*\u001b[39margs, \u001b[39m*\u001b[39m\u001b[39m*\u001b[39mkwargs)\n\u001b[0;32m    289\u001b[0m                 \u001b[39mfor\u001b[39;00m func, args, kwargs \u001b[39min\u001b[39;00m \u001b[39mself\u001b[39m\u001b[39m.\u001b[39mitems]\n",
      "File \u001b[1;32mc:\\Users\\Colton\\AppData\\Local\\Programs\\Python\\Python39\\lib\\site-packages\\sklearn\\utils\\parallel.py:123\u001b[0m, in \u001b[0;36m_FuncWrapper.__call__\u001b[1;34m(self, *args, **kwargs)\u001b[0m\n\u001b[0;32m    121\u001b[0m     config \u001b[39m=\u001b[39m {}\n\u001b[0;32m    122\u001b[0m \u001b[39mwith\u001b[39;00m config_context(\u001b[39m*\u001b[39m\u001b[39m*\u001b[39mconfig):\n\u001b[1;32m--> 123\u001b[0m     \u001b[39mreturn\u001b[39;00m \u001b[39mself\u001b[39m\u001b[39m.\u001b[39mfunction(\u001b[39m*\u001b[39margs, \u001b[39m*\u001b[39m\u001b[39m*\u001b[39mkwargs)\n",
      "File \u001b[1;32mc:\\Users\\Colton\\AppData\\Local\\Programs\\Python\\Python39\\lib\\site-packages\\sklearn\\linear_model\\_logistic.py:524\u001b[0m, in \u001b[0;36m_logistic_regression_path\u001b[1;34m(X, y, pos_class, Cs, fit_intercept, max_iter, tol, verbose, solver, coef, class_weight, dual, penalty, intercept_scaling, multi_class, random_state, check_input, max_squared_sum, sample_weight, l1_ratio, n_threads)\u001b[0m\n\u001b[0;32m    521\u001b[0m         alpha \u001b[39m=\u001b[39m (\u001b[39m1.0\u001b[39m \u001b[39m/\u001b[39m C) \u001b[39m*\u001b[39m (\u001b[39m1\u001b[39m \u001b[39m-\u001b[39m l1_ratio)\n\u001b[0;32m    522\u001b[0m         beta \u001b[39m=\u001b[39m (\u001b[39m1.0\u001b[39m \u001b[39m/\u001b[39m C) \u001b[39m*\u001b[39m l1_ratio\n\u001b[1;32m--> 524\u001b[0m     w0, n_iter_i, warm_start_sag \u001b[39m=\u001b[39m sag_solver(\n\u001b[0;32m    525\u001b[0m         X,\n\u001b[0;32m    526\u001b[0m         target,\n\u001b[0;32m    527\u001b[0m         sample_weight,\n\u001b[0;32m    528\u001b[0m         loss,\n\u001b[0;32m    529\u001b[0m         alpha,\n\u001b[0;32m    530\u001b[0m         beta,\n\u001b[0;32m    531\u001b[0m         max_iter,\n\u001b[0;32m    532\u001b[0m         tol,\n\u001b[0;32m    533\u001b[0m         verbose,\n\u001b[0;32m    534\u001b[0m         random_state,\n\u001b[0;32m    535\u001b[0m         \u001b[39mFalse\u001b[39;49;00m,\n\u001b[0;32m    536\u001b[0m         max_squared_sum,\n\u001b[0;32m    537\u001b[0m         warm_start_sag,\n\u001b[0;32m    538\u001b[0m         is_saga\u001b[39m=\u001b[39;49m(solver \u001b[39m==\u001b[39;49m \u001b[39m\"\u001b[39;49m\u001b[39msaga\u001b[39;49m\u001b[39m\"\u001b[39;49m),\n\u001b[0;32m    539\u001b[0m     )\n\u001b[0;32m    541\u001b[0m \u001b[39melse\u001b[39;00m:\n\u001b[0;32m    542\u001b[0m     \u001b[39mraise\u001b[39;00m \u001b[39mValueError\u001b[39;00m(\n\u001b[0;32m    543\u001b[0m         \u001b[39m\"\u001b[39m\u001b[39msolver must be one of \u001b[39m\u001b[39m{\u001b[39m\u001b[39m'\u001b[39m\u001b[39mliblinear\u001b[39m\u001b[39m'\u001b[39m\u001b[39m, \u001b[39m\u001b[39m'\u001b[39m\u001b[39mlbfgs\u001b[39m\u001b[39m'\u001b[39m\u001b[39m, \u001b[39m\u001b[39m\"\u001b[39m\n\u001b[0;32m    544\u001b[0m         \u001b[39m\"\u001b[39m\u001b[39m'\u001b[39m\u001b[39mnewton-cg\u001b[39m\u001b[39m'\u001b[39m\u001b[39m, \u001b[39m\u001b[39m'\u001b[39m\u001b[39msag\u001b[39m\u001b[39m'\u001b[39m\u001b[39m}, got \u001b[39m\u001b[39m'\u001b[39m\u001b[39m%s\u001b[39;00m\u001b[39m'\u001b[39m\u001b[39m instead\u001b[39m\u001b[39m\"\u001b[39m \u001b[39m%\u001b[39m solver\n\u001b[0;32m    545\u001b[0m     )\n",
      "File \u001b[1;32mc:\\Users\\Colton\\AppData\\Local\\Programs\\Python\\Python39\\lib\\site-packages\\sklearn\\linear_model\\_sag.py:325\u001b[0m, in \u001b[0;36msag_solver\u001b[1;34m(X, y, sample_weight, loss, alpha, beta, max_iter, tol, verbose, random_state, check_input, max_squared_sum, warm_start_mem, is_saga)\u001b[0m\n\u001b[0;32m    319\u001b[0m     \u001b[39mraise\u001b[39;00m \u001b[39mZeroDivisionError\u001b[39;00m(\n\u001b[0;32m    320\u001b[0m         \u001b[39m\"\u001b[39m\u001b[39mCurrent sag implementation does not handle \u001b[39m\u001b[39m\"\u001b[39m\n\u001b[0;32m    321\u001b[0m         \u001b[39m\"\u001b[39m\u001b[39mthe case step_size * alpha_scaled == 1\u001b[39m\u001b[39m\"\u001b[39m\n\u001b[0;32m    322\u001b[0m     )\n\u001b[0;32m    324\u001b[0m sag \u001b[39m=\u001b[39m sag64 \u001b[39mif\u001b[39;00m X\u001b[39m.\u001b[39mdtype \u001b[39m==\u001b[39m np\u001b[39m.\u001b[39mfloat64 \u001b[39melse\u001b[39;00m sag32\n\u001b[1;32m--> 325\u001b[0m num_seen, n_iter_ \u001b[39m=\u001b[39m sag(\n\u001b[0;32m    326\u001b[0m     dataset,\n\u001b[0;32m    327\u001b[0m     coef_init,\n\u001b[0;32m    328\u001b[0m     intercept_init,\n\u001b[0;32m    329\u001b[0m     n_samples,\n\u001b[0;32m    330\u001b[0m     n_features,\n\u001b[0;32m    331\u001b[0m     n_classes,\n\u001b[0;32m    332\u001b[0m     tol,\n\u001b[0;32m    333\u001b[0m     max_iter,\n\u001b[0;32m    334\u001b[0m     loss,\n\u001b[0;32m    335\u001b[0m     step_size,\n\u001b[0;32m    336\u001b[0m     alpha_scaled,\n\u001b[0;32m    337\u001b[0m     beta_scaled,\n\u001b[0;32m    338\u001b[0m     sum_gradient_init,\n\u001b[0;32m    339\u001b[0m     gradient_memory_init,\n\u001b[0;32m    340\u001b[0m     seen_init,\n\u001b[0;32m    341\u001b[0m     num_seen_init,\n\u001b[0;32m    342\u001b[0m     fit_intercept,\n\u001b[0;32m    343\u001b[0m     intercept_sum_gradient,\n\u001b[0;32m    344\u001b[0m     intercept_decay,\n\u001b[0;32m    345\u001b[0m     is_saga,\n\u001b[0;32m    346\u001b[0m     verbose,\n\u001b[0;32m    347\u001b[0m )\n\u001b[0;32m    349\u001b[0m \u001b[39mif\u001b[39;00m n_iter_ \u001b[39m==\u001b[39m max_iter:\n\u001b[0;32m    350\u001b[0m     warnings\u001b[39m.\u001b[39mwarn(\n\u001b[0;32m    351\u001b[0m         \u001b[39m\"\u001b[39m\u001b[39mThe max_iter was reached which means the coef_ did not converge\u001b[39m\u001b[39m\"\u001b[39m,\n\u001b[0;32m    352\u001b[0m         ConvergenceWarning,\n\u001b[0;32m    353\u001b[0m     )\n",
      "\u001b[1;31mKeyboardInterrupt\u001b[0m: "
     ]
    }
   ],
   "source": [
    "en_grid_result = en_grid_search.fit(X[en_predictors],y) # We pass in X[en_predictors] because the result is the same but slightly faster."
   ]
  },
  {
   "cell_type": "code",
   "execution_count": 100,
   "metadata": {},
   "outputs": [
    {
     "name": "stdout",
     "output_type": "stream",
     "text": [
      "C = 0.01, l1_ratio = 1.0, with an accuracy of 0.6431155838173498.\n",
      "\n",
      "   param_logistic__l1_ratio param_logistic__C  mean_test_score\n",
      "0                       0.0              1000         0.643111\n",
      "1                       0.1              1000         0.643091\n",
      "2                      0.25              1000         0.643102\n",
      "3                       0.5              1000         0.643092\n",
      "4                      0.75              1000         0.643100\n",
      "5                       0.9              1000         0.643089\n",
      "6                       1.0              1000         0.643097\n",
      "7                       0.0               100         0.643077\n",
      "8                       0.1               100         0.643110\n",
      "9                      0.25               100         0.643108\n",
      "10                      0.5               100         0.643092\n",
      "11                     0.75               100         0.643105\n",
      "12                      0.9               100         0.643094\n",
      "13                      1.0               100         0.643107\n",
      "14                      0.0                10         0.643084\n",
      "15                      0.1                10         0.643113\n",
      "16                     0.25                10         0.643109\n",
      "17                      0.5                10         0.643092\n",
      "18                     0.75                10         0.643090\n",
      "19                      0.9                10         0.643100\n",
      "20                      1.0                10         0.643104\n",
      "21                      0.0               1.0         0.643085\n",
      "22                      0.1               1.0         0.643099\n",
      "23                     0.25               1.0         0.643100\n",
      "24                      0.5               1.0         0.643093\n",
      "25                     0.75               1.0         0.643107\n",
      "26                      0.9               1.0         0.643094\n",
      "27                      1.0               1.0         0.643114\n",
      "28                      0.0               0.1         0.643106\n",
      "29                      0.1               0.1         0.643093\n",
      "30                     0.25               0.1         0.643096\n",
      "31                      0.5               0.1         0.643099\n",
      "32                     0.75               0.1         0.643105\n",
      "33                      0.9               0.1         0.643113\n",
      "34                      1.0               0.1         0.643092\n",
      "35                      0.0              0.01         0.643079\n",
      "36                      0.1              0.01         0.643081\n",
      "37                     0.25              0.01         0.643097\n",
      "38                      0.5              0.01         0.643086\n",
      "39                     0.75              0.01         0.643089\n",
      "40                      0.9              0.01         0.643105\n",
      "41                      1.0              0.01         0.643116\n",
      "42                      0.0             0.001         0.643110\n",
      "43                      0.1             0.001         0.643100\n",
      "44                     0.25             0.001         0.643102\n",
      "45                      0.5             0.001         0.643094\n",
      "46                     0.75             0.001         0.643106\n",
      "47                      0.9             0.001         0.643100\n",
      "48                      1.0             0.001         0.643099\n"
     ]
    }
   ],
   "source": [
    "print(\"C = {bestC}, l1_ratio = {bestratio}, with an accuracy of {bestScore}.\\n\".format(\n",
    "    bestC = en_grid_result.best_params_['logistic__C'],\n",
    "    bestratio = en_grid_result.best_params_['logistic__l1_ratio'],\n",
    "    bestScore = en_grid_result.best_score_))\n",
    "\n",
    "res = pd.DataFrame(en_grid_result.cv_results_)\n",
    "print(res[['param_logistic__l1_ratio','param_logistic__C','mean_test_score']])"
   ]
  },
  {
   "cell_type": "code",
   "execution_count": 60,
   "metadata": {},
   "outputs": [],
   "source": [
    "en_pipe.set_params(logistic__C = 0.01, logistic__l1_ratio = 1.0)\n",
    "en = fitmodel(model = en_pipe,\n",
    "              filename = \"models/elastic_net.joblib\")"
   ]
  },
  {
   "attachments": {},
   "cell_type": "markdown",
   "metadata": {},
   "source": [
    "One thing to keep in mind is that games played and games won are relative to the size of the dataset, so it might be a good idea to use a proportion between players instead in case someone wants to use the final model on a dataset which is not of the same size. It's unclear if this will matter though.\n",
    "\n",
    "The goal of this project is more interpretation/inference than predicition, so we can hold this thought for now."
   ]
  },
  {
   "cell_type": "code",
   "execution_count": 15,
   "metadata": {},
   "outputs": [],
   "source": [
    "dtc_predictors = list(set(game_train.head()).difference({\"p1_won\",\"p1_id\",\"p2_id\"}))\n",
    "\n",
    "dtc_pipe = Pipeline(steps = [\n",
    "    (\"predictors\", ColumnTransformer([(\"predictors\",\"passthrough\",dtc_predictors)])),\n",
    "    (\"decision_tree\", tree.DecisionTreeClassifier(random_state = 42))\n",
    "    ])\n",
    "\n",
    "dtc_grid = dict(decision_tree__ccp_alpha = [0.000, 0.005, 0.010, 0.020],\n",
    "                decision_tree__max_depth = [3, 5, 10, None],\n",
    "                decision_tree__min_samples_leaf = [1, 3, 5, 10])\n",
    "\n",
    "game_folded = StratifiedKFold(n_splits=5).split(X,y)\n",
    "\n",
    "dtc_grid_search = GridSearchCV(estimator = dtc_pipe,\n",
    "                               param_grid = dtc_grid,\n",
    "                               n_jobs = 4,\n",
    "                               cv = game_folded,\n",
    "                               scoring = 'accuracy',\n",
    "                               error_score = 0,\n",
    "                               verbose = 10)"
   ]
  },
  {
   "cell_type": "code",
   "execution_count": 121,
   "metadata": {},
   "outputs": [
    {
     "name": "stdout",
     "output_type": "stream",
     "text": [
      "Fitting 5 folds for each of 64 candidates, totalling 320 fits\n"
     ]
    },
    {
     "ename": "KeyboardInterrupt",
     "evalue": "",
     "output_type": "error",
     "traceback": [
      "\u001b[1;31m---------------------------------------------------------------------------\u001b[0m",
      "\u001b[1;31mKeyboardInterrupt\u001b[0m                         Traceback (most recent call last)",
      "Cell \u001b[1;32mIn[121], line 1\u001b[0m\n\u001b[1;32m----> 1\u001b[0m dtc_grid_result \u001b[39m=\u001b[39m dtc_grid_search\u001b[39m.\u001b[39;49mfit(X[dtc_predictors],y)\n",
      "File \u001b[1;32mc:\\Users\\Colton\\AppData\\Local\\Programs\\Python\\Python39\\lib\\site-packages\\sklearn\\model_selection\\_search.py:874\u001b[0m, in \u001b[0;36mBaseSearchCV.fit\u001b[1;34m(self, X, y, groups, **fit_params)\u001b[0m\n\u001b[0;32m    868\u001b[0m     results \u001b[39m=\u001b[39m \u001b[39mself\u001b[39m\u001b[39m.\u001b[39m_format_results(\n\u001b[0;32m    869\u001b[0m         all_candidate_params, n_splits, all_out, all_more_results\n\u001b[0;32m    870\u001b[0m     )\n\u001b[0;32m    872\u001b[0m     \u001b[39mreturn\u001b[39;00m results\n\u001b[1;32m--> 874\u001b[0m \u001b[39mself\u001b[39;49m\u001b[39m.\u001b[39;49m_run_search(evaluate_candidates)\n\u001b[0;32m    876\u001b[0m \u001b[39m# multimetric is determined here because in the case of a callable\u001b[39;00m\n\u001b[0;32m    877\u001b[0m \u001b[39m# self.scoring the return type is only known after calling\u001b[39;00m\n\u001b[0;32m    878\u001b[0m first_test_score \u001b[39m=\u001b[39m all_out[\u001b[39m0\u001b[39m][\u001b[39m\"\u001b[39m\u001b[39mtest_scores\u001b[39m\u001b[39m\"\u001b[39m]\n",
      "File \u001b[1;32mc:\\Users\\Colton\\AppData\\Local\\Programs\\Python\\Python39\\lib\\site-packages\\sklearn\\model_selection\\_search.py:1388\u001b[0m, in \u001b[0;36mGridSearchCV._run_search\u001b[1;34m(self, evaluate_candidates)\u001b[0m\n\u001b[0;32m   1386\u001b[0m \u001b[39mdef\u001b[39;00m \u001b[39m_run_search\u001b[39m(\u001b[39mself\u001b[39m, evaluate_candidates):\n\u001b[0;32m   1387\u001b[0m     \u001b[39m\"\"\"Search all candidates in param_grid\"\"\"\u001b[39;00m\n\u001b[1;32m-> 1388\u001b[0m     evaluate_candidates(ParameterGrid(\u001b[39mself\u001b[39;49m\u001b[39m.\u001b[39;49mparam_grid))\n",
      "File \u001b[1;32mc:\\Users\\Colton\\AppData\\Local\\Programs\\Python\\Python39\\lib\\site-packages\\sklearn\\model_selection\\_search.py:821\u001b[0m, in \u001b[0;36mBaseSearchCV.fit.<locals>.evaluate_candidates\u001b[1;34m(candidate_params, cv, more_results)\u001b[0m\n\u001b[0;32m    813\u001b[0m \u001b[39mif\u001b[39;00m \u001b[39mself\u001b[39m\u001b[39m.\u001b[39mverbose \u001b[39m>\u001b[39m \u001b[39m0\u001b[39m:\n\u001b[0;32m    814\u001b[0m     \u001b[39mprint\u001b[39m(\n\u001b[0;32m    815\u001b[0m         \u001b[39m\"\u001b[39m\u001b[39mFitting \u001b[39m\u001b[39m{0}\u001b[39;00m\u001b[39m folds for each of \u001b[39m\u001b[39m{1}\u001b[39;00m\u001b[39m candidates,\u001b[39m\u001b[39m\"\u001b[39m\n\u001b[0;32m    816\u001b[0m         \u001b[39m\"\u001b[39m\u001b[39m totalling \u001b[39m\u001b[39m{2}\u001b[39;00m\u001b[39m fits\u001b[39m\u001b[39m\"\u001b[39m\u001b[39m.\u001b[39mformat(\n\u001b[0;32m    817\u001b[0m             n_splits, n_candidates, n_candidates \u001b[39m*\u001b[39m n_splits\n\u001b[0;32m    818\u001b[0m         )\n\u001b[0;32m    819\u001b[0m     )\n\u001b[1;32m--> 821\u001b[0m out \u001b[39m=\u001b[39m parallel(\n\u001b[0;32m    822\u001b[0m     delayed(_fit_and_score)(\n\u001b[0;32m    823\u001b[0m         clone(base_estimator),\n\u001b[0;32m    824\u001b[0m         X,\n\u001b[0;32m    825\u001b[0m         y,\n\u001b[0;32m    826\u001b[0m         train\u001b[39m=\u001b[39;49mtrain,\n\u001b[0;32m    827\u001b[0m         test\u001b[39m=\u001b[39;49mtest,\n\u001b[0;32m    828\u001b[0m         parameters\u001b[39m=\u001b[39;49mparameters,\n\u001b[0;32m    829\u001b[0m         split_progress\u001b[39m=\u001b[39;49m(split_idx, n_splits),\n\u001b[0;32m    830\u001b[0m         candidate_progress\u001b[39m=\u001b[39;49m(cand_idx, n_candidates),\n\u001b[0;32m    831\u001b[0m         \u001b[39m*\u001b[39;49m\u001b[39m*\u001b[39;49mfit_and_score_kwargs,\n\u001b[0;32m    832\u001b[0m     )\n\u001b[0;32m    833\u001b[0m     \u001b[39mfor\u001b[39;49;00m (cand_idx, parameters), (split_idx, (train, test)) \u001b[39min\u001b[39;49;00m product(\n\u001b[0;32m    834\u001b[0m         \u001b[39menumerate\u001b[39;49m(candidate_params), \u001b[39menumerate\u001b[39;49m(cv\u001b[39m.\u001b[39;49msplit(X, y, groups))\n\u001b[0;32m    835\u001b[0m     )\n\u001b[0;32m    836\u001b[0m )\n\u001b[0;32m    838\u001b[0m \u001b[39mif\u001b[39;00m \u001b[39mlen\u001b[39m(out) \u001b[39m<\u001b[39m \u001b[39m1\u001b[39m:\n\u001b[0;32m    839\u001b[0m     \u001b[39mraise\u001b[39;00m \u001b[39mValueError\u001b[39;00m(\n\u001b[0;32m    840\u001b[0m         \u001b[39m\"\u001b[39m\u001b[39mNo fits were performed. \u001b[39m\u001b[39m\"\u001b[39m\n\u001b[0;32m    841\u001b[0m         \u001b[39m\"\u001b[39m\u001b[39mWas the CV iterator empty? \u001b[39m\u001b[39m\"\u001b[39m\n\u001b[0;32m    842\u001b[0m         \u001b[39m\"\u001b[39m\u001b[39mWere there no candidates?\u001b[39m\u001b[39m\"\u001b[39m\n\u001b[0;32m    843\u001b[0m     )\n",
      "File \u001b[1;32mc:\\Users\\Colton\\AppData\\Local\\Programs\\Python\\Python39\\lib\\site-packages\\sklearn\\utils\\parallel.py:63\u001b[0m, in \u001b[0;36mParallel.__call__\u001b[1;34m(self, iterable)\u001b[0m\n\u001b[0;32m     58\u001b[0m config \u001b[39m=\u001b[39m get_config()\n\u001b[0;32m     59\u001b[0m iterable_with_config \u001b[39m=\u001b[39m (\n\u001b[0;32m     60\u001b[0m     (_with_config(delayed_func, config), args, kwargs)\n\u001b[0;32m     61\u001b[0m     \u001b[39mfor\u001b[39;00m delayed_func, args, kwargs \u001b[39min\u001b[39;00m iterable\n\u001b[0;32m     62\u001b[0m )\n\u001b[1;32m---> 63\u001b[0m \u001b[39mreturn\u001b[39;00m \u001b[39msuper\u001b[39;49m()\u001b[39m.\u001b[39;49m\u001b[39m__call__\u001b[39;49m(iterable_with_config)\n",
      "File \u001b[1;32mc:\\Users\\Colton\\AppData\\Local\\Programs\\Python\\Python39\\lib\\site-packages\\joblib\\parallel.py:1098\u001b[0m, in \u001b[0;36mParallel.__call__\u001b[1;34m(self, iterable)\u001b[0m\n\u001b[0;32m   1095\u001b[0m     \u001b[39mself\u001b[39m\u001b[39m.\u001b[39m_iterating \u001b[39m=\u001b[39m \u001b[39mFalse\u001b[39;00m\n\u001b[0;32m   1097\u001b[0m \u001b[39mwith\u001b[39;00m \u001b[39mself\u001b[39m\u001b[39m.\u001b[39m_backend\u001b[39m.\u001b[39mretrieval_context():\n\u001b[1;32m-> 1098\u001b[0m     \u001b[39mself\u001b[39;49m\u001b[39m.\u001b[39;49mretrieve()\n\u001b[0;32m   1099\u001b[0m \u001b[39m# Make sure that we get a last message telling us we are done\u001b[39;00m\n\u001b[0;32m   1100\u001b[0m elapsed_time \u001b[39m=\u001b[39m time\u001b[39m.\u001b[39mtime() \u001b[39m-\u001b[39m \u001b[39mself\u001b[39m\u001b[39m.\u001b[39m_start_time\n",
      "File \u001b[1;32mc:\\Users\\Colton\\AppData\\Local\\Programs\\Python\\Python39\\lib\\site-packages\\joblib\\parallel.py:975\u001b[0m, in \u001b[0;36mParallel.retrieve\u001b[1;34m(self)\u001b[0m\n\u001b[0;32m    973\u001b[0m \u001b[39mtry\u001b[39;00m:\n\u001b[0;32m    974\u001b[0m     \u001b[39mif\u001b[39;00m \u001b[39mgetattr\u001b[39m(\u001b[39mself\u001b[39m\u001b[39m.\u001b[39m_backend, \u001b[39m'\u001b[39m\u001b[39msupports_timeout\u001b[39m\u001b[39m'\u001b[39m, \u001b[39mFalse\u001b[39;00m):\n\u001b[1;32m--> 975\u001b[0m         \u001b[39mself\u001b[39m\u001b[39m.\u001b[39m_output\u001b[39m.\u001b[39mextend(job\u001b[39m.\u001b[39;49mget(timeout\u001b[39m=\u001b[39;49m\u001b[39mself\u001b[39;49m\u001b[39m.\u001b[39;49mtimeout))\n\u001b[0;32m    976\u001b[0m     \u001b[39melse\u001b[39;00m:\n\u001b[0;32m    977\u001b[0m         \u001b[39mself\u001b[39m\u001b[39m.\u001b[39m_output\u001b[39m.\u001b[39mextend(job\u001b[39m.\u001b[39mget())\n",
      "File \u001b[1;32mc:\\Users\\Colton\\AppData\\Local\\Programs\\Python\\Python39\\lib\\site-packages\\joblib\\_parallel_backends.py:567\u001b[0m, in \u001b[0;36mLokyBackend.wrap_future_result\u001b[1;34m(future, timeout)\u001b[0m\n\u001b[0;32m    564\u001b[0m \u001b[39m\"\"\"Wrapper for Future.result to implement the same behaviour as\u001b[39;00m\n\u001b[0;32m    565\u001b[0m \u001b[39mAsyncResults.get from multiprocessing.\"\"\"\u001b[39;00m\n\u001b[0;32m    566\u001b[0m \u001b[39mtry\u001b[39;00m:\n\u001b[1;32m--> 567\u001b[0m     \u001b[39mreturn\u001b[39;00m future\u001b[39m.\u001b[39;49mresult(timeout\u001b[39m=\u001b[39;49mtimeout)\n\u001b[0;32m    568\u001b[0m \u001b[39mexcept\u001b[39;00m CfTimeoutError \u001b[39mas\u001b[39;00m e:\n\u001b[0;32m    569\u001b[0m     \u001b[39mraise\u001b[39;00m \u001b[39mTimeoutError\u001b[39;00m \u001b[39mfrom\u001b[39;00m \u001b[39me\u001b[39;00m\n",
      "File \u001b[1;32mc:\\Users\\Colton\\AppData\\Local\\Programs\\Python\\Python39\\lib\\concurrent\\futures\\_base.py:440\u001b[0m, in \u001b[0;36mFuture.result\u001b[1;34m(self, timeout)\u001b[0m\n\u001b[0;32m    437\u001b[0m \u001b[39melif\u001b[39;00m \u001b[39mself\u001b[39m\u001b[39m.\u001b[39m_state \u001b[39m==\u001b[39m FINISHED:\n\u001b[0;32m    438\u001b[0m     \u001b[39mreturn\u001b[39;00m \u001b[39mself\u001b[39m\u001b[39m.\u001b[39m__get_result()\n\u001b[1;32m--> 440\u001b[0m \u001b[39mself\u001b[39;49m\u001b[39m.\u001b[39;49m_condition\u001b[39m.\u001b[39;49mwait(timeout)\n\u001b[0;32m    442\u001b[0m \u001b[39mif\u001b[39;00m \u001b[39mself\u001b[39m\u001b[39m.\u001b[39m_state \u001b[39min\u001b[39;00m [CANCELLED, CANCELLED_AND_NOTIFIED]:\n\u001b[0;32m    443\u001b[0m     \u001b[39mraise\u001b[39;00m CancelledError()\n",
      "File \u001b[1;32mc:\\Users\\Colton\\AppData\\Local\\Programs\\Python\\Python39\\lib\\threading.py:312\u001b[0m, in \u001b[0;36mCondition.wait\u001b[1;34m(self, timeout)\u001b[0m\n\u001b[0;32m    310\u001b[0m \u001b[39mtry\u001b[39;00m:    \u001b[39m# restore state no matter what (e.g., KeyboardInterrupt)\u001b[39;00m\n\u001b[0;32m    311\u001b[0m     \u001b[39mif\u001b[39;00m timeout \u001b[39mis\u001b[39;00m \u001b[39mNone\u001b[39;00m:\n\u001b[1;32m--> 312\u001b[0m         waiter\u001b[39m.\u001b[39;49macquire()\n\u001b[0;32m    313\u001b[0m         gotit \u001b[39m=\u001b[39m \u001b[39mTrue\u001b[39;00m\n\u001b[0;32m    314\u001b[0m     \u001b[39melse\u001b[39;00m:\n",
      "\u001b[1;31mKeyboardInterrupt\u001b[0m: "
     ]
    }
   ],
   "source": [
    "dtc_grid_result = dtc_grid_search.fit(X[dtc_predictors],y)"
   ]
  },
  {
   "cell_type": "code",
   "execution_count": null,
   "metadata": {},
   "outputs": [
    {
     "name": "stdout",
     "output_type": "stream",
     "text": [
      "Max Features = None, Max Depth = 10, Min Samples Leaf = 10, with an accuracy of 0.646869980057419.\n",
      "\n",
      "   param_decision_tree__max_features param_decision_tree__max_depth  \\\n",
      "0                               sqrt                              3   \n",
      "1                               sqrt                              3   \n",
      "2                               sqrt                              3   \n",
      "3                               sqrt                              3   \n",
      "4                               log2                              3   \n",
      "5                               log2                              3   \n",
      "6                               log2                              3   \n",
      "7                               log2                              3   \n",
      "8                               None                              3   \n",
      "9                               None                              3   \n",
      "10                              None                              3   \n",
      "11                              None                              3   \n",
      "12                              sqrt                              5   \n",
      "13                              sqrt                              5   \n",
      "14                              sqrt                              5   \n",
      "15                              sqrt                              5   \n",
      "16                              log2                              5   \n",
      "17                              log2                              5   \n",
      "18                              log2                              5   \n",
      "19                              log2                              5   \n",
      "20                              None                              5   \n",
      "21                              None                              5   \n",
      "22                              None                              5   \n",
      "23                              None                              5   \n",
      "24                              sqrt                             10   \n",
      "25                              sqrt                             10   \n",
      "26                              sqrt                             10   \n",
      "27                              sqrt                             10   \n",
      "28                              log2                             10   \n",
      "29                              log2                             10   \n",
      "30                              log2                             10   \n",
      "31                              log2                             10   \n",
      "32                              None                             10   \n",
      "33                              None                             10   \n",
      "34                              None                             10   \n",
      "35                              None                             10   \n",
      "36                              sqrt                           None   \n",
      "37                              sqrt                           None   \n",
      "38                              sqrt                           None   \n",
      "39                              sqrt                           None   \n",
      "40                              log2                           None   \n",
      "41                              log2                           None   \n",
      "42                              log2                           None   \n",
      "43                              log2                           None   \n",
      "44                              None                           None   \n",
      "45                              None                           None   \n",
      "46                              None                           None   \n",
      "47                              None                           None   \n",
      "\n",
      "   param_decision_tree__min_samples_leaf  mean_test_score  \n",
      "0                                      1         0.573248  \n",
      "1                                      3         0.573248  \n",
      "2                                      5         0.573248  \n",
      "3                                     10         0.573248  \n",
      "4                                      1         0.503296  \n",
      "5                                      3         0.503296  \n",
      "6                                      5         0.503296  \n",
      "7                                     10         0.503296  \n",
      "8                                      1         0.621485  \n",
      "9                                      3         0.621485  \n",
      "10                                     5         0.621485  \n",
      "11                                    10         0.621485  \n",
      "12                                     1         0.583330  \n",
      "13                                     3         0.583329  \n",
      "14                                     5         0.583330  \n",
      "15                                    10         0.583330  \n",
      "16                                     1         0.506678  \n",
      "17                                     3         0.506671  \n",
      "18                                     5         0.506672  \n",
      "19                                    10         0.506671  \n",
      "20                                     1         0.631875  \n",
      "21                                     3         0.631875  \n",
      "22                                     5         0.631875  \n",
      "23                                    10         0.631875  \n",
      "24                                     1         0.601990  \n",
      "25                                     3         0.602716  \n",
      "26                                     5         0.607654  \n",
      "27                                    10         0.594804  \n",
      "28                                     1         0.512148  \n",
      "29                                     3         0.512231  \n",
      "30                                     5         0.512486  \n",
      "31                                    10         0.512306  \n",
      "32                                     1         0.646803  \n",
      "33                                     3         0.646792  \n",
      "34                                     5         0.646820  \n",
      "35                                    10         0.646870  \n",
      "36                                     1         0.597343  \n",
      "37                                     3         0.626045  \n",
      "38                                     5         0.634018  \n",
      "39                                    10         0.639746  \n",
      "40                                     1         0.580045  \n",
      "41                                     3         0.614233  \n",
      "42                                     5         0.617712  \n",
      "43                                    10         0.617297  \n",
      "44                                     1         0.616649  \n",
      "45                                     3         0.615557  \n",
      "46                                     5         0.622533  \n",
      "47                                    10         0.636903  \n"
     ]
    }
   ],
   "source": [
    "print(\"Max Features = {bestccp}, Max Depth = {bestMD}, Min Samples Leaf = {bestMS}, with an accuracy of {bestScore}.\\n\".format(\n",
    "    bestccp = dtc_grid_result.best_params_['decision_tree__ccp_alpha'],\n",
    "    bestMD = dtc_grid_result.best_params_['decision_tree__max_depth'],\n",
    "    bestMS = dtc_grid_result.best_params_['decision_tree__min_samples_leaf'],\n",
    "    bestScore = dtc_grid_result.best_score_))\n",
    "\n",
    "res = pd.DataFrame(dtc_grid_result.cv_results_)\n",
    "print(res[['param_decision_tree__max_features',\n",
    "           'param_decision_tree__max_depth',\n",
    "           'param_decision_tree__min_samples_leaf',\n",
    "           'mean_test_score']])"
   ]
  },
  {
   "cell_type": "code",
   "execution_count": 16,
   "metadata": {},
   "outputs": [],
   "source": [
    "dtc_pipe.set_params(decision_tree__max_features = None, decision_tree__max_depth = 10, decision_tree__min_samples_leaf = 10)\n",
    "\n",
    "dtc = fitmodel(model = dtc_pipe,\n",
    "               filename = \"models/decision_tree.joblib\")"
   ]
  },
  {
   "cell_type": "code",
   "execution_count": 18,
   "metadata": {},
   "outputs": [
    {
     "name": "stderr",
     "output_type": "stream",
     "text": [
      "[Parallel(n_jobs=1)]: Using backend SequentialBackend with 1 concurrent workers.\n"
     ]
    },
    {
     "name": "stdout",
     "output_type": "stream",
     "text": [
      "[CV] START .....................................................................\n",
      "[CV] END ................................ score: (test=0.646) total time=  24.7s\n",
      "[CV] START .....................................................................\n"
     ]
    },
    {
     "name": "stderr",
     "output_type": "stream",
     "text": [
      "[Parallel(n_jobs=1)]: Done   1 out of   1 | elapsed:   24.9s remaining:    0.0s\n"
     ]
    },
    {
     "name": "stdout",
     "output_type": "stream",
     "text": [
      "[CV] END ................................ score: (test=0.648) total time=  24.6s\n"
     ]
    },
    {
     "name": "stderr",
     "output_type": "stream",
     "text": [
      "[Parallel(n_jobs=1)]: Done   2 out of   2 | elapsed:   49.7s remaining:    0.0s\n",
      "[Parallel(n_jobs=1)]: Done   2 out of   2 | elapsed:   49.7s finished\n"
     ]
    },
    {
     "data": {
      "text/plain": [
       "array([0.64642898, 0.64808025])"
      ]
     },
     "execution_count": 18,
     "metadata": {},
     "output_type": "execute_result"
    }
   ],
   "source": [
    "cross_val_score(dtc, cv = 2, X=X, y=y, verbose=10)"
   ]
  },
  {
   "cell_type": "code",
   "execution_count": 8,
   "metadata": {},
   "outputs": [],
   "source": [
    "rfc_predictors = list(set(game_train.head()).difference({\"p1_won\",\"p1_id\",\"p2_id\"}))\n",
    "\n",
    "rfc_pipe = Pipeline(steps = [\n",
    "            (\"predictors\", ColumnTransformer([(\"predictors\",\"passthrough\",rfc_predictors)])),\n",
    "            (\"random_forest\", ensemble.RandomForestClassifier(verbose = 3, n_jobs = 4, random_state = 420))\n",
    "            ])\n",
    "\n",
    "rfc_grid = dict(random_forest__n_estimators = [100,200,400],\n",
    "                random_forest__min_samples_leaf = [1, 3, 5, 10])\n",
    "\n",
    "game_folded = StratifiedKFold(n_splits=2).split(X,y) # 5 folds takes a LONG time to run...\n",
    "\n",
    "rfc_grid_search = GridSearchCV(estimator = rfc_pipe,\n",
    "                               param_grid = rfc_grid,\n",
    "                               n_jobs = 1,\n",
    "                               cv = game_folded,\n",
    "                               scoring = 'accuracy',\n",
    "                               error_score = 0,\n",
    "                               verbose = 10)"
   ]
  },
  {
   "cell_type": "code",
   "execution_count": 9,
   "metadata": {},
   "outputs": [
    {
     "name": "stdout",
     "output_type": "stream",
     "text": [
      "Fitting 2 folds for each of 12 candidates, totalling 24 fits\n",
      "[CV 1/2; 1/12] START random_forest__min_samples_leaf=1, random_forest__n_estimators=100\n"
     ]
    },
    {
     "name": "stderr",
     "output_type": "stream",
     "text": [
      "[Parallel(n_jobs=4)]: Using backend LokyBackend with 4 concurrent workers.\n",
      "[Parallel(n_jobs=4)]: Done  24 tasks      | elapsed:  1.1min\n",
      "[Parallel(n_jobs=4)]: Done 100 out of 100 | elapsed:  4.5min finished\n",
      "[Parallel(n_jobs=4)]: Using backend ThreadingBackend with 4 concurrent workers.\n",
      "[Parallel(n_jobs=4)]: Done  24 tasks      | elapsed:    5.1s\n",
      "[Parallel(n_jobs=4)]: Done 100 out of 100 | elapsed:   21.9s finished\n"
     ]
    },
    {
     "name": "stdout",
     "output_type": "stream",
     "text": [
      "[CV 1/2; 1/12] END random_forest__min_samples_leaf=1, random_forest__n_estimators=100;, score=0.664 total time= 5.0min\n",
      "[CV 2/2; 1/12] START random_forest__min_samples_leaf=1, random_forest__n_estimators=100\n"
     ]
    },
    {
     "name": "stderr",
     "output_type": "stream",
     "text": [
      "[Parallel(n_jobs=4)]: Using backend LokyBackend with 4 concurrent workers.\n",
      "[Parallel(n_jobs=4)]: Done  24 tasks      | elapsed:  1.0min\n",
      "[Parallel(n_jobs=4)]: Done 100 out of 100 | elapsed:  4.2min finished\n",
      "[Parallel(n_jobs=4)]: Using backend ThreadingBackend with 4 concurrent workers.\n",
      "[Parallel(n_jobs=4)]: Done  24 tasks      | elapsed:    5.1s\n",
      "[Parallel(n_jobs=4)]: Done 100 out of 100 | elapsed:   21.3s finished\n"
     ]
    },
    {
     "name": "stdout",
     "output_type": "stream",
     "text": [
      "[CV 2/2; 1/12] END random_forest__min_samples_leaf=1, random_forest__n_estimators=100;, score=0.665 total time= 4.6min\n",
      "[CV 1/2; 2/12] START random_forest__min_samples_leaf=1, random_forest__n_estimators=200\n"
     ]
    },
    {
     "name": "stderr",
     "output_type": "stream",
     "text": [
      "[Parallel(n_jobs=4)]: Using backend LokyBackend with 4 concurrent workers.\n",
      "[Parallel(n_jobs=4)]: Done  24 tasks      | elapsed:  1.0min\n",
      "[Parallel(n_jobs=4)]: Done 120 tasks      | elapsed:  5.1min\n",
      "[Parallel(n_jobs=4)]: Done 200 out of 200 | elapsed:  8.5min finished\n",
      "[Parallel(n_jobs=4)]: Using backend ThreadingBackend with 4 concurrent workers.\n",
      "[Parallel(n_jobs=4)]: Done  24 tasks      | elapsed:    6.6s\n",
      "[Parallel(n_jobs=4)]: Done 120 tasks      | elapsed:   32.5s\n",
      "[Parallel(n_jobs=4)]: Done 200 out of 200 | elapsed:   50.7s finished\n"
     ]
    },
    {
     "name": "stdout",
     "output_type": "stream",
     "text": [
      "[CV 1/2; 2/12] END random_forest__min_samples_leaf=1, random_forest__n_estimators=200;, score=0.666 total time= 9.5min\n",
      "[CV 2/2; 2/12] START random_forest__min_samples_leaf=1, random_forest__n_estimators=200\n"
     ]
    },
    {
     "name": "stderr",
     "output_type": "stream",
     "text": [
      "[Parallel(n_jobs=4)]: Using backend LokyBackend with 4 concurrent workers.\n",
      "[Parallel(n_jobs=4)]: Done  24 tasks      | elapsed:  1.0min\n",
      "[Parallel(n_jobs=4)]: Done 120 tasks      | elapsed:  5.1min\n",
      "[Parallel(n_jobs=4)]: Done 200 out of 200 | elapsed:  8.5min finished\n",
      "[Parallel(n_jobs=4)]: Using backend ThreadingBackend with 4 concurrent workers.\n",
      "[Parallel(n_jobs=4)]: Done  24 tasks      | elapsed:    6.7s\n",
      "[Parallel(n_jobs=4)]: Done 120 tasks      | elapsed:   29.9s\n",
      "[Parallel(n_jobs=4)]: Done 200 out of 200 | elapsed:   49.6s finished\n"
     ]
    },
    {
     "name": "stdout",
     "output_type": "stream",
     "text": [
      "[CV 2/2; 2/12] END random_forest__min_samples_leaf=1, random_forest__n_estimators=200;, score=0.667 total time= 9.4min\n",
      "[CV 1/2; 3/12] START random_forest__min_samples_leaf=1, random_forest__n_estimators=400\n"
     ]
    },
    {
     "name": "stderr",
     "output_type": "stream",
     "text": [
      "[Parallel(n_jobs=4)]: Using backend LokyBackend with 4 concurrent workers.\n",
      "[Parallel(n_jobs=4)]: Done  24 tasks      | elapsed:   58.7s\n",
      "[Parallel(n_jobs=4)]: Done 120 tasks      | elapsed:  4.8min\n",
      "[Parallel(n_jobs=4)]: Done 280 tasks      | elapsed: 11.4min\n",
      "[Parallel(n_jobs=4)]: Done 400 out of 400 | elapsed: 16.5min finished\n",
      "[Parallel(n_jobs=4)]: Using backend ThreadingBackend with 4 concurrent workers.\n",
      "[Parallel(n_jobs=4)]: Done  24 tasks      | elapsed:    7.9s\n",
      "[Parallel(n_jobs=4)]: Done 120 tasks      | elapsed:   34.4s\n",
      "[Parallel(n_jobs=4)]: Done 280 tasks      | elapsed:  1.4min\n",
      "[Parallel(n_jobs=4)]: Done 400 out of 400 | elapsed:  1.9min finished\n"
     ]
    },
    {
     "name": "stdout",
     "output_type": "stream",
     "text": [
      "[CV 1/2; 3/12] END random_forest__min_samples_leaf=1, random_forest__n_estimators=400;, score=0.667 total time=18.6min\n",
      "[CV 2/2; 3/12] START random_forest__min_samples_leaf=1, random_forest__n_estimators=400\n"
     ]
    },
    {
     "name": "stderr",
     "output_type": "stream",
     "text": [
      "[Parallel(n_jobs=4)]: Using backend LokyBackend with 4 concurrent workers.\n",
      "[Parallel(n_jobs=4)]: Done  24 tasks      | elapsed:  1.1min\n",
      "[Parallel(n_jobs=4)]: Done 120 tasks      | elapsed:  5.3min\n",
      "[Parallel(n_jobs=4)]: Done 280 tasks      | elapsed: 12.4min\n",
      "[Parallel(n_jobs=4)]: Done 400 out of 400 | elapsed: 17.7min finished\n",
      "[Parallel(n_jobs=4)]: Using backend ThreadingBackend with 4 concurrent workers.\n",
      "[Parallel(n_jobs=4)]: Done  24 tasks      | elapsed:    6.6s\n",
      "[Parallel(n_jobs=4)]: Done 120 tasks      | elapsed:   33.5s\n",
      "[Parallel(n_jobs=4)]: Done 280 tasks      | elapsed:  1.3min\n",
      "[Parallel(n_jobs=4)]: Done 400 out of 400 | elapsed:  1.9min finished\n"
     ]
    },
    {
     "name": "stdout",
     "output_type": "stream",
     "text": [
      "[CV 2/2; 3/12] END random_forest__min_samples_leaf=1, random_forest__n_estimators=400;, score=0.668 total time=19.7min\n",
      "[CV 1/2; 4/12] START random_forest__min_samples_leaf=3, random_forest__n_estimators=100\n"
     ]
    },
    {
     "name": "stderr",
     "output_type": "stream",
     "text": [
      "[Parallel(n_jobs=4)]: Using backend LokyBackend with 4 concurrent workers.\n",
      "[Parallel(n_jobs=4)]: Done  24 tasks      | elapsed:   55.8s\n",
      "[Parallel(n_jobs=4)]: Done 100 out of 100 | elapsed:  3.7min finished\n",
      "[Parallel(n_jobs=4)]: Using backend ThreadingBackend with 4 concurrent workers.\n",
      "[Parallel(n_jobs=4)]: Done  24 tasks      | elapsed:    2.8s\n",
      "[Parallel(n_jobs=4)]: Done 100 out of 100 | elapsed:   12.1s finished\n"
     ]
    },
    {
     "name": "stdout",
     "output_type": "stream",
     "text": [
      "[CV 1/2; 4/12] END random_forest__min_samples_leaf=3, random_forest__n_estimators=100;, score=0.672 total time= 4.0min\n",
      "[CV 2/2; 4/12] START random_forest__min_samples_leaf=3, random_forest__n_estimators=100\n"
     ]
    },
    {
     "name": "stderr",
     "output_type": "stream",
     "text": [
      "[Parallel(n_jobs=4)]: Using backend LokyBackend with 4 concurrent workers.\n",
      "[Parallel(n_jobs=4)]: Done  24 tasks      | elapsed:   54.6s\n",
      "[Parallel(n_jobs=4)]: Done 100 out of 100 | elapsed:  3.7min finished\n",
      "[Parallel(n_jobs=4)]: Using backend ThreadingBackend with 4 concurrent workers.\n",
      "[Parallel(n_jobs=4)]: Done  24 tasks      | elapsed:    2.6s\n",
      "[Parallel(n_jobs=4)]: Done 100 out of 100 | elapsed:   11.7s finished\n"
     ]
    },
    {
     "name": "stdout",
     "output_type": "stream",
     "text": [
      "[CV 2/2; 4/12] END random_forest__min_samples_leaf=3, random_forest__n_estimators=100;, score=0.672 total time= 4.0min\n",
      "[CV 1/2; 5/12] START random_forest__min_samples_leaf=3, random_forest__n_estimators=200\n"
     ]
    },
    {
     "name": "stderr",
     "output_type": "stream",
     "text": [
      "[Parallel(n_jobs=4)]: Using backend LokyBackend with 4 concurrent workers.\n",
      "[Parallel(n_jobs=4)]: Done  24 tasks      | elapsed:   54.5s\n",
      "[Parallel(n_jobs=4)]: Done 120 tasks      | elapsed:  4.4min\n",
      "[Parallel(n_jobs=4)]: Done 200 out of 200 | elapsed:  7.4min finished\n",
      "[Parallel(n_jobs=4)]: Using backend ThreadingBackend with 4 concurrent workers.\n",
      "[Parallel(n_jobs=4)]: Done  24 tasks      | elapsed:    2.7s\n",
      "[Parallel(n_jobs=4)]: Done 120 tasks      | elapsed:   14.2s\n",
      "[Parallel(n_jobs=4)]: Done 200 out of 200 | elapsed:   23.4s finished\n"
     ]
    },
    {
     "name": "stdout",
     "output_type": "stream",
     "text": [
      "[CV 1/2; 5/12] END random_forest__min_samples_leaf=3, random_forest__n_estimators=200;, score=0.672 total time= 7.9min\n",
      "[CV 2/2; 5/12] START random_forest__min_samples_leaf=3, random_forest__n_estimators=200\n"
     ]
    },
    {
     "name": "stderr",
     "output_type": "stream",
     "text": [
      "[Parallel(n_jobs=4)]: Using backend LokyBackend with 4 concurrent workers.\n",
      "[Parallel(n_jobs=4)]: Done  24 tasks      | elapsed:   53.9s\n",
      "[Parallel(n_jobs=4)]: Done 120 tasks      | elapsed:  4.4min\n",
      "[Parallel(n_jobs=4)]: Done 200 out of 200 | elapsed:  7.3min finished\n",
      "[Parallel(n_jobs=4)]: Using backend ThreadingBackend with 4 concurrent workers.\n",
      "[Parallel(n_jobs=4)]: Done  24 tasks      | elapsed:    2.7s\n",
      "[Parallel(n_jobs=4)]: Done 120 tasks      | elapsed:   14.3s\n",
      "[Parallel(n_jobs=4)]: Done 200 out of 200 | elapsed:   23.9s finished\n"
     ]
    },
    {
     "name": "stdout",
     "output_type": "stream",
     "text": [
      "[CV 2/2; 5/12] END random_forest__min_samples_leaf=3, random_forest__n_estimators=200;, score=0.673 total time= 7.8min\n",
      "[CV 1/2; 6/12] START random_forest__min_samples_leaf=3, random_forest__n_estimators=400\n"
     ]
    },
    {
     "name": "stderr",
     "output_type": "stream",
     "text": [
      "[Parallel(n_jobs=4)]: Using backend LokyBackend with 4 concurrent workers.\n",
      "[Parallel(n_jobs=4)]: Done  24 tasks      | elapsed:   54.2s\n",
      "[Parallel(n_jobs=4)]: Done 120 tasks      | elapsed:  4.4min\n",
      "[Parallel(n_jobs=4)]: Done 280 tasks      | elapsed: 10.3min\n",
      "[Parallel(n_jobs=4)]: Done 400 out of 400 | elapsed: 14.7min finished\n",
      "[Parallel(n_jobs=4)]: Using backend ThreadingBackend with 4 concurrent workers.\n",
      "[Parallel(n_jobs=4)]: Done  24 tasks      | elapsed:    2.8s\n",
      "[Parallel(n_jobs=4)]: Done 120 tasks      | elapsed:   14.3s\n",
      "[Parallel(n_jobs=4)]: Done 280 tasks      | elapsed:   33.1s\n",
      "[Parallel(n_jobs=4)]: Done 400 out of 400 | elapsed:   47.2s finished\n"
     ]
    },
    {
     "name": "stdout",
     "output_type": "stream",
     "text": [
      "[CV 1/2; 6/12] END random_forest__min_samples_leaf=3, random_forest__n_estimators=400;, score=0.672 total time=15.6min\n",
      "[CV 2/2; 6/12] START random_forest__min_samples_leaf=3, random_forest__n_estimators=400\n"
     ]
    },
    {
     "name": "stderr",
     "output_type": "stream",
     "text": [
      "[Parallel(n_jobs=4)]: Using backend LokyBackend with 4 concurrent workers.\n",
      "[Parallel(n_jobs=4)]: Done  24 tasks      | elapsed:   54.4s\n",
      "[Parallel(n_jobs=4)]: Done 120 tasks      | elapsed:  4.4min\n",
      "[Parallel(n_jobs=4)]: Done 280 tasks      | elapsed: 10.3min\n",
      "[Parallel(n_jobs=4)]: Done 400 out of 400 | elapsed: 14.7min finished\n",
      "[Parallel(n_jobs=4)]: Using backend ThreadingBackend with 4 concurrent workers.\n",
      "[Parallel(n_jobs=4)]: Done  24 tasks      | elapsed:    2.8s\n",
      "[Parallel(n_jobs=4)]: Done 120 tasks      | elapsed:   14.4s\n",
      "[Parallel(n_jobs=4)]: Done 280 tasks      | elapsed:   34.0s\n",
      "[Parallel(n_jobs=4)]: Done 400 out of 400 | elapsed:   48.3s finished\n"
     ]
    },
    {
     "name": "stdout",
     "output_type": "stream",
     "text": [
      "[CV 2/2; 6/12] END random_forest__min_samples_leaf=3, random_forest__n_estimators=400;, score=0.674 total time=15.6min\n",
      "[CV 1/2; 7/12] START random_forest__min_samples_leaf=5, random_forest__n_estimators=100\n"
     ]
    },
    {
     "name": "stderr",
     "output_type": "stream",
     "text": [
      "[Parallel(n_jobs=4)]: Using backend LokyBackend with 4 concurrent workers.\n",
      "[Parallel(n_jobs=4)]: Done  24 tasks      | elapsed:   51.8s\n",
      "[Parallel(n_jobs=4)]: Done 100 out of 100 | elapsed:  3.5min finished\n",
      "[Parallel(n_jobs=4)]: Using backend ThreadingBackend with 4 concurrent workers.\n",
      "[Parallel(n_jobs=4)]: Done  24 tasks      | elapsed:    2.3s\n",
      "[Parallel(n_jobs=4)]: Done 100 out of 100 | elapsed:   10.2s finished\n"
     ]
    },
    {
     "name": "stdout",
     "output_type": "stream",
     "text": [
      "[CV 1/2; 7/12] END random_forest__min_samples_leaf=5, random_forest__n_estimators=100;, score=0.670 total time= 3.8min\n",
      "[CV 2/2; 7/12] START random_forest__min_samples_leaf=5, random_forest__n_estimators=100\n"
     ]
    },
    {
     "name": "stderr",
     "output_type": "stream",
     "text": [
      "[Parallel(n_jobs=4)]: Using backend LokyBackend with 4 concurrent workers.\n",
      "[Parallel(n_jobs=4)]: Done  24 tasks      | elapsed:   51.7s\n",
      "[Parallel(n_jobs=4)]: Done 100 out of 100 | elapsed:  3.5min finished\n",
      "[Parallel(n_jobs=4)]: Using backend ThreadingBackend with 4 concurrent workers.\n",
      "[Parallel(n_jobs=4)]: Done  24 tasks      | elapsed:    2.2s\n",
      "[Parallel(n_jobs=4)]: Done 100 out of 100 | elapsed:   10.2s finished\n"
     ]
    },
    {
     "name": "stdout",
     "output_type": "stream",
     "text": [
      "[CV 2/2; 7/12] END random_forest__min_samples_leaf=5, random_forest__n_estimators=100;, score=0.671 total time= 3.8min\n",
      "[CV 1/2; 8/12] START random_forest__min_samples_leaf=5, random_forest__n_estimators=200\n"
     ]
    },
    {
     "name": "stderr",
     "output_type": "stream",
     "text": [
      "[Parallel(n_jobs=4)]: Using backend LokyBackend with 4 concurrent workers.\n",
      "[Parallel(n_jobs=4)]: Done  24 tasks      | elapsed:   51.6s\n",
      "[Parallel(n_jobs=4)]: Done 120 tasks      | elapsed:  4.2min\n",
      "[Parallel(n_jobs=4)]: Done 200 out of 200 | elapsed:  7.0min finished\n",
      "[Parallel(n_jobs=4)]: Using backend ThreadingBackend with 4 concurrent workers.\n",
      "[Parallel(n_jobs=4)]: Done  24 tasks      | elapsed:    2.4s\n",
      "[Parallel(n_jobs=4)]: Done 120 tasks      | elapsed:   12.7s\n",
      "[Parallel(n_jobs=4)]: Done 200 out of 200 | elapsed:   20.4s finished\n"
     ]
    },
    {
     "name": "stdout",
     "output_type": "stream",
     "text": [
      "[CV 1/2; 8/12] END random_forest__min_samples_leaf=5, random_forest__n_estimators=200;, score=0.670 total time= 7.4min\n",
      "[CV 2/2; 8/12] START random_forest__min_samples_leaf=5, random_forest__n_estimators=200\n"
     ]
    },
    {
     "name": "stderr",
     "output_type": "stream",
     "text": [
      "[Parallel(n_jobs=4)]: Using backend LokyBackend with 4 concurrent workers.\n",
      "[Parallel(n_jobs=4)]: Done  24 tasks      | elapsed:   51.6s\n",
      "[Parallel(n_jobs=4)]: Done 120 tasks      | elapsed:  4.2min\n",
      "[Parallel(n_jobs=4)]: Done 200 out of 200 | elapsed:  7.0min finished\n",
      "[Parallel(n_jobs=4)]: Using backend ThreadingBackend with 4 concurrent workers.\n",
      "[Parallel(n_jobs=4)]: Done  24 tasks      | elapsed:    2.4s\n",
      "[Parallel(n_jobs=4)]: Done 120 tasks      | elapsed:   12.1s\n",
      "[Parallel(n_jobs=4)]: Done 200 out of 200 | elapsed:   20.3s finished\n"
     ]
    },
    {
     "name": "stdout",
     "output_type": "stream",
     "text": [
      "[CV 2/2; 8/12] END random_forest__min_samples_leaf=5, random_forest__n_estimators=200;, score=0.671 total time= 7.4min\n",
      "[CV 1/2; 9/12] START random_forest__min_samples_leaf=5, random_forest__n_estimators=400\n"
     ]
    },
    {
     "name": "stderr",
     "output_type": "stream",
     "text": [
      "[Parallel(n_jobs=4)]: Using backend LokyBackend with 4 concurrent workers.\n",
      "[Parallel(n_jobs=4)]: Done  24 tasks      | elapsed:   51.7s\n",
      "[Parallel(n_jobs=4)]: Done 120 tasks      | elapsed:  4.2min\n",
      "[Parallel(n_jobs=4)]: Done 280 tasks      | elapsed:  9.8min\n",
      "[Parallel(n_jobs=4)]: Done 400 out of 400 | elapsed: 14.0min finished\n",
      "[Parallel(n_jobs=4)]: Using backend ThreadingBackend with 4 concurrent workers.\n",
      "[Parallel(n_jobs=4)]: Done  24 tasks      | elapsed:    2.3s\n",
      "[Parallel(n_jobs=4)]: Done 120 tasks      | elapsed:   12.1s\n",
      "[Parallel(n_jobs=4)]: Done 280 tasks      | elapsed:   28.4s\n",
      "[Parallel(n_jobs=4)]: Done 400 out of 400 | elapsed:   40.5s finished\n"
     ]
    },
    {
     "name": "stdout",
     "output_type": "stream",
     "text": [
      "[CV 1/2; 9/12] END random_forest__min_samples_leaf=5, random_forest__n_estimators=400;, score=0.670 total time=14.8min\n",
      "[CV 2/2; 9/12] START random_forest__min_samples_leaf=5, random_forest__n_estimators=400\n"
     ]
    },
    {
     "name": "stderr",
     "output_type": "stream",
     "text": [
      "[Parallel(n_jobs=4)]: Using backend LokyBackend with 4 concurrent workers.\n",
      "[Parallel(n_jobs=4)]: Done  24 tasks      | elapsed:   52.5s\n",
      "[Parallel(n_jobs=4)]: Done 120 tasks      | elapsed:  4.4min\n",
      "[Parallel(n_jobs=4)]: Done 280 tasks      | elapsed: 10.1min\n",
      "[Parallel(n_jobs=4)]: Done 400 out of 400 | elapsed: 14.4min finished\n",
      "[Parallel(n_jobs=4)]: Using backend ThreadingBackend with 4 concurrent workers.\n",
      "[Parallel(n_jobs=4)]: Done  24 tasks      | elapsed:    2.2s\n",
      "[Parallel(n_jobs=4)]: Done 120 tasks      | elapsed:   11.3s\n",
      "[Parallel(n_jobs=4)]: Done 280 tasks      | elapsed:   27.4s\n",
      "[Parallel(n_jobs=4)]: Done 400 out of 400 | elapsed:   38.9s finished\n"
     ]
    },
    {
     "name": "stdout",
     "output_type": "stream",
     "text": [
      "[CV 2/2; 9/12] END random_forest__min_samples_leaf=5, random_forest__n_estimators=400;, score=0.672 total time=15.1min\n",
      "[CV 1/2; 10/12] START random_forest__min_samples_leaf=10, random_forest__n_estimators=100\n"
     ]
    },
    {
     "name": "stderr",
     "output_type": "stream",
     "text": [
      "[Parallel(n_jobs=4)]: Using backend LokyBackend with 4 concurrent workers.\n",
      "[Parallel(n_jobs=4)]: Done  24 tasks      | elapsed:   48.1s\n",
      "[Parallel(n_jobs=4)]: Done 100 out of 100 | elapsed:  3.3min finished\n",
      "[Parallel(n_jobs=4)]: Using backend ThreadingBackend with 4 concurrent workers.\n",
      "[Parallel(n_jobs=4)]: Done  24 tasks      | elapsed:    2.1s\n",
      "[Parallel(n_jobs=4)]: Done 100 out of 100 | elapsed:    8.6s finished\n"
     ]
    },
    {
     "name": "stdout",
     "output_type": "stream",
     "text": [
      "[CV 1/2; 10/12] END random_forest__min_samples_leaf=10, random_forest__n_estimators=100;, score=0.666 total time= 3.5min\n",
      "[CV 2/2; 10/12] START random_forest__min_samples_leaf=10, random_forest__n_estimators=100\n"
     ]
    },
    {
     "name": "stderr",
     "output_type": "stream",
     "text": [
      "[Parallel(n_jobs=4)]: Using backend LokyBackend with 4 concurrent workers.\n",
      "[Parallel(n_jobs=4)]: Done  24 tasks      | elapsed:   49.8s\n",
      "[Parallel(n_jobs=4)]: Done 100 out of 100 | elapsed:  3.4min finished\n",
      "[Parallel(n_jobs=4)]: Using backend ThreadingBackend with 4 concurrent workers.\n",
      "[Parallel(n_jobs=4)]: Done  24 tasks      | elapsed:    2.1s\n",
      "[Parallel(n_jobs=4)]: Done 100 out of 100 | elapsed:    8.5s finished\n"
     ]
    },
    {
     "name": "stdout",
     "output_type": "stream",
     "text": [
      "[CV 2/2; 10/12] END random_forest__min_samples_leaf=10, random_forest__n_estimators=100;, score=0.667 total time= 3.6min\n",
      "[CV 1/2; 11/12] START random_forest__min_samples_leaf=10, random_forest__n_estimators=200\n"
     ]
    },
    {
     "name": "stderr",
     "output_type": "stream",
     "text": [
      "[Parallel(n_jobs=4)]: Using backend LokyBackend with 4 concurrent workers.\n",
      "[Parallel(n_jobs=4)]: Done  24 tasks      | elapsed:   50.1s\n",
      "[Parallel(n_jobs=4)]: Done 120 tasks      | elapsed:  4.1min\n",
      "[Parallel(n_jobs=4)]: Done 200 out of 200 | elapsed:  6.8min finished\n",
      "[Parallel(n_jobs=4)]: Using backend ThreadingBackend with 4 concurrent workers.\n",
      "[Parallel(n_jobs=4)]: Done  24 tasks      | elapsed:    2.2s\n",
      "[Parallel(n_jobs=4)]: Done 120 tasks      | elapsed:   10.7s\n",
      "[Parallel(n_jobs=4)]: Done 200 out of 200 | elapsed:   18.1s finished\n"
     ]
    },
    {
     "name": "stdout",
     "output_type": "stream",
     "text": [
      "[CV 1/2; 11/12] END random_forest__min_samples_leaf=10, random_forest__n_estimators=200;, score=0.666 total time= 7.2min\n",
      "[CV 2/2; 11/12] START random_forest__min_samples_leaf=10, random_forest__n_estimators=200\n"
     ]
    },
    {
     "name": "stderr",
     "output_type": "stream",
     "text": [
      "[Parallel(n_jobs=4)]: Using backend LokyBackend with 4 concurrent workers.\n",
      "[Parallel(n_jobs=4)]: Done  24 tasks      | elapsed:   51.1s\n",
      "[Parallel(n_jobs=4)]: Done 120 tasks      | elapsed:  4.2min\n",
      "[Parallel(n_jobs=4)]: Done 200 out of 200 | elapsed:  6.8min finished\n",
      "[Parallel(n_jobs=4)]: Using backend ThreadingBackend with 4 concurrent workers.\n",
      "[Parallel(n_jobs=4)]: Done  24 tasks      | elapsed:    2.1s\n",
      "[Parallel(n_jobs=4)]: Done 120 tasks      | elapsed:   10.8s\n",
      "[Parallel(n_jobs=4)]: Done 200 out of 200 | elapsed:   18.1s finished\n"
     ]
    },
    {
     "name": "stdout",
     "output_type": "stream",
     "text": [
      "[CV 2/2; 11/12] END random_forest__min_samples_leaf=10, random_forest__n_estimators=200;, score=0.668 total time= 7.2min\n",
      "[CV 1/2; 12/12] START random_forest__min_samples_leaf=10, random_forest__n_estimators=400\n"
     ]
    },
    {
     "name": "stderr",
     "output_type": "stream",
     "text": [
      "[Parallel(n_jobs=4)]: Using backend LokyBackend with 4 concurrent workers.\n",
      "[Parallel(n_jobs=4)]: Done  24 tasks      | elapsed:   48.5s\n",
      "[Parallel(n_jobs=4)]: Done 120 tasks      | elapsed:  4.0min\n",
      "[Parallel(n_jobs=4)]: Done 280 tasks      | elapsed:  9.2min\n",
      "[Parallel(n_jobs=4)]: Done 400 out of 400 | elapsed: 13.1min finished\n",
      "[Parallel(n_jobs=4)]: Using backend ThreadingBackend with 4 concurrent workers.\n",
      "[Parallel(n_jobs=4)]: Done  24 tasks      | elapsed:    2.1s\n",
      "[Parallel(n_jobs=4)]: Done 120 tasks      | elapsed:   10.8s\n",
      "[Parallel(n_jobs=4)]: Done 280 tasks      | elapsed:   25.2s\n",
      "[Parallel(n_jobs=4)]: Done 400 out of 400 | elapsed:   35.8s finished\n"
     ]
    },
    {
     "name": "stdout",
     "output_type": "stream",
     "text": [
      "[CV 1/2; 12/12] END random_forest__min_samples_leaf=10, random_forest__n_estimators=400;, score=0.667 total time=13.8min\n",
      "[CV 2/2; 12/12] START random_forest__min_samples_leaf=10, random_forest__n_estimators=400\n"
     ]
    },
    {
     "name": "stderr",
     "output_type": "stream",
     "text": [
      "[Parallel(n_jobs=4)]: Using backend LokyBackend with 4 concurrent workers.\n",
      "[Parallel(n_jobs=4)]: Done  24 tasks      | elapsed:   48.3s\n",
      "[Parallel(n_jobs=4)]: Done 120 tasks      | elapsed:  3.9min\n",
      "[Parallel(n_jobs=4)]: Done 280 tasks      | elapsed:  9.2min\n",
      "[Parallel(n_jobs=4)]: Done 400 out of 400 | elapsed: 13.1min finished\n",
      "[Parallel(n_jobs=4)]: Using backend ThreadingBackend with 4 concurrent workers.\n",
      "[Parallel(n_jobs=4)]: Done  24 tasks      | elapsed:    2.2s\n",
      "[Parallel(n_jobs=4)]: Done 120 tasks      | elapsed:   10.4s\n",
      "[Parallel(n_jobs=4)]: Done 280 tasks      | elapsed:   25.6s\n",
      "[Parallel(n_jobs=4)]: Done 400 out of 400 | elapsed:   36.8s finished\n"
     ]
    },
    {
     "name": "stdout",
     "output_type": "stream",
     "text": [
      "[CV 2/2; 12/12] END random_forest__min_samples_leaf=10, random_forest__n_estimators=400;, score=0.668 total time=13.8min\n"
     ]
    },
    {
     "name": "stderr",
     "output_type": "stream",
     "text": [
      "[Parallel(n_jobs=4)]: Using backend ThreadingBackend with 4 concurrent workers.\n"
     ]
    },
    {
     "name": "stdout",
     "output_type": "stream",
     "text": [
      "building tree 2 of 400building tree 1 of 400\n",
      "building tree 3 of 400\n",
      "building tree 4 of 400\n",
      "\n",
      "building tree 5 of 400\n",
      "building tree 6 of 400\n",
      "building tree 7 of 400\n",
      "building tree 8 of 400\n",
      "building tree 9 of 400\n",
      "building tree 10 of 400\n",
      "building tree 11 of 400\n",
      "building tree 12 of 400\n",
      "building tree 13 of 400\n",
      "building tree 14 of 400\n",
      "building tree 15 of 400\n",
      "building tree 16 of 400\n",
      "building tree 17 of 400\n",
      "building tree 18 of 400\n",
      "building tree 19 of 400\n",
      "building tree 20 of 400\n",
      "building tree 21 of 400\n",
      "building tree 22 of 400\n",
      "building tree 23 of 400\n",
      "building tree 24 of 400\n",
      "building tree 25 of 400\n",
      "building tree 26 of 400\n",
      "building tree 27 of 400\n",
      "building tree 28 of 400\n"
     ]
    },
    {
     "name": "stderr",
     "output_type": "stream",
     "text": [
      "[Parallel(n_jobs=4)]: Done  24 tasks      | elapsed:  2.0min\n"
     ]
    },
    {
     "name": "stdout",
     "output_type": "stream",
     "text": [
      "building tree 29 of 400\n",
      "building tree 30 of 400\n",
      "building tree 31 of 400\n",
      "building tree 32 of 400\n",
      "building tree 33 of 400\n",
      "building tree 34 of 400\n",
      "building tree 35 of 400\n",
      "building tree 36 of 400\n",
      "building tree 37 of 400\n",
      "building tree 38 of 400\n",
      "building tree 39 of 400\n",
      "building tree 40 of 400\n",
      "building tree 41 of 400\n",
      "building tree 42 of 400\n",
      "building tree 43 of 400\n",
      "building tree 44 of 400\n",
      "building tree 45 of 400\n",
      "building tree 46 of 400\n",
      "building tree 47 of 400\n",
      "building tree 48 of 400\n",
      "building tree 49 of 400\n",
      "building tree 50 of 400\n",
      "building tree 51 of 400\n",
      "building tree 52 of 400\n",
      "building tree 53 of 400\n",
      "building tree 54 of 400\n",
      "building tree 55 of 400\n",
      "building tree 56 of 400\n",
      "building tree 57 of 400\n",
      "building tree 58 of 400\n",
      "building tree 59 of 400\n",
      "building tree 60 of 400\n",
      "building tree 61 of 400\n",
      "building tree 62 of 400\n",
      "building tree 63 of 400\n",
      "building tree 64 of 400\n",
      "building tree 65 of 400\n",
      "building tree 66 of 400\n",
      "building tree 67 of 400\n",
      "building tree 68 of 400\n",
      "building tree 69 of 400\n",
      "building tree 70 of 400\n",
      "building tree 71 of 400\n",
      "building tree 72 of 400\n",
      "building tree 73 of 400\n",
      "building tree 74 of 400\n",
      "building tree 75 of 400\n",
      "building tree 76 of 400\n",
      "building tree 77 of 400\n",
      "building tree 78 of 400\n",
      "building tree 79 of 400\n",
      "building tree 80 of 400\n",
      "building tree 81 of 400\n",
      "building tree 82 of 400\n",
      "building tree 83 of 400\n",
      "building tree 84 of 400\n",
      "building tree 85 of 400\n",
      "building tree 86 of 400\n",
      "building tree 87 of 400\n",
      "building tree 88 of 400\n",
      "building tree 89 of 400\n",
      "building tree 90 of 400\n",
      "building tree 91 of 400\n",
      "building tree 92 of 400\n",
      "building tree 93 of 400\n",
      "building tree 94 of 400\n",
      "building tree 95 of 400\n",
      "building tree 96 of 400\n",
      "building tree 97 of 400\n",
      "building tree 98 of 400\n",
      "building tree 99 of 400\n",
      "building tree 100 of 400\n",
      "building tree 101 of 400\n",
      "building tree 102 of 400\n",
      "building tree 103 of 400\n",
      "building tree 104 of 400\n",
      "building tree 105 of 400\n",
      "building tree 106 of 400\n",
      "building tree 107 of 400\n",
      "building tree 108 of 400\n",
      "building tree 109 of 400\n",
      "building tree 110 of 400\n",
      "building tree 111 of 400\n",
      "building tree 112 of 400\n",
      "building tree 113 of 400\n",
      "building tree 114 of 400\n",
      "building tree 115 of 400\n",
      "building tree 116 of 400\n",
      "building tree 117 of 400\n",
      "building tree 118 of 400\n",
      "building tree 119 of 400\n",
      "building tree 120 of 400\n",
      "building tree 121 of 400\n",
      "building tree 122 of 400\n",
      "building tree 123 of 400\n",
      "building tree 124 of 400\n"
     ]
    },
    {
     "name": "stderr",
     "output_type": "stream",
     "text": [
      "[Parallel(n_jobs=4)]: Done 120 tasks      | elapsed: 10.1min\n"
     ]
    },
    {
     "name": "stdout",
     "output_type": "stream",
     "text": [
      "building tree 125 of 400\n",
      "building tree 126 of 400\n",
      "building tree 127 of 400\n",
      "building tree 128 of 400\n",
      "building tree 129 of 400\n",
      "building tree 130 of 400\n",
      "building tree 131 of 400\n",
      "building tree 132 of 400\n",
      "building tree 133 of 400\n",
      "building tree 134 of 400\n",
      "building tree 135 of 400\n",
      "building tree 136 of 400\n",
      "building tree 137 of 400\n",
      "building tree 138 of 400\n",
      "building tree 139 of 400\n",
      "building tree 140 of 400\n",
      "building tree 141 of 400\n",
      "building tree 142 of 400\n",
      "building tree 143 of 400\n",
      "building tree 144 of 400\n",
      "building tree 145 of 400\n",
      "building tree 146 of 400\n",
      "building tree 147 of 400\n",
      "building tree 148 of 400\n",
      "building tree 149 of 400\n",
      "building tree 150 of 400\n",
      "building tree 151 of 400\n",
      "building tree 152 of 400\n",
      "building tree 153 of 400\n",
      "building tree 154 of 400\n",
      "building tree 155 of 400\n",
      "building tree 156 of 400\n",
      "building tree 157 of 400\n",
      "building tree 158 of 400\n",
      "building tree 159 of 400\n",
      "building tree 160 of 400\n",
      "building tree 161 of 400\n",
      "building tree 162 of 400\n",
      "building tree 163 of 400\n",
      "building tree 164 of 400\n",
      "building tree 165 of 400\n",
      "building tree 166 of 400\n",
      "building tree 167 of 400\n",
      "building tree 168 of 400\n",
      "building tree 169 of 400\n",
      "building tree 170 of 400\n",
      "building tree 171 of 400\n",
      "building tree 172 of 400\n",
      "building tree 173 of 400\n",
      "building tree 174 of 400\n",
      "building tree 175 of 400\n",
      "building tree 176 of 400\n",
      "building tree 177 of 400\n",
      "building tree 178 of 400\n",
      "building tree 179 of 400\n",
      "building tree 180 of 400\n",
      "building tree 181 of 400\n",
      "building tree 182 of 400\n",
      "building tree 183 of 400\n",
      "building tree 184 of 400\n",
      "building tree 185 of 400\n",
      "building tree 186 of 400\n",
      "building tree 187 of 400\n",
      "building tree 188 of 400\n",
      "building tree 189 of 400\n",
      "building tree 190 of 400\n",
      "building tree 191 of 400\n",
      "building tree 192 of 400\n",
      "building tree 193 of 400\n",
      "building tree 194 of 400\n",
      "building tree 195 of 400\n",
      "building tree 196 of 400\n",
      "building tree 197 of 400\n",
      "building tree 198 of 400\n",
      "building tree 199 of 400\n",
      "building tree 200 of 400\n",
      "building tree 201 of 400\n",
      "building tree 202 of 400\n",
      "building tree 203 of 400\n",
      "building tree 204 of 400\n",
      "building tree 205 of 400\n",
      "building tree 206 of 400\n",
      "building tree 207 of 400\n",
      "building tree 208 of 400\n",
      "building tree 209 of 400\n",
      "building tree 210 of 400\n",
      "building tree 211 of 400\n",
      "building tree 212 of 400\n",
      "building tree 213 of 400\n",
      "building tree 214 of 400\n",
      "building tree 215 of 400\n",
      "building tree 216 of 400\n",
      "building tree 217 of 400\n",
      "building tree 218 of 400\n",
      "building tree 219 of 400\n",
      "building tree 220 of 400\n",
      "building tree 221 of 400\n",
      "building tree 222 of 400\n",
      "building tree 223 of 400\n",
      "building tree 224 of 400\n",
      "building tree 225 of 400\n",
      "building tree 226 of 400\n",
      "building tree 227 of 400\n",
      "building tree 228 of 400\n",
      "building tree 229 of 400\n",
      "building tree 230 of 400\n",
      "building tree 231 of 400\n",
      "building tree 232 of 400\n",
      "building tree 233 of 400\n",
      "building tree 234 of 400\n",
      "building tree 235 of 400\n",
      "building tree 236 of 400\n",
      "building tree 237 of 400\n",
      "building tree 238 of 400\n",
      "building tree 239 of 400\n",
      "building tree 240 of 400\n",
      "building tree 241 of 400\n",
      "building tree 242 of 400\n",
      "building tree 243 of 400\n",
      "building tree 244 of 400\n",
      "building tree 245 of 400\n",
      "building tree 246 of 400\n",
      "building tree 247 of 400\n",
      "building tree 248 of 400\n",
      "building tree 249 of 400\n",
      "building tree 250 of 400\n",
      "building tree 251 of 400\n",
      "building tree 252 of 400\n",
      "building tree 253 of 400\n",
      "building tree 254 of 400\n",
      "building tree 255 of 400\n",
      "building tree 256 of 400\n",
      "building tree 257 of 400\n",
      "building tree 258 of 400\n",
      "building tree 259 of 400\n",
      "building tree 260 of 400\n",
      "building tree 261 of 400\n",
      "building tree 262 of 400\n",
      "building tree 263 of 400\n",
      "building tree 264 of 400\n",
      "building tree 265 of 400\n",
      "building tree 266 of 400\n",
      "building tree 267 of 400\n",
      "building tree 268 of 400\n",
      "building tree 269 of 400\n",
      "building tree 270 of 400\n",
      "building tree 271 of 400\n",
      "building tree 272 of 400\n",
      "building tree 273 of 400\n",
      "building tree 274 of 400\n",
      "building tree 275 of 400\n",
      "building tree 276 of 400\n",
      "building tree 277 of 400\n",
      "building tree 278 of 400\n",
      "building tree 279 of 400\n",
      "building tree 280 of 400\n",
      "building tree 281 of 400\n",
      "building tree 282 of 400\n",
      "building tree 283 of 400\n",
      "building tree 284 of 400\n"
     ]
    },
    {
     "name": "stderr",
     "output_type": "stream",
     "text": [
      "[Parallel(n_jobs=4)]: Done 280 tasks      | elapsed: 23.5min\n"
     ]
    },
    {
     "name": "stdout",
     "output_type": "stream",
     "text": [
      "building tree 285 of 400\n",
      "building tree 286 of 400\n",
      "building tree 287 of 400\n",
      "building tree 288 of 400\n",
      "building tree 289 of 400\n",
      "building tree 290 of 400\n",
      "building tree 291 of 400\n",
      "building tree 292 of 400\n",
      "building tree 293 of 400\n",
      "building tree 294 of 400\n",
      "building tree 295 of 400\n",
      "building tree 296 of 400\n",
      "building tree 297 of 400\n",
      "building tree 298 of 400\n",
      "building tree 299 of 400\n",
      "building tree 300 of 400\n",
      "building tree 301 of 400\n",
      "building tree 302 of 400\n",
      "building tree 303 of 400\n",
      "building tree 304 of 400\n",
      "building tree 305 of 400\n",
      "building tree 306 of 400\n",
      "building tree 307 of 400\n",
      "building tree 308 of 400\n",
      "building tree 309 of 400\n",
      "building tree 310 of 400\n",
      "building tree 311 of 400\n",
      "building tree 312 of 400\n",
      "building tree 313 of 400\n",
      "building tree 314 of 400\n",
      "building tree 315 of 400\n",
      "building tree 316 of 400\n",
      "building tree 317 of 400\n",
      "building tree 318 of 400\n",
      "building tree 319 of 400\n",
      "building tree 320 of 400\n",
      "building tree 321 of 400\n",
      "building tree 322 of 400\n",
      "building tree 323 of 400\n",
      "building tree 324 of 400\n",
      "building tree 325 of 400\n",
      "building tree 326 of 400\n",
      "building tree 327 of 400\n",
      "building tree 328 of 400\n",
      "building tree 329 of 400\n",
      "building tree 330 of 400\n",
      "building tree 331 of 400\n",
      "building tree 332 of 400\n",
      "building tree 333 of 400\n",
      "building tree 334 of 400\n",
      "building tree 335 of 400\n",
      "building tree 336 of 400\n",
      "building tree 337 of 400\n",
      "building tree 338 of 400\n",
      "building tree 339 of 400\n",
      "building tree 340 of 400\n",
      "building tree 341 of 400\n",
      "building tree 342 of 400\n",
      "building tree 343 of 400\n",
      "building tree 344 of 400\n",
      "building tree 345 of 400\n",
      "building tree 346 of 400\n",
      "building tree 347 of 400\n",
      "building tree 348 of 400\n",
      "building tree 349 of 400\n",
      "building tree 350 of 400\n",
      "building tree 351 of 400\n",
      "building tree 352 of 400\n",
      "building tree 353 of 400\n",
      "building tree 354 of 400\n",
      "building tree 355 of 400\n",
      "building tree 356 of 400\n",
      "building tree 357 of 400\n",
      "building tree 358 of 400\n",
      "building tree 359 of 400\n",
      "building tree 360 of 400\n",
      "building tree 361 of 400\n",
      "building tree 362 of 400\n",
      "building tree 363 of 400\n",
      "building tree 364 of 400\n",
      "building tree 365 of 400\n",
      "building tree 366 of 400\n",
      "building tree 367 of 400\n",
      "building tree 368 of 400\n",
      "building tree 369 of 400\n",
      "building tree 370 of 400\n",
      "building tree 371 of 400\n",
      "building tree 372 of 400\n",
      "building tree 373 of 400\n",
      "building tree 374 of 400\n",
      "building tree 375 of 400\n",
      "building tree 376 of 400\n",
      "building tree 377 of 400\n",
      "building tree 378 of 400\n",
      "building tree 379 of 400\n",
      "building tree 380 of 400\n",
      "building tree 381 of 400\n",
      "building tree 382 of 400\n",
      "building tree 383 of 400\n",
      "building tree 384 of 400\n",
      "building tree 385 of 400\n",
      "building tree 386 of 400\n",
      "building tree 387 of 400\n",
      "building tree 388 of 400\n",
      "building tree 389 of 400\n",
      "building tree 390 of 400\n",
      "building tree 391 of 400\n",
      "building tree 392 of 400\n",
      "building tree 393 of 400\n",
      "building tree 394 of 400\n",
      "building tree 395 of 400\n",
      "building tree 396 of 400\n",
      "building tree 397 of 400\n",
      "building tree 398 of 400\n",
      "building tree 399 of 400\n",
      "building tree 400 of 400\n"
     ]
    },
    {
     "name": "stderr",
     "output_type": "stream",
     "text": [
      "[Parallel(n_jobs=4)]: Done 400 out of 400 | elapsed: 33.4min finished\n"
     ]
    }
   ],
   "source": [
    "rfc_grid_results = rfc_grid_search.fit(X,y)"
   ]
  },
  {
   "cell_type": "code",
   "execution_count": 14,
   "metadata": {},
   "outputs": [
    {
     "name": "stdout",
     "output_type": "stream",
     "text": [
      "Number of Trees = 400, Min Samples Leaf = 3, with an accuracy of 0.67308622613204.\n",
      "\n",
      "   param_random_forest__n_estimators param_random_forest__min_samples_leaf  \\\n",
      "0                                100                                     1   \n",
      "1                                200                                     1   \n",
      "2                                400                                     1   \n",
      "3                                100                                     3   \n",
      "4                                200                                     3   \n",
      "5                                400                                     3   \n",
      "6                                100                                     5   \n",
      "7                                200                                     5   \n",
      "8                                400                                     5   \n",
      "9                                100                                    10   \n",
      "10                               200                                    10   \n",
      "11                               400                                    10   \n",
      "\n",
      "    mean_test_score  \n",
      "0          0.664538  \n",
      "1          0.666446  \n",
      "2          0.667429  \n",
      "3          0.671907  \n",
      "4          0.672651  \n",
      "5          0.673086  \n",
      "6          0.670332  \n",
      "7          0.670771  \n",
      "8          0.670920  \n",
      "9          0.666534  \n",
      "10         0.667036  \n",
      "11         0.667137  \n"
     ]
    }
   ],
   "source": [
    "print(\"Number of Trees = {bestn}, Min Samples Leaf = {bestMS}, with an accuracy of {bestScore}.\\n\".format(\n",
    "    bestn = rfc_grid_results.best_params_['random_forest__n_estimators'],\n",
    "    bestMS = rfc_grid_results.best_params_['random_forest__min_samples_leaf'],\n",
    "    bestScore = rfc_grid_results.best_score_))\n",
    "\n",
    "res = pd.DataFrame(rfc_grid_results.cv_results_)\n",
    "print(res[['param_random_forest__n_estimators',\n",
    "           'param_random_forest__min_samples_leaf',\n",
    "           'mean_test_score']])"
   ]
  },
  {
   "attachments": {},
   "cell_type": "markdown",
   "metadata": {},
   "source": [
    "Despite 400 trees having the highest mean test score, it is only by .00035, and is computationally twice as expensive as 200 trees, which itself is only higher than 100 trees by .0007. We can always use a higher number of trees to get a marginally better test score, so with discretion, I am going to use 200 trees with min_samples_leaf = 3."
   ]
  },
  {
   "cell_type": "code",
   "execution_count": 20,
   "metadata": {},
   "outputs": [
    {
     "name": "stderr",
     "output_type": "stream",
     "text": [
      "[Parallel(n_jobs=4)]: Using backend ThreadingBackend with 4 concurrent workers.\n"
     ]
    },
    {
     "name": "stdout",
     "output_type": "stream",
     "text": [
      "building tree 1 of 200building tree 2 of 200\n",
      "building tree 3 of 200\n",
      "\n",
      "building tree 4 of 200\n",
      "building tree 5 of 200\n",
      "building tree 6 of 200\n",
      "building tree 7 of 200\n",
      "building tree 8 of 200\n",
      "building tree 9 of 200\n",
      "building tree 10 of 200\n",
      "building tree 11 of 200\n",
      "building tree 12 of 200\n",
      "building tree 13 of 200\n",
      "building tree 14 of 200\n",
      "building tree 15 of 200\n",
      "building tree 16 of 200\n",
      "building tree 17 of 200\n",
      "building tree 18 of 200\n",
      "building tree 19 of 200\n",
      "building tree 20 of 200\n",
      "building tree 21 of 200\n",
      "building tree 22 of 200\n",
      "building tree 23 of 200\n",
      "building tree 24 of 200\n",
      "building tree 25 of 200building tree 26 of 200\n",
      "\n",
      "building tree 27 of 200\n",
      "building tree 28 of 200\n"
     ]
    },
    {
     "name": "stderr",
     "output_type": "stream",
     "text": [
      "[Parallel(n_jobs=4)]: Done  24 tasks      | elapsed:  2.1min\n"
     ]
    },
    {
     "name": "stdout",
     "output_type": "stream",
     "text": [
      "building tree 29 of 200\n",
      "building tree 30 of 200\n",
      "building tree 31 of 200\n",
      "building tree 32 of 200\n",
      "building tree 33 of 200\n",
      "building tree 34 of 200\n",
      "building tree 35 of 200\n",
      "building tree 36 of 200\n",
      "building tree 37 of 200\n",
      "building tree 38 of 200\n",
      "building tree 39 of 200\n",
      "building tree 40 of 200\n",
      "building tree 41 of 200\n",
      "building tree 42 of 200\n",
      "building tree 43 of 200\n",
      "building tree 44 of 200\n",
      "building tree 45 of 200\n",
      "building tree 46 of 200\n",
      "building tree 47 of 200\n",
      "building tree 48 of 200\n",
      "building tree 49 of 200\n",
      "building tree 50 of 200\n",
      "building tree 51 of 200\n",
      "building tree 52 of 200\n",
      "building tree 53 of 200\n",
      "building tree 54 of 200\n",
      "building tree 55 of 200\n",
      "building tree 56 of 200\n",
      "building tree 57 of 200\n",
      "building tree 58 of 200\n",
      "building tree 59 of 200\n",
      "building tree 60 of 200\n",
      "building tree 61 of 200\n",
      "building tree 62 of 200\n",
      "building tree 63 of 200\n",
      "building tree 64 of 200\n",
      "building tree 65 of 200\n",
      "building tree 66 of 200building tree 67 of 200\n",
      "\n",
      "building tree 68 of 200\n",
      "building tree 69 of 200\n",
      "building tree 70 of 200\n",
      "building tree 71 of 200\n",
      "building tree 72 of 200\n",
      "building tree 73 of 200\n",
      "building tree 74 of 200\n",
      "building tree 75 of 200\n",
      "building tree 76 of 200\n",
      "building tree 77 of 200\n",
      "building tree 78 of 200\n",
      "building tree 79 of 200\n",
      "building tree 80 of 200\n",
      "building tree 81 of 200\n",
      "building tree 82 of 200\n",
      "building tree 83 of 200\n",
      "building tree 84 of 200\n",
      "building tree 85 of 200\n",
      "building tree 86 of 200\n",
      "building tree 87 of 200\n",
      "building tree 88 of 200\n",
      "building tree 89 of 200\n",
      "building tree 90 of 200\n",
      "building tree 91 of 200\n",
      "building tree 92 of 200\n",
      "building tree 93 of 200\n",
      "building tree 94 of 200\n",
      "building tree 95 of 200\n",
      "building tree 96 of 200\n",
      "building tree 97 of 200\n",
      "building tree 98 of 200\n",
      "building tree 99 of 200\n",
      "building tree 100 of 200\n",
      "building tree 101 of 200\n",
      "building tree 102 of 200\n",
      "building tree 103 of 200\n",
      "building tree 104 of 200\n",
      "building tree 105 of 200\n",
      "building tree 106 of 200\n",
      "building tree 107 of 200\n",
      "building tree 108 of 200\n",
      "building tree 109 of 200\n",
      "building tree 110 of 200\n",
      "building tree 111 of 200\n",
      "building tree 112 of 200\n",
      "building tree 113 of 200\n",
      "building tree 114 of 200\n",
      "building tree 115 of 200\n",
      "building tree 116 of 200\n",
      "building tree 117 of 200\n",
      "building tree 118 of 200\n",
      "building tree 119 of 200\n",
      "building tree 120 of 200\n",
      "building tree 121 of 200\n",
      "building tree 122 of 200\n",
      "building tree 123 of 200\n",
      "building tree 124 of 200\n"
     ]
    },
    {
     "name": "stderr",
     "output_type": "stream",
     "text": [
      "[Parallel(n_jobs=4)]: Done 120 tasks      | elapsed: 10.2min\n"
     ]
    },
    {
     "name": "stdout",
     "output_type": "stream",
     "text": [
      "building tree 125 of 200\n",
      "building tree 126 of 200\n",
      "building tree 127 of 200\n",
      "building tree 128 of 200\n",
      "building tree 129 of 200\n",
      "building tree 130 of 200\n",
      "building tree 131 of 200\n",
      "building tree 132 of 200\n",
      "building tree 133 of 200\n",
      "building tree 134 of 200\n",
      "building tree 135 of 200\n",
      "building tree 136 of 200\n",
      "building tree 137 of 200\n",
      "building tree 138 of 200building tree 139 of 200\n",
      "\n",
      "building tree 140 of 200\n",
      "building tree 141 of 200\n",
      "building tree 142 of 200\n",
      "building tree 143 of 200\n",
      "building tree 144 of 200\n",
      "building tree 145 of 200\n",
      "building tree 146 of 200\n",
      "building tree 147 of 200\n",
      "building tree 148 of 200\n",
      "building tree 149 of 200\n",
      "building tree 150 of 200\n",
      "building tree 151 of 200\n",
      "building tree 152 of 200\n",
      "building tree 153 of 200\n",
      "building tree 154 of 200\n",
      "building tree 155 of 200\n",
      "building tree 156 of 200\n",
      "building tree 157 of 200\n",
      "building tree 158 of 200\n",
      "building tree 159 of 200\n",
      "building tree 160 of 200\n",
      "building tree 161 of 200\n",
      "building tree 162 of 200\n",
      "building tree 163 of 200\n",
      "building tree 164 of 200\n",
      "building tree 165 of 200\n",
      "building tree 166 of 200\n",
      "building tree 167 of 200\n",
      "building tree 168 of 200\n",
      "building tree 169 of 200\n",
      "building tree 170 of 200\n",
      "building tree 171 of 200\n",
      "building tree 172 of 200\n",
      "building tree 173 of 200\n",
      "building tree 174 of 200\n",
      "building tree 175 of 200\n",
      "building tree 176 of 200\n",
      "building tree 177 of 200\n",
      "building tree 178 of 200\n",
      "building tree 179 of 200\n",
      "building tree 180 of 200\n",
      "building tree 181 of 200\n",
      "building tree 182 of 200\n",
      "building tree 183 of 200\n",
      "building tree 184 of 200\n",
      "building tree 185 of 200\n",
      "building tree 186 of 200\n",
      "building tree 187 of 200\n",
      "building tree 188 of 200\n",
      "building tree 189 of 200\n",
      "building tree 190 of 200\n",
      "building tree 191 of 200\n",
      "building tree 192 of 200\n",
      "building tree 193 of 200\n",
      "building tree 194 of 200\n",
      "building tree 195 of 200\n",
      "building tree 196 of 200\n",
      "building tree 197 of 200\n",
      "building tree 198 of 200\n",
      "building tree 199 of 200\n",
      "building tree 200 of 200\n"
     ]
    },
    {
     "name": "stderr",
     "output_type": "stream",
     "text": [
      "[Parallel(n_jobs=4)]: Done 200 out of 200 | elapsed: 16.9min finished\n"
     ]
    }
   ],
   "source": [
    "rfc_pipe.set_params(random_forest__n_estimators = 200, random_forest__min_samples_leaf = 3)\n",
    "\n",
    "rfc = fitmodel(model = rfc_pipe,\n",
    "               filename = \"models/random_forest.joblib\")"
   ]
  },
  {
   "cell_type": "code",
   "execution_count": 21,
   "metadata": {},
   "outputs": [
    {
     "data": {
      "text/plain": [
       "{'ccp_alpha': 0.0,\n",
       " 'criterion': 'friedman_mse',\n",
       " 'init': None,\n",
       " 'learning_rate': 0.1,\n",
       " 'loss': 'log_loss',\n",
       " 'max_depth': 3,\n",
       " 'max_features': None,\n",
       " 'max_leaf_nodes': None,\n",
       " 'min_impurity_decrease': 0.0,\n",
       " 'min_samples_leaf': 1,\n",
       " 'min_samples_split': 2,\n",
       " 'min_weight_fraction_leaf': 0.0,\n",
       " 'n_estimators': 100,\n",
       " 'n_iter_no_change': None,\n",
       " 'random_state': None,\n",
       " 'subsample': 1.0,\n",
       " 'tol': 0.0001,\n",
       " 'validation_fraction': 0.1,\n",
       " 'verbose': 0,\n",
       " 'warm_start': False}"
      ]
     },
     "execution_count": 21,
     "metadata": {},
     "output_type": "execute_result"
    }
   ],
   "source": [
    "ensemble.GradientBoostingClassifier().get_params()"
   ]
  },
  {
   "attachments": {},
   "cell_type": "markdown",
   "metadata": {},
   "source": [
    "Want to tune max_depth and min_samples_leaf, as well as learning rate and n_estimators."
   ]
  },
  {
   "cell_type": "code",
   "execution_count": 30,
   "metadata": {},
   "outputs": [],
   "source": [
    "train_sample = game_train.sample(50000, random_state= 49)\n",
    "\n",
    "X_sample = train_sample.loc[:,game_train.columns != \"p1_won\"]\n",
    "y_sample = train_sample[\"p1_won\"]\n",
    "\n",
    "gbc_predictors = list(set(game_train.head()).difference({\"p1_won\",\"p1_id\",\"p2_id\"}))\n",
    "\n",
    "gbc_pipe = rfc_pipe = Pipeline(steps = [\n",
    "            (\"predictors\", ColumnTransformer([(\"predictors\",\"passthrough\",gbc_predictors)])),\n",
    "            (\"boosted_tree\", ensemble.GradientBoostingClassifier(verbose = 1, n_estimators = 100, random_state = 21))\n",
    "            ])\n",
    "\n",
    "gbc_grid = dict(boosted_tree__n_estimators = [100, 250, 500, 1000],\n",
    "                boosted_tree__max_depth = [2, 3, 4, 5],\n",
    "                boosted_tree__min_samples_leaf = [1, 3, 5, 10],\n",
    "                boosted_tree__learning_rate = [.001, .01, .1, .2]\n",
    "                )\n",
    "\n",
    "game_folded = StratifiedKFold(n_splits=2).split(X_sample,y_sample)\n",
    "\n",
    "gbc_grid_search = GridSearchCV(estimator = gbc_pipe,\n",
    "                               param_grid = gbc_grid,\n",
    "                               n_jobs = 4,\n",
    "                               cv = game_folded,\n",
    "                               scoring = 'accuracy',\n",
    "                               error_score = 0,\n",
    "                               verbose = 10)"
   ]
  },
  {
   "cell_type": "code",
   "execution_count": 31,
   "metadata": {},
   "outputs": [
    {
     "name": "stdout",
     "output_type": "stream",
     "text": [
      "Fitting 2 folds for each of 256 candidates, totalling 512 fits\n",
      "      Iter       Train Loss   Remaining Time \n",
      "         1           1.3616           44.13s\n",
      "         2           1.3431           43.19s\n",
      "         3           1.3287           43.32s\n",
      "         4           1.3179           43.34s\n",
      "         5           1.3090           43.02s\n",
      "         6           1.3011           43.19s\n",
      "         7           1.2958           42.79s\n",
      "         8           1.2904           42.81s\n",
      "         9           1.2858           42.56s\n",
      "        10           1.2822           42.46s\n",
      "        20           1.2637           40.95s\n",
      "        30           1.2553           39.72s\n",
      "        40           1.2471           38.85s\n",
      "        50           1.2409           37.98s\n",
      "        60           1.2352           37.08s\n",
      "        70           1.2307           36.12s\n",
      "        80           1.2281           35.15s\n",
      "        90           1.2235           34.39s\n",
      "       100           1.2191           33.65s\n",
      "       200           1.1873           25.21s\n",
      "       300           1.1704           16.74s\n",
      "       400           1.1596            8.35s\n",
      "       500           1.1504            0.00s\n"
     ]
    }
   ],
   "source": [
    "gbc_grid_result = gbc_grid_search.fit(X_sample,y_sample)"
   ]
  },
  {
   "cell_type": "code",
   "execution_count": 40,
   "metadata": {},
   "outputs": [
    {
     "name": "stdout",
     "output_type": "stream",
     "text": [
      "Number of trees = 500, Learning Rate = 0.2, Min Samples Leaf = 3, Max Depth = 2, with an accuracy of 0.66928.\n",
      "\n",
      "    param_boosted_tree__max_depth  mean_test_score\n",
      "0                               2          0.59228\n",
      "1                               2          0.61034\n",
      "2                               2          0.61558\n",
      "3                               2          0.62490\n",
      "4                               2          0.59228\n",
      "..                            ...              ...\n",
      "251                             5          0.64458\n",
      "252                             5          0.66192\n",
      "253                             5          0.65880\n",
      "254                             5          0.65242\n",
      "255                             5          0.64436\n",
      "\n",
      "[256 rows x 2 columns]\n"
     ]
    }
   ],
   "source": [
    "print(\"Number of trees = {bestn}, Learning Rate = {bestLR}, Min Samples Leaf = {bestMS}, Max Depth = {bestMD}, with an accuracy of {bestScore}.\\n\".format(\n",
    "    \n",
    "    bestn = gbc_grid_result.best_params_['boosted_tree__n_estimators'],\n",
    "    bestLR = gbc_grid_result.best_params_['boosted_tree__learning_rate'],\n",
    "    bestMS = gbc_grid_result.best_params_['boosted_tree__min_samples_leaf'],\n",
    "    bestMD = gbc_grid_result.best_params_['boosted_tree__max_depth'],\n",
    "    bestScore = gbc_grid_result.best_score_))\n",
    "\n",
    "res = pd.DataFrame(gbc_grid_result.cv_results_)\n",
    "\n",
    "print(res[['param_boosted_tree__max_depth',\n",
    "           'mean_test_score']])"
   ]
  },
  {
   "cell_type": "code",
   "execution_count": 37,
   "metadata": {},
   "outputs": [
    {
     "name": "stderr",
     "output_type": "stream",
     "text": [
      "[Parallel(n_jobs=1)]: Using backend SequentialBackend with 1 concurrent workers.\n"
     ]
    },
    {
     "name": "stdout",
     "output_type": "stream",
     "text": [
      "[CV] START .....................................................................\n",
      "      Iter       Train Loss   Remaining Time \n",
      "         1           1.3621           23.91m\n",
      "         2           1.3448           23.38m\n",
      "         3           1.3310           23.14m\n",
      "         4           1.3204           22.77m\n",
      "         5           1.3115           22.75m\n",
      "         6           1.3045           22.63m\n",
      "         7           1.2986           22.67m\n",
      "         8           1.2936           22.69m\n",
      "         9           1.2896           22.59m\n",
      "        10           1.2856           22.41m\n",
      "        20           1.2676           21.82m\n",
      "        30           1.2599           21.31m\n",
      "        40           1.2544           20.72m\n",
      "        50           1.2505           20.15m\n",
      "        60           1.2452           19.67m\n",
      "        70           1.2382           19.26m\n",
      "        80           1.2328           18.83m\n",
      "        90           1.2292           18.35m\n",
      "       100           1.2258           17.89m\n",
      "       200           1.2023           13.40m\n",
      "       300           1.1894            8.93m\n",
      "       400           1.1815            4.47m\n",
      "       500           1.1762            0.00s\n",
      "[CV] END ................................ score: (test=0.680) total time=22.6min\n",
      "[CV] START .....................................................................\n"
     ]
    },
    {
     "name": "stderr",
     "output_type": "stream",
     "text": [
      "[Parallel(n_jobs=1)]: Done   1 out of   1 | elapsed: 22.6min remaining:    0.0s\n"
     ]
    },
    {
     "name": "stdout",
     "output_type": "stream",
     "text": [
      "      Iter       Train Loss   Remaining Time \n",
      "         1           1.3624           22.61m\n",
      "         2           1.3443           22.70m\n",
      "         3           1.3312           22.63m\n",
      "         4           1.3205           22.58m\n",
      "         5           1.3122           22.32m\n",
      "         6           1.3051           22.37m\n",
      "         7           1.2992           22.19m\n",
      "         8           1.2944           22.17m\n",
      "         9           1.2900           21.99m\n",
      "        10           1.2861           21.95m\n",
      "        20           1.2679           21.44m\n",
      "        30           1.2606           20.97m\n",
      "        40           1.2558           20.41m\n",
      "        50           1.2520           20.18m\n",
      "        60           1.2453           20.61m\n",
      "        70           1.2409           20.76m\n",
      "        80           1.2355           20.08m\n",
      "        90           1.2300           19.50m\n",
      "       100           1.2257           18.93m\n",
      "       200           1.2020           13.77m\n",
      "       300           1.1908            9.05m\n",
      "       400           1.1821            4.46m\n",
      "       500           1.1775            0.00s\n",
      "[CV] END ................................ score: (test=0.680) total time=22.3min\n"
     ]
    },
    {
     "name": "stderr",
     "output_type": "stream",
     "text": [
      "[Parallel(n_jobs=1)]: Done   2 out of   2 | elapsed: 44.9min remaining:    0.0s\n",
      "[Parallel(n_jobs=1)]: Done   2 out of   2 | elapsed: 44.9min finished\n"
     ]
    },
    {
     "data": {
      "text/plain": [
       "array([0.67963905, 0.68006475])"
      ]
     },
     "execution_count": 37,
     "metadata": {},
     "output_type": "execute_result"
    }
   ],
   "source": [
    "gbc_pipe.set_params(boosted_tree__max_depth = 2, boosted_tree__n_estimators = 500, boosted_tree__learning_rate = 0.2, boosted_tree__min_samples_leaf = 3)\n",
    "\n",
    "game_folded = StratifiedKFold(n_splits=2).split(X,y)\n",
    "\n",
    "cross_val_score(estimator = gbc_pipe,\n",
    "                n_jobs = 1,\n",
    "                cv = game_folded,\n",
    "                X = X,\n",
    "                y = y,\n",
    "                scoring = 'accuracy',\n",
    "                error_score = 0,\n",
    "                verbose = 10)"
   ]
  },
  {
   "cell_type": "code",
   "execution_count": 42,
   "metadata": {},
   "outputs": [
    {
     "name": "stdout",
     "output_type": "stream",
     "text": [
      "      Iter       Train Loss   Remaining Time \n",
      "         1           1.3623           56.47m\n",
      "         2           1.3443           56.16m\n",
      "         3           1.3310           55.41m\n",
      "         4           1.3203           54.68m\n",
      "         5           1.3117           54.45m\n",
      "         6           1.3051           53.95m\n",
      "         7           1.2988           53.86m\n",
      "         8           1.2940           53.94m\n",
      "         9           1.2896           53.57m\n",
      "        10           1.2861           53.53m\n",
      "        20           1.2681           51.82m\n",
      "        30           1.2603           50.35m\n",
      "        40           1.2540           49.12m\n",
      "        50           1.2494           47.65m\n",
      "        60           1.2463           46.23m\n",
      "        70           1.2417           45.08m\n",
      "        80           1.2380           43.85m\n",
      "        90           1.2343           42.83m\n",
      "       100           1.2297           41.87m\n",
      "       200           1.2018           31.85m\n",
      "       300           1.1908           21.15m\n",
      "       400           1.1832           10.54m\n",
      "       500           1.1782            0.00s\n"
     ]
    },
    {
     "data": {
      "text/html": [
       "<style>#sk-container-id-1 {color: black;background-color: white;}#sk-container-id-1 pre{padding: 0;}#sk-container-id-1 div.sk-toggleable {background-color: white;}#sk-container-id-1 label.sk-toggleable__label {cursor: pointer;display: block;width: 100%;margin-bottom: 0;padding: 0.3em;box-sizing: border-box;text-align: center;}#sk-container-id-1 label.sk-toggleable__label-arrow:before {content: \"▸\";float: left;margin-right: 0.25em;color: #696969;}#sk-container-id-1 label.sk-toggleable__label-arrow:hover:before {color: black;}#sk-container-id-1 div.sk-estimator:hover label.sk-toggleable__label-arrow:before {color: black;}#sk-container-id-1 div.sk-toggleable__content {max-height: 0;max-width: 0;overflow: hidden;text-align: left;background-color: #f0f8ff;}#sk-container-id-1 div.sk-toggleable__content pre {margin: 0.2em;color: black;border-radius: 0.25em;background-color: #f0f8ff;}#sk-container-id-1 input.sk-toggleable__control:checked~div.sk-toggleable__content {max-height: 200px;max-width: 100%;overflow: auto;}#sk-container-id-1 input.sk-toggleable__control:checked~label.sk-toggleable__label-arrow:before {content: \"▾\";}#sk-container-id-1 div.sk-estimator input.sk-toggleable__control:checked~label.sk-toggleable__label {background-color: #d4ebff;}#sk-container-id-1 div.sk-label input.sk-toggleable__control:checked~label.sk-toggleable__label {background-color: #d4ebff;}#sk-container-id-1 input.sk-hidden--visually {border: 0;clip: rect(1px 1px 1px 1px);clip: rect(1px, 1px, 1px, 1px);height: 1px;margin: -1px;overflow: hidden;padding: 0;position: absolute;width: 1px;}#sk-container-id-1 div.sk-estimator {font-family: monospace;background-color: #f0f8ff;border: 1px dotted black;border-radius: 0.25em;box-sizing: border-box;margin-bottom: 0.5em;}#sk-container-id-1 div.sk-estimator:hover {background-color: #d4ebff;}#sk-container-id-1 div.sk-parallel-item::after {content: \"\";width: 100%;border-bottom: 1px solid gray;flex-grow: 1;}#sk-container-id-1 div.sk-label:hover label.sk-toggleable__label {background-color: #d4ebff;}#sk-container-id-1 div.sk-serial::before {content: \"\";position: absolute;border-left: 1px solid gray;box-sizing: border-box;top: 0;bottom: 0;left: 50%;z-index: 0;}#sk-container-id-1 div.sk-serial {display: flex;flex-direction: column;align-items: center;background-color: white;padding-right: 0.2em;padding-left: 0.2em;position: relative;}#sk-container-id-1 div.sk-item {position: relative;z-index: 1;}#sk-container-id-1 div.sk-parallel {display: flex;align-items: stretch;justify-content: center;background-color: white;position: relative;}#sk-container-id-1 div.sk-item::before, #sk-container-id-1 div.sk-parallel-item::before {content: \"\";position: absolute;border-left: 1px solid gray;box-sizing: border-box;top: 0;bottom: 0;left: 50%;z-index: -1;}#sk-container-id-1 div.sk-parallel-item {display: flex;flex-direction: column;z-index: 1;position: relative;background-color: white;}#sk-container-id-1 div.sk-parallel-item:first-child::after {align-self: flex-end;width: 50%;}#sk-container-id-1 div.sk-parallel-item:last-child::after {align-self: flex-start;width: 50%;}#sk-container-id-1 div.sk-parallel-item:only-child::after {width: 0;}#sk-container-id-1 div.sk-dashed-wrapped {border: 1px dashed gray;margin: 0 0.4em 0.5em 0.4em;box-sizing: border-box;padding-bottom: 0.4em;background-color: white;}#sk-container-id-1 div.sk-label label {font-family: monospace;font-weight: bold;display: inline-block;line-height: 1.2em;}#sk-container-id-1 div.sk-label-container {text-align: center;}#sk-container-id-1 div.sk-container {/* jupyter's `normalize.less` sets `[hidden] { display: none; }` but bootstrap.min.css set `[hidden] { display: none !important; }` so we also need the `!important` here to be able to override the default hidden behavior on the sphinx rendered scikit-learn.org. See: https://github.com/scikit-learn/scikit-learn/issues/21755 */display: inline-block !important;position: relative;}#sk-container-id-1 div.sk-text-repr-fallback {display: none;}</style><div id=\"sk-container-id-1\" class=\"sk-top-container\"><div class=\"sk-text-repr-fallback\"><pre>Pipeline(steps=[(&#x27;predictors&#x27;,\n",
       "                 ColumnTransformer(transformers=[(&#x27;predictors&#x27;, &#x27;passthrough&#x27;,\n",
       "                                                  [&#x27;p1_char.wiifittrainer&#x27;,\n",
       "                                                   &#x27;p1_char.roy&#x27;,\n",
       "                                                   &#x27;p1_char.metaknight&#x27;,\n",
       "                                                   &#x27;stage.New Donk City Hall&#x27;,\n",
       "                                                   &#x27;p1_char.pichu&#x27;,\n",
       "                                                   &#x27;p2_char.simon&#x27;,\n",
       "                                                   &#x27;p2_char.-1&#x27;,\n",
       "                                                   &#x27;stage.Green Greens&#x27;,\n",
       "                                                   &#x27;p1_char.random&#x27;,\n",
       "                                                   &#x27;p1_char.diddykong&#x27;,\n",
       "                                                   &#x27;p1_char.olimar&#x27;,\n",
       "                                                   &#x27;p2_char.wario&#x27;,\n",
       "                                                   &#x27;p1_char.snake&#x27;,\n",
       "                                                   &#x27;p1_char.hero&#x27;,\n",
       "                                                   &#x27;p2_char.h...\n",
       "                                                   &#x27;p2_char.peach&#x27;,\n",
       "                                                   &#x27;p1_char.ridley&#x27;,\n",
       "                                                   &#x27;p2_char.younglink&#x27;,\n",
       "                                                   &#x27;stage.Eldin Bridge&#x27;,\n",
       "                                                   &#x27;stage.Find Mii&#x27;,\n",
       "                                                   &#x27;stage.Kalos Pokemon League&#x27;,\n",
       "                                                   &#x27;p2_char.pit&#x27;,\n",
       "                                                   &#x27;p2_char.joker&#x27;,\n",
       "                                                   &#x27;p1_char.ganondorf&#x27;,\n",
       "                                                   &#x27;p2_char.terry&#x27;,\n",
       "                                                   &#x27;p1_char.cloud&#x27;,\n",
       "                                                   &#x27;p1_char.littlemac&#x27;, ...])])),\n",
       "                (&#x27;boosted_tree&#x27;,\n",
       "                 GradientBoostingClassifier(learning_rate=0.2, max_depth=2,\n",
       "                                            min_samples_leaf=3,\n",
       "                                            n_estimators=500, random_state=21,\n",
       "                                            verbose=1))])</pre><b>In a Jupyter environment, please rerun this cell to show the HTML representation or trust the notebook. <br />On GitHub, the HTML representation is unable to render, please try loading this page with nbviewer.org.</b></div><div class=\"sk-container\" hidden><div class=\"sk-item sk-dashed-wrapped\"><div class=\"sk-label-container\"><div class=\"sk-label sk-toggleable\"><input class=\"sk-toggleable__control sk-hidden--visually\" id=\"sk-estimator-id-1\" type=\"checkbox\" ><label for=\"sk-estimator-id-1\" class=\"sk-toggleable__label sk-toggleable__label-arrow\">Pipeline</label><div class=\"sk-toggleable__content\"><pre>Pipeline(steps=[(&#x27;predictors&#x27;,\n",
       "                 ColumnTransformer(transformers=[(&#x27;predictors&#x27;, &#x27;passthrough&#x27;,\n",
       "                                                  [&#x27;p1_char.wiifittrainer&#x27;,\n",
       "                                                   &#x27;p1_char.roy&#x27;,\n",
       "                                                   &#x27;p1_char.metaknight&#x27;,\n",
       "                                                   &#x27;stage.New Donk City Hall&#x27;,\n",
       "                                                   &#x27;p1_char.pichu&#x27;,\n",
       "                                                   &#x27;p2_char.simon&#x27;,\n",
       "                                                   &#x27;p2_char.-1&#x27;,\n",
       "                                                   &#x27;stage.Green Greens&#x27;,\n",
       "                                                   &#x27;p1_char.random&#x27;,\n",
       "                                                   &#x27;p1_char.diddykong&#x27;,\n",
       "                                                   &#x27;p1_char.olimar&#x27;,\n",
       "                                                   &#x27;p2_char.wario&#x27;,\n",
       "                                                   &#x27;p1_char.snake&#x27;,\n",
       "                                                   &#x27;p1_char.hero&#x27;,\n",
       "                                                   &#x27;p2_char.h...\n",
       "                                                   &#x27;p2_char.peach&#x27;,\n",
       "                                                   &#x27;p1_char.ridley&#x27;,\n",
       "                                                   &#x27;p2_char.younglink&#x27;,\n",
       "                                                   &#x27;stage.Eldin Bridge&#x27;,\n",
       "                                                   &#x27;stage.Find Mii&#x27;,\n",
       "                                                   &#x27;stage.Kalos Pokemon League&#x27;,\n",
       "                                                   &#x27;p2_char.pit&#x27;,\n",
       "                                                   &#x27;p2_char.joker&#x27;,\n",
       "                                                   &#x27;p1_char.ganondorf&#x27;,\n",
       "                                                   &#x27;p2_char.terry&#x27;,\n",
       "                                                   &#x27;p1_char.cloud&#x27;,\n",
       "                                                   &#x27;p1_char.littlemac&#x27;, ...])])),\n",
       "                (&#x27;boosted_tree&#x27;,\n",
       "                 GradientBoostingClassifier(learning_rate=0.2, max_depth=2,\n",
       "                                            min_samples_leaf=3,\n",
       "                                            n_estimators=500, random_state=21,\n",
       "                                            verbose=1))])</pre></div></div></div><div class=\"sk-serial\"><div class=\"sk-item sk-dashed-wrapped\"><div class=\"sk-label-container\"><div class=\"sk-label sk-toggleable\"><input class=\"sk-toggleable__control sk-hidden--visually\" id=\"sk-estimator-id-2\" type=\"checkbox\" ><label for=\"sk-estimator-id-2\" class=\"sk-toggleable__label sk-toggleable__label-arrow\">predictors: ColumnTransformer</label><div class=\"sk-toggleable__content\"><pre>ColumnTransformer(transformers=[(&#x27;predictors&#x27;, &#x27;passthrough&#x27;,\n",
       "                                 [&#x27;p1_char.wiifittrainer&#x27;, &#x27;p1_char.roy&#x27;,\n",
       "                                  &#x27;p1_char.metaknight&#x27;,\n",
       "                                  &#x27;stage.New Donk City Hall&#x27;, &#x27;p1_char.pichu&#x27;,\n",
       "                                  &#x27;p2_char.simon&#x27;, &#x27;p2_char.-1&#x27;,\n",
       "                                  &#x27;stage.Green Greens&#x27;, &#x27;p1_char.random&#x27;,\n",
       "                                  &#x27;p1_char.diddykong&#x27;, &#x27;p1_char.olimar&#x27;,\n",
       "                                  &#x27;p2_char.wario&#x27;, &#x27;p1_char.snake&#x27;,\n",
       "                                  &#x27;p1_char.hero&#x27;, &#x27;p2_char.hero&#x27;,\n",
       "                                  &#x27;p2_char.kingdedede&#x27;, &#x27;p1_char.incineroar&#x27;,\n",
       "                                  &#x27;p1_char.ike&#x27;, &#x27;p2_char.peach&#x27;,\n",
       "                                  &#x27;p1_char.ridley&#x27;, &#x27;p2_char.younglink&#x27;,\n",
       "                                  &#x27;stage.Eldin Bridge&#x27;, &#x27;stage.Find Mii&#x27;,\n",
       "                                  &#x27;stage.Kalos Pokemon League&#x27;, &#x27;p2_char.pit&#x27;,\n",
       "                                  &#x27;p2_char.joker&#x27;, &#x27;p1_char.ganondorf&#x27;,\n",
       "                                  &#x27;p2_char.terry&#x27;, &#x27;p1_char.cloud&#x27;,\n",
       "                                  &#x27;p1_char.littlemac&#x27;, ...])])</pre></div></div></div><div class=\"sk-parallel\"><div class=\"sk-parallel-item\"><div class=\"sk-item\"><div class=\"sk-label-container\"><div class=\"sk-label sk-toggleable\"><input class=\"sk-toggleable__control sk-hidden--visually\" id=\"sk-estimator-id-3\" type=\"checkbox\" ><label for=\"sk-estimator-id-3\" class=\"sk-toggleable__label sk-toggleable__label-arrow\">predictors</label><div class=\"sk-toggleable__content\"><pre>[&#x27;p1_char.wiifittrainer&#x27;, &#x27;p1_char.roy&#x27;, &#x27;p1_char.metaknight&#x27;, &#x27;stage.New Donk City Hall&#x27;, &#x27;p1_char.pichu&#x27;, &#x27;p2_char.simon&#x27;, &#x27;p2_char.-1&#x27;, &#x27;stage.Green Greens&#x27;, &#x27;p1_char.random&#x27;, &#x27;p1_char.diddykong&#x27;, &#x27;p1_char.olimar&#x27;, &#x27;p2_char.wario&#x27;, &#x27;p1_char.snake&#x27;, &#x27;p1_char.hero&#x27;, &#x27;p2_char.hero&#x27;, &#x27;p2_char.kingdedede&#x27;, &#x27;p1_char.incineroar&#x27;, &#x27;p1_char.ike&#x27;, &#x27;p2_char.peach&#x27;, &#x27;p1_char.ridley&#x27;, &#x27;p2_char.younglink&#x27;, &#x27;stage.Eldin Bridge&#x27;, &#x27;stage.Find Mii&#x27;, &#x27;stage.Kalos Pokemon League&#x27;, &#x27;p2_char.pit&#x27;, &#x27;p2_char.joker&#x27;, &#x27;p1_char.ganondorf&#x27;, &#x27;p2_char.terry&#x27;, &#x27;p1_char.cloud&#x27;, &#x27;p1_char.littlemac&#x27;, &#x27;stage.Skyloft&#x27;, &#x27;stage.Pokémon Stadium&#x27;, &#x27;p2_char.miiswordfighter&#x27;, &#x27;p1_char.byleth&#x27;, &#x27;stage.Spirit Train&#x27;, &#x27;stage.Final Destination&#x27;, &#x27;p1_char.palutena&#x27;, &#x27;p1_char.zelda&#x27;, &#x27;p1_char.peach&#x27;, &#x27;stage.Saffron City&#x27;, &#x27;p1_char.pyra&#x27;, &#x27;p1_char.lucario&#x27;, &#x27;p1_char.rob&#x27;, &#x27;p2_char.incineroar&#x27;, &#x27;p2_char.sephiroth&#x27;, &#x27;p1_char.mario&#x27;, &#x27;p2_char.toonlink&#x27;, &#x27;p2_char.donkeykong&#x27;, &#x27;p2_char.rob&#x27;, &#x27;p2_char.villager&#x27;, &#x27;p2_char.banjokazooie&#x27;, &#x27;stage.Battlefield&#x27;, &#x27;p1_char.sephiroth&#x27;, &#x27;p1_char.samus&#x27;, &#x27;p2_char.jigglypuff&#x27;, &quot;stage.Yoshi&#x27;s Island&quot;, &#x27;p2_char.duckhunt&#x27;, &#x27;p1_char.chrom&#x27;, &#x27;p2_char.rosalina&#x27;, &#x27;p2_char.bowserjr&#x27;, &#x27;p2_char.captainfalcon&#x27;, &#x27;p2_char.yoshi&#x27;, &#x27;p1_char.link&#x27;, &#x27;p2_char.metaknight&#x27;, &#x27;p2_games_played&#x27;, &#x27;p2_char.robin&#x27;, &#x27;p2_char.darkpit&#x27;, &#x27;p2_char.chrom&#x27;, &#x27;p2_char.littlemac&#x27;, &#x27;p2_char.lucina&#x27;, &#x27;stage.Kalos Pokémon League&#x27;, &#x27;stage.Mute City SNES&#x27;, &#x27;p2_char.drmario&#x27;, &#x27;p1_char.lucina&#x27;, &#x27;p2_char.wiifittrainer&#x27;, &#x27;p1_char.duckhunt&#x27;, &#x27;p2_char.pacman&#x27;, &#x27;p2_char.zelda&#x27;, &#x27;stage.Pokémon Stadium 2&#x27;, &#x27;p2_char.bayonetta&#x27;, &#x27;p1_char.pokemontrainer&#x27;, &#x27;p1_char.richter&#x27;, &#x27;p2_char.diddykong&#x27;, &#x27;p2_char.palutena&#x27;, &#x27;stage.Corneria&#x27;, &#x27;stage.Dream Land&#x27;, &#x27;stage.Reset Bomb Forest&#x27;, &#x27;p2_char.wolf&#x27;, &#x27;p1_char.daisy&#x27;, &#x27;p2_char.mrgameandwatch&#x27;, &#x27;stage.Town &amp; City&#x27;, &#x27;p2_char.fox&#x27;, &#x27;p2_char.bowser&#x27;, &#x27;p2_char.mewtwo&#x27;, &#x27;stage.Pokemon Stadium 2&#x27;, &#x27;stage.Town and City&#x27;, &#x27;p2_char.lucario&#x27;, &#x27;p2_char.pyra&#x27;, &#x27;stage.Frigate Orpheon&#x27;, &#x27;stage.Mario Galaxy&#x27;, &#x27;p2_char.inkling&#x27;, &#x27;p1_char.bayonetta&#x27;, &#x27;p2_char.falco&#x27;, &#x27;p2_char.random&#x27;, &#x27;p1_char.inkling&#x27;, &#x27;p2_char.roy&#x27;, &#x27;p1_char.banjokazooie&#x27;, &#x27;p2_char.kingkrool&#x27;, &#x27;p1_char.miigunner&#x27;, &#x27;p1_char.donkeykong&#x27;, &#x27;p1_char.-1&#x27;, &#x27;p1_char.toonlink&#x27;, &#x27;stage.WarioWare&#x27;, &#x27;stage.Mushroom Kingdom&#x27;, &#x27;stage.Wily Castle&#x27;, &#x27;p1_char.iceclimbers&#x27;, &#x27;p2_char.sheik&#x27;, &#x27;stage.Hollow Bastion&#x27;, &#x27;stage.Venom&#x27;, &#x27;p2_games_won&#x27;, &#x27;p2_char.ken&#x27;, &#x27;stage.Duck Hunt&#x27;, &#x27;p2_char.ganondorf&#x27;, &#x27;stage.Distant Planet&#x27;, &#x27;stage.Magicant&#x27;, &#x27;p2_char.miigunner&#x27;, &#x27;stage.Small Battlefield&#x27;, &#x27;p2_char.darksamus&#x27;, &quot;stage.Yoshi&#x27;s Island (Melee)&quot;, &quot;stage.Luigi&#x27;s Mansion&quot;, &#x27;p1_char.drmario&#x27;, &#x27;stage.Mementos&#x27;, &#x27;stage.Smashville&#x27;, &#x27;p1_char.kingkrool&#x27;, &#x27;stage.Brinstar Depths&#x27;, &#x27;p1_char.joker&#x27;, &#x27;p2_char.pichu&#x27;, &#x27;p2_char.greninja&#x27;, &#x27;p1_char.bowserjr&#x27;, &#x27;stage.-1&#x27;, &#x27;p2_char.olimar&#x27;, &#x27;p1_char.pit&#x27;, &#x27;p2_char.sonic&#x27;, &#x27;p2_char.kirby&#x27;, &#x27;p1_char.darksamus&#x27;, &#x27;p2_char.byleth&#x27;, &#x27;p1_char.piranhaplant&#x27;, &#x27;p2_char.link&#x27;, &#x27;p1_char.jigglypuff&#x27;, &#x27;p2_char.snake&#x27;, &#x27;p1_char.steve&#x27;, &#x27;p2_char.ryu&#x27;, &#x27;p1_char.ness&#x27;, &#x27;p1_char.darkpit&#x27;, &#x27;stage.Moray Towers&#x27;, &#x27;p1_char.mrgameandwatch&#x27;, &#x27;p2_char.mario&#x27;, &#x27;stage.Castle Siege&#x27;, &#x27;stage.Northern Cave&#x27;, &#x27;p2_char.piranhaplant&#x27;, &#x27;p1_char.isabelle&#x27;, &#x27;p2_char.samus&#x27;, &#x27;stage.Hyrule Castle&#x27;, &#x27;p1_char.robin&#x27;, &#x27;p1_char.miiswordfighter&#x27;, &#x27;p1_char.miibrawler&#x27;, &#x27;p1_char.shulk&#x27;, &#x27;p1_char.falco&#x27;, &#x27;p2_char.miibrawler&#x27;, &#x27;p1_char.ken&#x27;, &#x27;p2_char.shulk&#x27;, &#x27;p2_char.ike&#x27;, &#x27;p1_char.corrin&#x27;, &#x27;p1_char.pacman&#x27;, &#x27;p1_char.terry&#x27;, &#x27;stage.Lylat Cruise&#x27;, &#x27;p1_char.rosalina&#x27;, &#x27;p2_char.steve&#x27;, &#x27;p2_char.daisy&#x27;, &#x27;stage.Boxing Ring&#x27;, &#x27;p1_char.lucas&#x27;, &#x27;p1_char.zerosuitsamus&#x27;, &#x27;stage.Unova Pokemon League&#x27;, &#x27;p2_char.luigi&#x27;, &#x27;p2_char.ness&#x27;, &#x27;p1_char.younglink&#x27;, &#x27;p1_char.sonic&#x27;, &#x27;p2_char.corrin&#x27;, &#x27;p2_char.richter&#x27;, &#x27;p1_games_won&#x27;, &#x27;p1_games_played&#x27;, &#x27;p2_char.cloud&#x27;, &#x27;p1_char.luigi&#x27;, &#x27;p2_char.ridley&#x27;, &#x27;p2_char.lucas&#x27;, &#x27;p1_char.simon&#x27;, &#x27;p1_char.minmin&#x27;, &#x27;p2_char.pikachu&#x27;, &#x27;stage.Pilotwings&#x27;, &#x27;p2_char.pokemontrainer&#x27;, &#x27;p1_char.sheik&#x27;, &#x27;p1_char.pikachu&#x27;, &#x27;p1_char.wario&#x27;, &#x27;p2_char.sora&#x27;, &#x27;p2_char.isabelle&#x27;, &#x27;p1_char.greninja&#x27;, &#x27;p2_char.marth&#x27;, &#x27;stage.Balloon Fight&#x27;, &#x27;p1_char.kirby&#x27;, &#x27;p1_char.villager&#x27;, &#x27;p1_char.bowser&#x27;, &#x27;p1_char.kazuya&#x27;, &#x27;p2_char.kazuya&#x27;, &#x27;p1_char.ryu&#x27;, &#x27;p1_char.marth&#x27;, &#x27;p1_char.yoshi&#x27;, &#x27;p2_char.minmin&#x27;, &#x27;p1_char.megaman&#x27;, &#x27;p1_char.mewtwo&#x27;, &#x27;stage.Mario Circuit&#x27;, &#x27;stage.Super Mario Maker&#x27;, &quot;stage.Yoshi&#x27;s Story&quot;, &#x27;p2_char.megaman&#x27;, &#x27;p2_char.zerosuitsamus&#x27;, &#x27;p1_char.captainfalcon&#x27;, &#x27;p1_char.sora&#x27;, &#x27;stage.Norfair&#x27;, &#x27;p1_char.kingdedede&#x27;, &quot;stage.Yggdrasil&#x27;s Altar&quot;, &#x27;p1_char.wolf&#x27;, &#x27;stage.Fountain of Dreams&#x27;, &#x27;stage.Unova Pokémon League&#x27;, &#x27;p1_char.fox&#x27;, &#x27;p2_char.iceclimbers&#x27;]</pre></div></div></div><div class=\"sk-serial\"><div class=\"sk-item\"><div class=\"sk-estimator sk-toggleable\"><input class=\"sk-toggleable__control sk-hidden--visually\" id=\"sk-estimator-id-4\" type=\"checkbox\" ><label for=\"sk-estimator-id-4\" class=\"sk-toggleable__label sk-toggleable__label-arrow\">passthrough</label><div class=\"sk-toggleable__content\"><pre>passthrough</pre></div></div></div></div></div></div></div></div><div class=\"sk-item\"><div class=\"sk-estimator sk-toggleable\"><input class=\"sk-toggleable__control sk-hidden--visually\" id=\"sk-estimator-id-5\" type=\"checkbox\" ><label for=\"sk-estimator-id-5\" class=\"sk-toggleable__label sk-toggleable__label-arrow\">GradientBoostingClassifier</label><div class=\"sk-toggleable__content\"><pre>GradientBoostingClassifier(learning_rate=0.2, max_depth=2, min_samples_leaf=3,\n",
       "                           n_estimators=500, random_state=21, verbose=1)</pre></div></div></div></div></div></div></div>"
      ],
      "text/plain": [
       "Pipeline(steps=[('predictors',\n",
       "                 ColumnTransformer(transformers=[('predictors', 'passthrough',\n",
       "                                                  ['p1_char.wiifittrainer',\n",
       "                                                   'p1_char.roy',\n",
       "                                                   'p1_char.metaknight',\n",
       "                                                   'stage.New Donk City Hall',\n",
       "                                                   'p1_char.pichu',\n",
       "                                                   'p2_char.simon',\n",
       "                                                   'p2_char.-1',\n",
       "                                                   'stage.Green Greens',\n",
       "                                                   'p1_char.random',\n",
       "                                                   'p1_char.diddykong',\n",
       "                                                   'p1_char.olimar',\n",
       "                                                   'p2_char.wario',\n",
       "                                                   'p1_char.snake',\n",
       "                                                   'p1_char.hero',\n",
       "                                                   'p2_char.h...\n",
       "                                                   'p2_char.peach',\n",
       "                                                   'p1_char.ridley',\n",
       "                                                   'p2_char.younglink',\n",
       "                                                   'stage.Eldin Bridge',\n",
       "                                                   'stage.Find Mii',\n",
       "                                                   'stage.Kalos Pokemon League',\n",
       "                                                   'p2_char.pit',\n",
       "                                                   'p2_char.joker',\n",
       "                                                   'p1_char.ganondorf',\n",
       "                                                   'p2_char.terry',\n",
       "                                                   'p1_char.cloud',\n",
       "                                                   'p1_char.littlemac', ...])])),\n",
       "                ('boosted_tree',\n",
       "                 GradientBoostingClassifier(learning_rate=0.2, max_depth=2,\n",
       "                                            min_samples_leaf=3,\n",
       "                                            n_estimators=500, random_state=21,\n",
       "                                            verbose=1))])"
      ]
     },
     "execution_count": 42,
     "metadata": {},
     "output_type": "execute_result"
    }
   ],
   "source": [
    "gbc_pipe.set_params(boosted_tree__max_depth = 2, boosted_tree__n_estimators = 500, boosted_tree__learning_rate = 0.2, boosted_tree__min_samples_leaf = 3)\n",
    "\n",
    "fitmodel(gbc_pipe,\n",
    "         \"models/boosted_tree.joblib\")"
   ]
  }
 ],
 "metadata": {
  "kernelspec": {
   "display_name": "Python 3",
   "language": "python",
   "name": "python3"
  },
  "language_info": {
   "codemirror_mode": {
    "name": "ipython",
    "version": 3
   },
   "file_extension": ".py",
   "mimetype": "text/x-python",
   "name": "python",
   "nbconvert_exporter": "python",
   "pygments_lexer": "ipython3",
   "version": "3.9.4"
  },
  "orig_nbformat": 4
 },
 "nbformat": 4,
 "nbformat_minor": 2
}
