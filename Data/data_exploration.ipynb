{
 "cells": [
  {
   "cell_type": "code",
   "execution_count": 1,
   "metadata": {},
   "outputs": [],
   "source": [
    "import sqlite3\n",
    "import numpy as np\n",
    "import pandas as pd\n",
    "import json\n",
    "import math\n",
    "from IPython.display import clear_output\n",
    "\n",
    "cnx = sqlite3.connect('data/ultimate_player_database.db')"
   ]
  },
  {
   "cell_type": "code",
   "execution_count": 5,
   "metadata": {},
   "outputs": [
    {
     "name": "stdout",
     "output_type": "stream",
     "text": [
      "['tournament_info', 'sets', 'players', 'ranking', 'ranking_seasons']\n",
      "TABLE: tournament_info\n",
      "Empty DataFrame\n",
      "Columns: [game, key, cleaned_name, source, tournament_name, tournament_event, season, rank, start, end, country, state, city, entrants, placings, losses, bracket_types, online, lat, lng]\n",
      "Index: []\n",
      "COUNT OF tournament_info: 98737\n",
      "\n",
      "TABLE: sets\n",
      "Empty DataFrame\n",
      "Columns: [key, game, tournament_key, winner_id, p1_id, p2_id, p1_score, p2_score, location_names, bracket_name, bracket_order, set_order, best_of, game_data]\n",
      "Index: []\n",
      "COUNT OF sets: 7250884\n",
      "\n",
      "TABLE: players\n",
      "Empty DataFrame\n",
      "Columns: [game, player_id, tag, all_tags, prefixes, social, country, state, region, c_country, c_state, c_region, placings, characters, alias]\n",
      "Index: []\n",
      "COUNT OF players: 487844\n",
      "\n",
      "TABLE: ranking\n",
      "Empty DataFrame\n",
      "Columns: [game, ranking_name, priority, region, seasons, tournaments, icon]\n",
      "Index: []\n",
      "COUNT OF ranking: 1\n",
      "\n",
      "TABLE: ranking_seasons\n",
      "Empty DataFrame\n",
      "Columns: [game, ranking_name, season, start, end, total, by_id, by_placing, final, name]\n",
      "Index: []\n",
      "COUNT OF ranking_seasons: 2\n",
      "\n"
     ]
    }
   ],
   "source": [
    "def sql_table(conn):\n",
    "   cursorObj = conn.cursor()\n",
    "   cursorObj.execute(\"SELECT name FROM sqlite_master WHERE type='table';\")\n",
    "   return([k[0] for k in cursorObj.fetchall()])\n",
    "\n",
    "tables = sql_table(cnx)\n",
    "\n",
    "print(tables)\n",
    "\n",
    "for k in tables: \n",
    "   print(\"TABLE: {tablename}\".format(tablename = k))\n",
    "   query = \"SELECT * FROM {tablename} WHERE 1=0\".format(tablename = k)\n",
    "   print(pd.read_sql_query(query, cnx))\n",
    "   count_query =  \"SELECT COUNT(*) FROM {tablename}\".format(tablename = k)\n",
    "   print(\"COUNT OF {tablename}: {count}\".format(tablename = k,count = pd.read_sql_query(count_query, cnx)['COUNT(*)'][0]))\n",
    "   print(\"\")"
   ]
  },
  {
   "cell_type": "code",
   "execution_count": 2,
   "metadata": {},
   "outputs": [
    {
     "name": "stdout",
     "output_type": "stream",
     "text": [
      "[{\"winner_id\": \"543328\", \"loser_id\": \"Sunbaby\", \"winner_score\": \"2\", \"loser_score\": 0, \"winner_char\": \"ultimate/joker\", \"loser_char\": \"ultimate/mario\", \"stage\": \"Battlefield\"}, {\"winner_id\": \"543328\", \"loser_id\": \"Sunbaby\", \"winner_score\": \"2\", \"loser_score\": 0, \"winner_char\": \"ultimate/joker\", \"loser_char\": \"ultimate/drmario\", \"stage\": \"Yoshi's Story\"}]\n"
     ]
    }
   ],
   "source": [
    "query = \"SELECT * FROM sets WHERE game_data != '[]'\"\n",
    "\n",
    "df = pd.read_sql_query(query, cnx)\n",
    "\n",
    "print(df.loc[0]['game_data'])"
   ]
  }
 ],
 "metadata": {
  "kernelspec": {
   "display_name": "Python 3",
   "language": "python",
   "name": "python3"
  },
  "language_info": {
   "codemirror_mode": {
    "name": "ipython",
    "version": 3
   },
   "file_extension": ".py",
   "mimetype": "text/x-python",
   "name": "python",
   "nbconvert_exporter": "python",
   "pygments_lexer": "ipython3",
   "version": "3.9.4"
  },
  "orig_nbformat": 4
 },
 "nbformat": 4,
 "nbformat_minor": 2
}
