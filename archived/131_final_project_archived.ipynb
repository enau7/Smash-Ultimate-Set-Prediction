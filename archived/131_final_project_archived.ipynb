{
 "cells": [
  {
   "cell_type": "code",
   "execution_count": 3,
   "metadata": {},
   "outputs": [],
   "source": [
    "import sqlite3\n",
    "import numpy as np\n",
    "import pandas as pd\n",
    "import json\n",
    "import math\n",
    "import DirectedGraph as DG\n",
    "from IPython.display import clear_output\n",
    "\n",
    "cnx = sqlite3.connect('ultimate_player_database.db')"
   ]
  },
  {
   "cell_type": "code",
   "execution_count": 4,
   "metadata": {},
   "outputs": [
    {
     "name": "stdout",
     "output_type": "stream",
     "text": [
      "['tournament_info', 'sets', 'players', 'ranking', 'ranking_seasons']\n",
      "TABLE: tournament_info\n",
      "Empty DataFrame\n",
      "Columns: [game, key, cleaned_name, source, tournament_name, tournament_event, season, rank, start, end, country, state, city, entrants, placings, losses, bracket_types, online, lat, lng]\n",
      "Index: []\n",
      "COUNT OF tournament_info: 98737\n",
      "\n",
      "TABLE: sets\n",
      "Empty DataFrame\n",
      "Columns: [key, game, tournament_key, winner_id, p1_id, p2_id, p1_score, p2_score, location_names, bracket_name, bracket_order, set_order, best_of, game_data]\n",
      "Index: []\n",
      "COUNT OF sets: 7250884\n",
      "\n",
      "TABLE: players\n",
      "Empty DataFrame\n",
      "Columns: [game, player_id, tag, all_tags, prefixes, social, country, state, region, c_country, c_state, c_region, placings, characters, alias]\n",
      "Index: []\n",
      "COUNT OF players: 487844\n",
      "\n",
      "TABLE: ranking\n",
      "Empty DataFrame\n",
      "Columns: [game, ranking_name, priority, region, seasons, tournaments, icon]\n",
      "Index: []\n",
      "COUNT OF ranking: 1\n",
      "\n",
      "TABLE: ranking_seasons\n",
      "Empty DataFrame\n",
      "Columns: [game, ranking_name, season, start, end, total, by_id, by_placing, final, name]\n",
      "Index: []\n",
      "COUNT OF ranking_seasons: 2\n",
      "\n"
     ]
    }
   ],
   "source": [
    "def sql_table(conn):\n",
    "   cursorObj = conn.cursor()\n",
    "   cursorObj.execute(\"SELECT name FROM sqlite_master WHERE type='table';\")\n",
    "   return([k[0] for k in cursorObj.fetchall()])\n",
    "\n",
    "tables = sql_table(cnx)\n",
    "\n",
    "print(tables)\n",
    "\n",
    "for k in tables: \n",
    "   print(\"TABLE: {tablename}\".format(tablename = k))\n",
    "   query = \"SELECT * FROM {tablename} WHERE 1=0\".format(tablename = k)\n",
    "   print(pd.read_sql_query(query, cnx))\n",
    "   count_query =  \"SELECT COUNT(*) FROM {tablename}\".format(tablename = k)\n",
    "   print(\"COUNT OF {tablename}: {count}\".format(tablename = k,count = pd.read_sql_query(count_query, cnx)['COUNT(*)'][0]))\n",
    "   print(\"\")"
   ]
  },
  {
   "cell_type": "code",
   "execution_count": 50,
   "metadata": {},
   "outputs": [
    {
     "name": "stdout",
     "output_type": "stream",
     "text": [
      "100 % complete\n"
     ]
    }
   ],
   "source": [
    "query = \"SELECT game_data FROM sets WHERE game_data != '[]'\"\n",
    "\n",
    "df = pd.read_sql_query(query, cnx)\n",
    "\n",
    "data = list()\n",
    "\n",
    "for k in range(len(df)):\n",
    "\n",
    "    if k % 50000 == 0:\n",
    "        clear_output()\n",
    "        print(\"{prop} % complete\".format(prop = math.floor(100*k/len(df))))\n",
    "\n",
    "    str = df.loc[k][0]\n",
    "\n",
    "    while True:\n",
    "        id1 = str.find(\"{\")\n",
    "        id2 = str.find(\"}\")\n",
    "        if (id1 != -1 ) and (id2 != -1):\n",
    "            new_data = json.loads(str[id1:id2+1])\n",
    "            data.append(new_data)\n",
    "        else:\n",
    "            break  \n",
    "        str = str[id2+1:]\n",
    "\n",
    "game_df = pd.DataFrame(data).fillna(-1)\n",
    "\n",
    "game_df.to_csv(\"game_data.csv\")\n",
    "\n",
    "clear_output()\n",
    "print(\"100 % complete\")\n"
   ]
  },
  {
   "cell_type": "code",
   "execution_count": 3,
   "metadata": {},
   "outputs": [],
   "source": [
    "# Reload data without re-computing:\n",
    "# IMPORTANT: MUST RELOAD AFTER 1st PASS IN ORDER TO HAVE HOMOGENOUS DATA TYPES\n",
    "game_df = pd.read_csv(\"game_data.csv\",dtype={'winner_id' : \"string\", 'loser_id' : \"string\", 'winner_score' : \"string\", 'loser_score' : \"string\"})"
   ]
  },
  {
   "cell_type": "code",
   "execution_count": 93,
   "metadata": {},
   "outputs": [
    {
     "name": "stdout",
     "output_type": "stream",
     "text": [
      "1667281\n"
     ]
    },
    {
     "ename": "ValueError",
     "evalue": "The truth value of a Series is ambiguous. Use a.empty, a.bool(), a.item(), a.any() or a.all().",
     "output_type": "error",
     "traceback": [
      "\u001b[1;31m---------------------------------------------------------------------------\u001b[0m",
      "\u001b[1;31mValueError\u001b[0m                                Traceback (most recent call last)",
      "Cell \u001b[1;32mIn[93], line 8\u001b[0m\n\u001b[0;32m      5\u001b[0m i \u001b[39m=\u001b[39m \u001b[39m0\u001b[39m\n\u001b[0;32m      7\u001b[0m \u001b[39mwhile\u001b[39;00m \u001b[39mTrue\u001b[39;00m:\n\u001b[1;32m----> 8\u001b[0m     sub_df \u001b[39m=\u001b[39m game_df\u001b[39m.\u001b[39mloc[game_df[\u001b[39m'\u001b[39m\u001b[39mwinner_id\u001b[39m\u001b[39m'\u001b[39m] \u001b[39m==\u001b[39m pivot \u001b[39mor\u001b[39;00m game_df[\u001b[39m'\u001b[39m\u001b[39mloser_id\u001b[39m\u001b[39m'\u001b[39m] \u001b[39m==\u001b[39m pivot]\n\u001b[0;32m      9\u001b[0m     player_subset \u001b[39m=\u001b[39m \u001b[39mset\u001b[39m(game_df\u001b[39m.\u001b[39mloc[game_df[\u001b[39m'\u001b[39m\u001b[39mwinner_id\u001b[39m\u001b[39m'\u001b[39m] \u001b[39m==\u001b[39m pivot][\u001b[39m'\u001b[39m\u001b[39mloser_id\u001b[39m\u001b[39m'\u001b[39m])\u001b[39m.\u001b[39munion(\u001b[39mset\u001b[39m(game_df\u001b[39m.\u001b[39mloc[game_df[\u001b[39m'\u001b[39m\u001b[39mloser_id\u001b[39m\u001b[39m'\u001b[39m] \u001b[39m==\u001b[39m pivot][\u001b[39m'\u001b[39m\u001b[39mwinner_id\u001b[39m\u001b[39m'\u001b[39m]))\u001b[39m.\u001b[39munion({pivot})\n\u001b[0;32m     11\u001b[0m     n \u001b[39m=\u001b[39m \u001b[39mlen\u001b[39m(player_subset)\n",
      "File \u001b[1;32mc:\\Users\\Colton\\AppData\\Local\\Programs\\Python\\Python39\\lib\\site-packages\\pandas\\core\\generic.py:1442\u001b[0m, in \u001b[0;36mNDFrame.__nonzero__\u001b[1;34m(self)\u001b[0m\n\u001b[0;32m   1440\u001b[0m \u001b[39m@final\u001b[39m\n\u001b[0;32m   1441\u001b[0m \u001b[39mdef\u001b[39;00m \u001b[39m__nonzero__\u001b[39m(\u001b[39mself\u001b[39m):\n\u001b[1;32m-> 1442\u001b[0m     \u001b[39mraise\u001b[39;00m \u001b[39mValueError\u001b[39;00m(\n\u001b[0;32m   1443\u001b[0m         \u001b[39mf\u001b[39m\u001b[39m\"\u001b[39m\u001b[39mThe truth value of a \u001b[39m\u001b[39m{\u001b[39;00m\u001b[39mtype\u001b[39m(\u001b[39mself\u001b[39m)\u001b[39m.\u001b[39m\u001b[39m__name__\u001b[39m\u001b[39m}\u001b[39;00m\u001b[39m is ambiguous. \u001b[39m\u001b[39m\"\u001b[39m\n\u001b[0;32m   1444\u001b[0m         \u001b[39m\"\u001b[39m\u001b[39mUse a.empty, a.bool(), a.item(), a.any() or a.all().\u001b[39m\u001b[39m\"\u001b[39m\n\u001b[0;32m   1445\u001b[0m     )\n",
      "\u001b[1;31mValueError\u001b[0m: The truth value of a Series is ambiguous. Use a.empty, a.bool(), a.item(), a.any() or a.all()."
     ]
    }
   ],
   "source": [
    "players = set(game_df['winner_id']).difference({np.nan})\n",
    "pivot = np.random.choice(tuple(players))\n",
    "print(pivot)\n",
    "\n",
    "i = 0\n",
    "\n",
    "while True:\n",
    "    sub_df = game_df.loc[(game_df['winner_id'] == pivot) or (game_df['loser_id'] == pivot)]\n",
    "    player_subset = set(game_df.loc[game_df['winner_id'] == pivot]['loser_id']).union(set(game_df.loc[game_df['loser_id'] == pivot]['winner_id'])).union({pivot})\n",
    "\n",
    "    n = len(player_subset)\n",
    "    clear_output()\n",
    "    print(\"Iteration: {it} \\n Size of State Space: {size}\\n\".format(it = i, size = n))\n",
    "\n",
    "    dg = DG.DirectedGraph().set_telep(0.01)\n",
    "\n",
    "    k = 0\n",
    "\n",
    "    for winner in player_subset:\n",
    "\n",
    "        if k % np.round(n/50) == 0:\n",
    "            print(\"{prop} % complete\".format(prop = math.floor(100*k/n)))\n",
    "        k += 1\n",
    "\n",
    "        data_bits = sub_df.loc[game_df['winner_id'] == winner]\n",
    "\n",
    "        for loser in data_bits['loser_id']:\n",
    "            if loser not in player_subset:\n",
    "                continue\n",
    "            dg.incLink(winner,loser,add=True)\n",
    "\n",
    "    stat = dg.stationary()\n",
    "    sort_stat = sorted(stat, key = lambda x: stat[x],reverse=True)\n",
    "    if pivot == sort_stat[1]:\n",
    "        clear_output()\n",
    "        print(\"Best Player: {p}\".format(p = pivot))\n",
    "        break\n",
    "    pivot = sort_stat[1]\n",
    "    i += 1"
   ]
  },
  {
   "cell_type": "code",
   "execution_count": 81,
   "metadata": {},
   "outputs": [
    {
     "name": "stdout",
     "output_type": "stream",
     "text": [
      "1057\n"
     ]
    }
   ],
   "source": [
    "print(len(dg.states))\n",
    "dg.set_telep(0.01)\n",
    "stat = dg.stationary()"
   ]
  },
  {
   "cell_type": "code",
   "execution_count": 87,
   "metadata": {},
   "outputs": [
    {
     "name": "stdout",
     "output_type": "stream",
     "text": [
      "[['539670' '0.02379322783535139']\n",
      " ['258371' '0.023669787857451854']\n",
      " ['152054' '0.023213158160436693']\n",
      " ...\n",
      " ['2052496' '9.51150442316902e-06']\n",
      " ['1966932' '9.51150442316902e-06']\n",
      " ['2041639' '9.51150442316902e-06']]\n",
      "252680\n",
      "11\n",
      "1057\n"
     ]
    }
   ],
   "source": [
    "sort_stat = sorted(stat, key = lambda x: stat[x],reverse=True)\n",
    "print(np.array([[k,stat[k]] for k in sort_stat]))\n",
    "print(pivot)\n",
    "print(sort_stat.index(pivot))\n",
    "print(len(sort_stat))\n"
   ]
  },
  {
   "cell_type": "code",
   "execution_count": null,
   "metadata": {},
   "outputs": [],
   "source": []
  }
 ],
 "metadata": {
  "kernelspec": {
   "display_name": "Python 3",
   "language": "python",
   "name": "python3"
  },
  "language_info": {
   "codemirror_mode": {
    "name": "ipython",
    "version": 3
   },
   "file_extension": ".py",
   "mimetype": "text/x-python",
   "name": "python",
   "nbconvert_exporter": "python",
   "pygments_lexer": "ipython3",
   "version": "3.9.4"
  },
  "orig_nbformat": 4,
  "vscode": {
   "interpreter": {
    "hash": "e300fba2566cee502a9e52cead2ead84e1444220c0a195fe24ff4762ac5fda36"
   }
  }
 },
 "nbformat": 4,
 "nbformat_minor": 2
}
