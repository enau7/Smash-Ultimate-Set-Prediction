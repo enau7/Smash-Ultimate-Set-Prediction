{
 "cells": [
  {
   "cell_type": "code",
   "execution_count": 10,
   "metadata": {},
   "outputs": [
    {
     "ename": "IndentationError",
     "evalue": "expected an indented block (Temp/ipykernel_10524/677185686.py, line 11)",
     "output_type": "error",
     "traceback": [
      "\u001b[1;36m  Cell \u001b[1;32mIn[10], line 11\u001b[1;36m\u001b[0m\n\u001b[1;33m    def addLink(s1,s2):\u001b[0m\n\u001b[1;37m    ^\u001b[0m\n\u001b[1;31mIndentationError\u001b[0m\u001b[1;31m:\u001b[0m expected an indented block\n"
     ]
    }
   ],
   "source": [
    "class DirectedGraph:\n",
    "    def __init__(self):\n",
    "        self.p = 0 # Teleportation constant\n",
    "        self.states = set()\n",
    "        self.adjacency = dict()\n",
    "    def set_teleportation(self,p):\n",
    "        if (p < 0) or (p > 1):\n",
    "            ValueError\n",
    "        self.p = p\n",
    "    def addState(self,key):\n",
    "        self.states.add(key)\n",
    "        self.adjacency[key] = {self.states : 0 for k in self.states}\n",
    "    def addLink(self,s1,s2):\n",
    "        self.adjacency[s1][s2] = 1\n",
    "    \n"
   ]
  },
  {
   "cell_type": "code",
   "execution_count": 5,
   "metadata": {},
   "outputs": [
    {
     "ename": "IndentationError",
     "evalue": "expected an indented block (Temp/ipykernel_10524/1985961383.py, line 15)",
     "output_type": "error",
     "traceback": [
      "\u001b[1;36m  Cell \u001b[1;32mIn[5], line 15\u001b[1;36m\u001b[0m\n\u001b[1;33m    for tournament in tournaments:\u001b[0m\n\u001b[1;37m                                  ^\u001b[0m\n\u001b[1;31mIndentationError\u001b[0m\u001b[1;31m:\u001b[0m expected an indented block\n"
     ]
    }
   ],
   "source": [
    "import math\n",
    "import pandas as pd\n",
    "\n",
    "arr1 = [2,3,4,9,5,1,6,7,8,0]\n",
    "arr2 = [5,0,9,2,3,1,7,6,8,4]\n",
    "Tournament1 = [{\"id\": k, \"placing\": arr1[k]} for k in range(10)]\n",
    "Tournament2 = [{\"id\": k, \"placing\": arr2[k]} for k in range(10)]\n",
    "\n",
    "print(Tournament1)\n",
    "print(\"\\n\")\n",
    "print(Tournament2)\n",
    "\n",
    "d = dict()\n",
    "tournaments = [Tournament1,Tournament2]\n",
    "for tournament in tournaments:\n",
    "    for entry in tournament:\n",
    "        d[entry[\"id\"]]"
   ]
  },
  {
   "cell_type": "code",
   "execution_count": null,
   "metadata": {},
   "outputs": [],
   "source": []
  }
 ],
 "metadata": {
  "kernelspec": {
   "display_name": "Python 3",
   "language": "python",
   "name": "python3"
  },
  "language_info": {
   "codemirror_mode": {
    "name": "ipython",
    "version": 3
   },
   "file_extension": ".py",
   "mimetype": "text/x-python",
   "name": "python",
   "nbconvert_exporter": "python",
   "pygments_lexer": "ipython3",
   "version": "3.9.4"
  },
  "orig_nbformat": 4,
  "vscode": {
   "interpreter": {
    "hash": "e300fba2566cee502a9e52cead2ead84e1444220c0a195fe24ff4762ac5fda36"
   }
  }
 },
 "nbformat": 4,
 "nbformat_minor": 2
}
